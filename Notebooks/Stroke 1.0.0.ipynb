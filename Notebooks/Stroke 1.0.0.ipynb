{
 "cells": [
  {
   "cell_type": "markdown",
   "id": "431c49c2",
   "metadata": {},
   "source": [
    "# **Imports**"
   ]
  },
  {
   "cell_type": "code",
   "execution_count": 50,
   "id": "c26cb7fc",
   "metadata": {},
   "outputs": [],
   "source": [
    "import pandas as pd\n",
    "import numpy as np\n",
    "import seaborn as sns\n",
    "import matplotlib as mpl\n",
    "import matplotlib.pyplot as plt\n",
    "\n",
    "from sklearn.preprocessing import LabelEncoder\n",
    "from sklearn.feature_selection import mutual_info_classif\n",
    "from sklearn.linear_model import LogisticRegression\n",
    "from sklearn.model_selection import train_test_split\n",
    "from sklearn.preprocessing import RobustScaler\n",
    "from sklearn.model_selection import GridSearchCV\n",
    "\n",
    "from sklearn.metrics import confusion_matrix, accuracy_score, classification_report\n",
    "\n",
    "from sklearn.neighbors import KNeighborsClassifier\n",
    "from sklearn.tree import DecisionTreeClassifier\n",
    "from sklearn.ensemble import AdaBoostClassifier\n",
    "import lightgbm as lgb\n",
    "import xgboost\n",
    "\n",
    "from imblearn.ensemble import EasyEnsembleClassifier\n",
    "from imblearn.ensemble import BalancedRandomForestClassifier\n",
    "from imblearn.over_sampling import SMOTE\n",
    "from imblearn.under_sampling import RandomUnderSampler\n",
    "\n",
    "from sklearn.ensemble import VotingClassifier\n",
    "from sklearn.svm import SVC\n",
    "from sklearn.ensemble import StackingClassifier\n"
   ]
  },
  {
   "cell_type": "markdown",
   "id": "c932c355",
   "metadata": {},
   "source": [
    "# **Functions**"
   ]
  },
  {
   "cell_type": "code",
   "execution_count": 51,
   "id": "c81aaa0f",
   "metadata": {},
   "outputs": [],
   "source": [
    "def read_file(file_path):\n",
    "    data = pd.read_csv(file_path, index_col=0)\n",
    "\n",
    "    return data"
   ]
  },
  {
   "cell_type": "code",
   "execution_count": 52,
   "id": "8b388b4e",
   "metadata": {},
   "outputs": [],
   "source": [
    "def label_encoding(data, column, mapping):\n",
    "    \n",
    "    data[column] = data[column].map(mapping)\n",
    "\n",
    "    return data[column]"
   ]
  },
  {
   "cell_type": "markdown",
   "id": "8118418b",
   "metadata": {},
   "source": [
    "# **Loading Data**"
   ]
  },
  {
   "cell_type": "code",
   "execution_count": 69,
   "id": "45012ede",
   "metadata": {},
   "outputs": [],
   "source": [
    "file_path = r\"C:\\Users\\Space\\Documents\\py\\Projects\\TuringCollege\\Stroke\\Stroke_New\\Data\\stroke.csv\"\n",
    "data = read_file(file_path)\n",
    "data = data.drop(columns=['ID'])"
   ]
  },
  {
   "cell_type": "markdown",
   "id": "f131b606",
   "metadata": {},
   "source": [
    "# **BMI Missing Values**"
   ]
  },
  {
   "cell_type": "code",
   "execution_count": 70,
   "id": "9dd5d6c7",
   "metadata": {},
   "outputs": [],
   "source": [
    "data['BMI'] = data['BMI'].fillna(0)\n",
    "data['BMI Available'] = 0  \n",
    "data.loc[data['BMI'] != 0, 'BMI Available'] = 1 "
   ]
  },
  {
   "cell_type": "markdown",
   "id": "d200a28c",
   "metadata": {},
   "source": [
    "# **Encoding**"
   ]
  },
  {
   "cell_type": "code",
   "execution_count": 71,
   "id": "deeb97aa",
   "metadata": {},
   "outputs": [],
   "source": [
    "gender_mapping = {'Male': 1, 'Female': 2}\n",
    "data ['Gender'] = label_encoding(data, 'Gender', gender_mapping)"
   ]
  },
  {
   "cell_type": "code",
   "execution_count": 72,
   "id": "10add192",
   "metadata": {},
   "outputs": [],
   "source": [
    "marriage_mapping = {'Yes': 1, 'No': 2}\n",
    "data ['Ever Married']= label_encoding(data, 'Ever Married', marriage_mapping)"
   ]
  },
  {
   "cell_type": "code",
   "execution_count": 73,
   "id": "ac449e20",
   "metadata": {},
   "outputs": [],
   "source": [
    "work_mapping = {'Private': 1, 'Self-employed': 2, 'Govt_job': 3, 'Never_worked': 4, 'children': 5}\n",
    "data['Work'] = label_encoding(data, 'Work', work_mapping)"
   ]
  },
  {
   "cell_type": "code",
   "execution_count": 74,
   "id": "ce9a60ff",
   "metadata": {},
   "outputs": [],
   "source": [
    "residence_mapping = {'Urban': 1, 'Rural': 2}\n",
    "data['Residence'] = label_encoding(data, 'Residence', residence_mapping)"
   ]
  },
  {
   "cell_type": "code",
   "execution_count": 75,
   "id": "c14eed55",
   "metadata": {},
   "outputs": [],
   "source": [
    "smoking_mapping = {'never smoked': 1, 'smokes': 2, 'formerly smoked': 3, 'Unknown': 4}\n",
    "data['Smoking'] = label_encoding(data, 'Smoking', smoking_mapping)"
   ]
  },
  {
   "cell_type": "markdown",
   "id": "a37e483e",
   "metadata": {},
   "source": [
    "# **Grouping by Age**"
   ]
  },
  {
   "cell_type": "code",
   "execution_count": null,
   "id": "1666164c",
   "metadata": {},
   "outputs": [],
   "source": [
    "gender_stroke = data.groupby('Age')['Stroke'].sum()"
   ]
  },
  {
   "cell_type": "code",
   "execution_count": 61,
   "id": "cb3a073c",
   "metadata": {},
   "outputs": [],
   "source": [
    "data = data[data['Age'] > 57]"
   ]
  },
  {
   "cell_type": "code",
   "execution_count": 76,
   "id": "42ad5e8b",
   "metadata": {},
   "outputs": [
    {
     "data": {
      "text/plain": [
       "(5109, 12)"
      ]
     },
     "execution_count": 76,
     "metadata": {},
     "output_type": "execute_result"
    }
   ],
   "source": [
    "data.shape"
   ]
  },
  {
   "cell_type": "markdown",
   "id": "6aee833a",
   "metadata": {},
   "source": [
    "# **Machine Learning**"
   ]
  },
  {
   "cell_type": "markdown",
   "id": "611b23d4",
   "metadata": {},
   "source": [
    "## **Scaling**"
   ]
  },
  {
   "cell_type": "code",
   "execution_count": 77,
   "id": "f43fc932",
   "metadata": {},
   "outputs": [],
   "source": [
    "target_column = 'Stroke'\n",
    "random_seed = 42"
   ]
  },
  {
   "cell_type": "code",
   "execution_count": 78,
   "id": "31b6fa40",
   "metadata": {},
   "outputs": [],
   "source": [
    "X = data.drop(columns=[target_column])  \n",
    "y = data[target_column]"
   ]
  },
  {
   "cell_type": "code",
   "execution_count": 79,
   "id": "dcedaf65",
   "metadata": {},
   "outputs": [],
   "source": [
    "X_train, X_test, y_train, y_test = train_test_split(X, y, test_size=0.2, random_state=random_seed, stratify=y)"
   ]
  },
  {
   "cell_type": "code",
   "execution_count": 81,
   "id": "7ee5d8bb",
   "metadata": {},
   "outputs": [],
   "source": [
    "columns_to_scale = ['Age', 'AVG Glucose', 'BMI']\n",
    "\n",
    "scaler = RobustScaler()\n",
    "\n",
    "X_train_scaled = X_train.copy()\n",
    "X_test_scaled = X_test.copy()\n",
    "\n",
    "X_train_scaled[columns_to_scale] = scaler.fit_transform(X_train[columns_to_scale])\n",
    "X_test_scaled[columns_to_scale] = scaler.transform(X_test[columns_to_scale])"
   ]
  },
  {
   "cell_type": "markdown",
   "id": "190c3ba2",
   "metadata": {},
   "source": [
    "## **Simple Models**"
   ]
  },
  {
   "cell_type": "code",
   "execution_count": null,
   "id": "4b18217e",
   "metadata": {},
   "outputs": [],
   "source": [
    "log = LogisticRegression(random_state=random_seed)\n",
    "log.fit(X_train_scaled, y_train)\n",
    "\n",
    "y_predict = log.predict(X_test_scaled)\n",
    "\n",
    "print(classification_report(y_test, y_predict, zero_division=0))"
   ]
  },
  {
   "cell_type": "code",
   "execution_count": null,
   "id": "0a75d0dd",
   "metadata": {},
   "outputs": [],
   "source": [
    "knn = KNeighborsClassifier()\n",
    "knn.fit(X_train_scaled, y_train)\n",
    "\n",
    "y_predict = knn.predict(X_test_scaled)\n",
    "\n",
    "print(classification_report(y_test, y_predict, zero_division=0))"
   ]
  },
  {
   "cell_type": "code",
   "execution_count": null,
   "id": "293ab587",
   "metadata": {},
   "outputs": [],
   "source": [
    "dt = DecisionTreeClassifier(random_state=random_seed)\n",
    "dt.fit(X_train_scaled, y_train)\n",
    "\n",
    "y_predict = dt.predict(X_test_scaled)\n",
    "\n",
    "print(classification_report(y_test, y_predict, zero_division=0))"
   ]
  },
  {
   "cell_type": "markdown",
   "id": "ee5d4eda",
   "metadata": {},
   "source": [
    "## **Ensemble Models**"
   ]
  },
  {
   "cell_type": "code",
   "execution_count": null,
   "id": "5f87b09d",
   "metadata": {},
   "outputs": [],
   "source": [
    "log_reg = LogisticRegression(random_state=random_seed)\n",
    "decision_tree = DecisionTreeClassifier(random_state=random_seed)\n",
    "svc = SVC(probability=True, random_state=random_seed) \n",
    "\n",
    "\n",
    "voting_clf = VotingClassifier(estimators=[('lr', log_reg), ('dt', decision_tree), ('svc', svc)], voting='soft')\n",
    "voting_clf.fit(X_train_scaled, y_train)\n",
    "\n",
    "y_predict = voting_clf.predict(X_test_scaled)\n",
    "\n",
    "print(classification_report(y_test, y_predict, zero_division=0))"
   ]
  },
  {
   "cell_type": "code",
   "execution_count": null,
   "id": "3f2b34d5",
   "metadata": {},
   "outputs": [],
   "source": [
    "estimators = [\n",
    "    ('lr', LogisticRegression(random_state=42)),\n",
    "    ('dt', DecisionTreeClassifier(random_state=42)),\n",
    "    ('svc', SVC(probability=True, random_state=42))\n",
    "]\n",
    "\n",
    "stacking_clf = StackingClassifier(estimators=estimators, final_estimator=LogisticRegression())\n",
    "\n",
    "y_predict = voting_clf.predict(X_test_scaled)\n",
    "\n",
    "print(classification_report(y_test, y_predict, zero_division=0))"
   ]
  },
  {
   "cell_type": "code",
   "execution_count": null,
   "id": "c8235194",
   "metadata": {},
   "outputs": [],
   "source": [
    "ada = AdaBoostClassifier(algorithm='SAMME', random_state=random_seed)\n",
    "ada.fit(X_train_scaled, y_train)\n",
    "\n",
    "y_predict = ada.predict(X_test_scaled)\n",
    "\n",
    "print(classification_report(y_test, y_predict, zero_division=0))"
   ]
  },
  {
   "cell_type": "code",
   "execution_count": null,
   "id": "7e158233",
   "metadata": {},
   "outputs": [],
   "source": [
    "lgb_model = lgb.LGBMClassifier(random_state=random_seed)\n",
    "lgb_model.fit(X_train_scaled, y_train)\n",
    "\n",
    "y_predict = lgb_model.predict(X_test_scaled)\n",
    "\n",
    "print(classification_report(y_test, y_predict, zero_division=0))"
   ]
  },
  {
   "cell_type": "code",
   "execution_count": null,
   "id": "305082c1",
   "metadata": {},
   "outputs": [],
   "source": [
    "xgb = xgboost.XGBClassifier()\n",
    "xgb.fit(X_train_scaled, y_train)\n",
    "\n",
    "y_predict = xgb.predict(X_test_scaled)\n",
    "\n",
    "print(classification_report(y_test, y_predict, zero_division=0))"
   ]
  },
  {
   "cell_type": "markdown",
   "id": "cea483b6",
   "metadata": {},
   "source": [
    "## **Balanced Models**    "
   ]
  },
  {
   "cell_type": "code",
   "execution_count": null,
   "id": "23de2146",
   "metadata": {},
   "outputs": [],
   "source": [
    "log = LogisticRegression(class_weight='balanced', random_state=random_seed)\n",
    "log.fit(X_train_scaled, y_train)\n",
    "\n",
    "y_predict = log.predict(X_test_scaled)\n",
    "\n",
    "print(classification_report(y_test, y_predict, zero_division=0))"
   ]
  },
  {
   "cell_type": "code",
   "execution_count": null,
   "id": "5edc6df8",
   "metadata": {},
   "outputs": [],
   "source": [
    "dt = DecisionTreeClassifier(class_weight='balanced', random_state=random_seed)\n",
    "dt.fit(X_train_scaled, y_train)\n",
    "\n",
    "y_predict = dt.predict(X_test_scaled)\n",
    "\n",
    "print(classification_report(y_test, y_predict, zero_division=0))"
   ]
  },
  {
   "cell_type": "code",
   "execution_count": null,
   "id": "5b765b95",
   "metadata": {},
   "outputs": [],
   "source": [
    "brf = BalancedRandomForestClassifier(class_weight='balanced', sampling_strategy='all', replacement = True, bootstrap = False, random_state=random_seed)\n",
    "brf.fit(X_train, y_train)\n",
    "\n",
    "y_predict = brf.predict(X_test_scaled)\n",
    "\n",
    "print(classification_report(y_test, y_predict, zero_division=0))\n"
   ]
  },
  {
   "cell_type": "code",
   "execution_count": null,
   "id": "52267087",
   "metadata": {},
   "outputs": [],
   "source": [
    "eec = EasyEnsembleClassifier()\n",
    "eec.fit(X_train, y_train)\n",
    "\n",
    "y_predict = eec.predict(X_test_scaled)\n",
    "\n",
    "print(classification_report(y_test, y_predict, zero_division=0))\n"
   ]
  },
  {
   "cell_type": "markdown",
   "id": "c5586c9c",
   "metadata": {},
   "source": [
    "## **Ensemble Models**"
   ]
  },
  {
   "cell_type": "code",
   "execution_count": null,
   "id": "ac41ca4a",
   "metadata": {},
   "outputs": [],
   "source": [
    "ada = AdaBoostClassifier(algorithm='SAMME', random_state=random_seed)\n",
    "ada.fit(X_train_scaled, y_train)\n",
    "\n",
    "y_predict = ada.predict(X_test_scaled)\n",
    "\n",
    "print(classification_report(y_test, y_predict, zero_division=0))"
   ]
  },
  {
   "cell_type": "code",
   "execution_count": null,
   "id": "d1788238",
   "metadata": {},
   "outputs": [],
   "source": [
    "lgb_model = lgb.LGBMClassifier(random_state=random_seed)\n",
    "lgb_model.fit(X_train_scaled, y_train)\n",
    "\n",
    "y_predict = lgb_model.predict(X_test_scaled)\n",
    "\n",
    "print(classification_report(y_test, y_predict, zero_division=0))"
   ]
  },
  {
   "cell_type": "code",
   "execution_count": null,
   "id": "526148cb",
   "metadata": {},
   "outputs": [],
   "source": [
    "xgb = xgboost.XGBClassifier()\n",
    "xgb.fit(X_train_scaled, y_train)\n",
    "\n",
    "y_predict = xgb.predict(X_test_scaled)\n",
    "\n",
    "print(classification_report(y_test, y_predict, zero_division=0))"
   ]
  },
  {
   "cell_type": "markdown",
   "id": "e4084258",
   "metadata": {},
   "source": [
    "# **AUC**"
   ]
  },
  {
   "cell_type": "code",
   "execution_count": 82,
   "id": "7f32369c",
   "metadata": {},
   "outputs": [
    {
     "name": "stdout",
     "output_type": "stream",
     "text": [
      "              precision    recall  f1-score   support\n",
      "\n",
      "           0       0.99      0.75      0.85       972\n",
      "           1       0.14      0.80      0.24        50\n",
      "\n",
      "    accuracy                           0.75      1022\n",
      "   macro avg       0.56      0.78      0.55      1022\n",
      "weighted avg       0.95      0.75      0.82      1022\n",
      "\n",
      "AUC Score: 0.83\n"
     ]
    },
    {
     "data": {
      "image/png": "[encoded data removed]",
      "text/plain": [
       "<Figure size 640x480 with 1 Axes>"
      ]
     },
     "metadata": {},
     "output_type": "display_data"
    }
   ],
   "source": [
    "from sklearn.linear_model import LogisticRegression\n",
    "from sklearn.metrics import classification_report, roc_auc_score, roc_curve\n",
    "import matplotlib.pyplot as plt\n",
    "\n",
    "# Assuming X_train_scaled, X_test_scaled, y_train, and y_test are already defined\n",
    "log = LogisticRegression(class_weight='balanced', random_state=random_seed)\n",
    "log.fit(X_train_scaled, y_train)\n",
    "\n",
    "y_predict = log.predict(X_test_scaled)\n",
    "y_predict_proba = log.predict_proba(X_test_scaled)[:, 1]  # Probability estimates for the positive class\n",
    "\n",
    "# Print classification report\n",
    "print(classification_report(y_test, y_predict, zero_division=0))\n",
    "\n",
    "# Calculate and print AUC score\n",
    "auc_score = roc_auc_score(y_test, y_predict_proba)\n",
    "print(f\"AUC Score: {auc_score:.2f}\")\n",
    "\n",
    "# Plot ROC Curve\n",
    "fpr, tpr, _ = roc_curve(y_test, y_predict_proba)\n",
    "plt.figure()\n",
    "plt.plot(fpr, tpr, color='blue', lw=2, label='ROC curve (area = %0.2f)' % auc_score)\n",
    "plt.plot([0, 1], [0, 1], color='gray', lw=2, linestyle='--')\n",
    "plt.xlim([0.0, 1.0])\n",
    "plt.ylim([0.0, 1.05])\n",
    "plt.xlabel('False Positive Rate')\n",
    "plt.ylabel('True Positive Rate')\n",
    "plt.title('Receiver Operating Characteristic')\n",
    "plt.legend(loc=\"lower right\")\n",
    "plt.show()\n"
   ]
  },
  {
   "cell_type": "code",
   "execution_count": 83,
   "id": "5304f543",
   "metadata": {},
   "outputs": [
    {
     "name": "stdout",
     "output_type": "stream",
     "text": [
      "              precision    recall  f1-score   support\n",
      "\n",
      "           0       0.99      0.75      0.85       972\n",
      "           1       0.14      0.80      0.24        50\n",
      "\n",
      "    accuracy                           0.75      1022\n",
      "   macro avg       0.56      0.78      0.55      1022\n",
      "weighted avg       0.95      0.75      0.82      1022\n",
      "\n",
      "AUC-PR Score: 0.21\n"
     ]
    },
    {
     "data": {
      "image/png": "[encoded data removed]",
      "text/plain": [
       "<Figure size 640x480 with 1 Axes>"
      ]
     },
     "metadata": {},
     "output_type": "display_data"
    }
   ],
   "source": [
    "from sklearn.linear_model import LogisticRegression\n",
    "from sklearn.metrics import classification_report, roc_auc_score, precision_recall_curve, auc\n",
    "import matplotlib.pyplot as plt\n",
    "\n",
    "# Assuming X_train_scaled, X_test_scaled, y_train, and y_test are already defined\n",
    "log = LogisticRegression(class_weight='balanced', random_state=random_seed)\n",
    "log.fit(X_train_scaled, y_train)\n",
    "\n",
    "y_predict = log.predict(X_test_scaled)\n",
    "y_predict_proba = log.predict_proba(X_test_scaled)[:, 1]  # Probability estimates for the positive class\n",
    "\n",
    "# Print classification report\n",
    "print(classification_report(y_test, y_predict, zero_division=0))\n",
    "\n",
    "# Calculate and print AUC-PR score\n",
    "precision, recall, _ = precision_recall_curve(y_test, y_predict_proba)\n",
    "auc_pr_score = auc(recall, precision)\n",
    "print(f\"AUC-PR Score: {auc_pr_score:.2f}\")\n",
    "\n",
    "# Plot Precision-Recall Curve\n",
    "plt.figure()\n",
    "plt.plot(recall, precision, color='blue', lw=2, label='PR curve (area = %0.2f)' % auc_pr_score)\n",
    "plt.xlabel('Recall')\n",
    "plt.ylabel('Precision')\n",
    "plt.title('Precision-Recall Curve')\n",
    "plt.legend(loc=\"lower left\")\n",
    "plt.show()\n"
   ]
  }
 ],
 "metadata": {
  "kernelspec": {
   "display_name": "Python 3 (ipykernel)",
   "language": "python",
   "name": "python3"
  },
  "language_info": {
   "codemirror_mode": {
    "name": "ipython",
    "version": 3
   },
   "file_extension": ".py",
   "mimetype": "text/x-python",
   "name": "python",
   "nbconvert_exporter": "python",
   "pygments_lexer": "ipython3",
   "version": "3.12.3"
  },
  "toc": {
   "base_numbering": 1,
   "nav_menu": {},
   "number_sections": true,
   "sideBar": true,
   "skip_h1_title": false,
   "title_cell": "Table of Contents",
   "title_sidebar": "Contents",
   "toc_cell": false,
   "toc_position": {},
   "toc_section_display": true,
   "toc_window_display": false
  }
 },
 "nbformat": 4,
 "nbformat_minor": 5
}
