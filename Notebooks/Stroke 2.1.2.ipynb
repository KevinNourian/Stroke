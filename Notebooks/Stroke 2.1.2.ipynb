{
 "cells": [
  {
   "cell_type": "markdown",
   "id": "25aaf1b5",
   "metadata": {},
   "source": [
    "# **Stroke**"
   ]
  },
  {
   "cell_type": "markdown",
   "id": "7a6c8da2",
   "metadata": {},
   "source": [
    "# **Libraries**"
   ]
  },
  {
   "cell_type": "code",
   "execution_count": 1,
   "id": "73e35264",
   "metadata": {},
   "outputs": [],
   "source": [
    "import pandas as pd\n",
    "import numpy as np\n",
    "import seaborn as sns\n",
    "import matplotlib as mpl\n",
    "import matplotlib.pyplot as plt\n",
    "\n",
    "from feature_engine.imputation import AddMissingIndicator\n",
    "from feature_engine.imputation import MeanMedianImputer\n",
    "from sklearn.preprocessing import LabelEncoder\n",
    "\n",
    "from statsmodels.stats.proportion import proportions_ztest\n",
    "from sklearn.utils import shuffle\n",
    "from sklearn.model_selection import train_test_split\n",
    "\n",
    "import warnings"
   ]
  },
  {
   "cell_type": "markdown",
   "id": "driven-arlington",
   "metadata": {},
   "source": [
    "# **Display Parameters**"
   ]
  },
  {
   "cell_type": "markdown",
   "id": "double-logging",
   "metadata": {},
   "source": [
    "## **Display Features**"
   ]
  },
  {
   "cell_type": "code",
   "execution_count": 2,
   "id": "driven-element",
   "metadata": {},
   "outputs": [],
   "source": [
    "%matplotlib inline\n",
    "pd.options.display.max_rows = 300000\n",
    "pd.options.display.max_columns = 999\n",
    "pd.options.display.max_colwidth = 500\n",
    "\n",
    "warnings.filterwarnings(\"ignore\")"
   ]
  },
  {
   "cell_type": "markdown",
   "id": "political-officer",
   "metadata": {},
   "source": [
    "## **Colors**"
   ]
  },
  {
   "cell_type": "code",
   "execution_count": 5,
   "id": "acquired-union",
   "metadata": {},
   "outputs": [],
   "source": [
    "color_1 = \"bisque\"\n",
    "color_2 = \"crimson\"\n",
    "color_3 = \"orangered\"\n",
    "color_4 = \"lightcoral\"\n",
    "color_5 = \"royalblue\"\n",
    "color_6 = \"pink\"\n",
    "color_7 = \"indianred\"\n",
    "color_8 = \"slategrey\"\n",
    "color_9 = \"salmon\"\n",
    "color_10 = \"beige\"\n",
    "color_11 = \"coral\"\n",
    "color_13 = \"grey\"\n",
    "color_14 = \"tan\"\n",
    "color_15 = \"wheat\"\n",
    "color_16 = \"tomato\""
   ]
  },
  {
   "cell_type": "markdown",
   "id": "incredible-stupid",
   "metadata": {},
   "source": [
    "## **Figure Parameters**"
   ]
  },
  {
   "cell_type": "code",
   "execution_count": 6,
   "id": "secret-canadian",
   "metadata": {},
   "outputs": [],
   "source": [
    "size = 20\n",
    "\n",
    "params = {\n",
    "    \"font.family\": \"Times New Roman\",\n",
    "    \"font.size\": size,\n",
    "    \"axes.labelsize\": size,\n",
    "    \"xtick.labelsize\": size * 0.75,\n",
    "    \"ytick.labelsize\": size * 0.75,\n",
    "    \"figure.titlesize\": size * 1.5,\n",
    "    \"axes.titlesize\": size * 1.5,\n",
    "    \"axes.titlepad\": size,\n",
    "    \"axes.labelpad\": size - 10,\n",
    "    \"lines.linewidth\": 2,\n",
    "    \"axes.spines.top\": False,\n",
    "    \"axes.spines.right\": False,\n",
    "    \"axes.spines.left\": False,\n",
    "    \"axes.spines.bottom\": False,\n",
    "    \"legend.fontsize\": size,\n",
    "    \"figure.figsize\": (10, 6),\n",
    "}"
   ]
  },
  {
   "cell_type": "markdown",
   "id": "f169bb5d",
   "metadata": {},
   "source": [
    "# **Data Overview and Preprocessing**"
   ]
  },
  {
   "cell_type": "code",
   "execution_count": 297,
   "id": "e358ddcd",
   "metadata": {},
   "outputs": [],
   "source": [
    "data = pd.read_csv(\n",
    "    r\"C:\\Users\\Dell\\Documents\\Stroke\\Data\\stroke.csv\",\n",
    "    index_col=0\n",
    ")\n",
    "\n",
    "data = data.drop(columns=['ID'])\n",
    "target = 'Stroke'"
   ]
  },
  {
   "cell_type": "code",
   "execution_count": 265,
   "id": "4889fdc1",
   "metadata": {},
   "outputs": [
    {
     "data": {
      "text/html": [
       "<div>\n",
       "<style scoped>\n",
       "    .dataframe tbody tr th:only-of-type {\n",
       "        vertical-align: middle;\n",
       "    }\n",
       "\n",
       "    .dataframe tbody tr th {\n",
       "        vertical-align: top;\n",
       "    }\n",
       "\n",
       "    .dataframe thead th {\n",
       "        text-align: right;\n",
       "    }\n",
       "</style>\n",
       "<table border=\"1\" class=\"dataframe\">\n",
       "  <thead>\n",
       "    <tr style=\"text-align: right;\">\n",
       "      <th></th>\n",
       "      <th>Gender</th>\n",
       "      <th>Age</th>\n",
       "      <th>Hypertension</th>\n",
       "      <th>Heart Disease</th>\n",
       "      <th>Ever Married</th>\n",
       "      <th>Work</th>\n",
       "      <th>Residence</th>\n",
       "      <th>AVG Glucose</th>\n",
       "      <th>BMI</th>\n",
       "      <th>Smoking</th>\n",
       "      <th>Stroke</th>\n",
       "    </tr>\n",
       "  </thead>\n",
       "  <tbody>\n",
       "    <tr>\n",
       "      <th>0</th>\n",
       "      <td>Male</td>\n",
       "      <td>67.0</td>\n",
       "      <td>0</td>\n",
       "      <td>1</td>\n",
       "      <td>Yes</td>\n",
       "      <td>Private</td>\n",
       "      <td>Urban</td>\n",
       "      <td>228.69</td>\n",
       "      <td>36.6</td>\n",
       "      <td>formerly smoked</td>\n",
       "      <td>1</td>\n",
       "    </tr>\n",
       "    <tr>\n",
       "      <th>1</th>\n",
       "      <td>Female</td>\n",
       "      <td>61.0</td>\n",
       "      <td>0</td>\n",
       "      <td>0</td>\n",
       "      <td>Yes</td>\n",
       "      <td>Self-employed</td>\n",
       "      <td>Rural</td>\n",
       "      <td>202.21</td>\n",
       "      <td>NaN</td>\n",
       "      <td>never smoked</td>\n",
       "      <td>1</td>\n",
       "    </tr>\n",
       "    <tr>\n",
       "      <th>2</th>\n",
       "      <td>Male</td>\n",
       "      <td>80.0</td>\n",
       "      <td>0</td>\n",
       "      <td>1</td>\n",
       "      <td>Yes</td>\n",
       "      <td>Private</td>\n",
       "      <td>Rural</td>\n",
       "      <td>105.92</td>\n",
       "      <td>32.5</td>\n",
       "      <td>never smoked</td>\n",
       "      <td>1</td>\n",
       "    </tr>\n",
       "    <tr>\n",
       "      <th>3</th>\n",
       "      <td>Female</td>\n",
       "      <td>49.0</td>\n",
       "      <td>0</td>\n",
       "      <td>0</td>\n",
       "      <td>Yes</td>\n",
       "      <td>Private</td>\n",
       "      <td>Urban</td>\n",
       "      <td>171.23</td>\n",
       "      <td>34.4</td>\n",
       "      <td>smokes</td>\n",
       "      <td>1</td>\n",
       "    </tr>\n",
       "    <tr>\n",
       "      <th>4</th>\n",
       "      <td>Female</td>\n",
       "      <td>79.0</td>\n",
       "      <td>1</td>\n",
       "      <td>0</td>\n",
       "      <td>Yes</td>\n",
       "      <td>Self-employed</td>\n",
       "      <td>Rural</td>\n",
       "      <td>174.12</td>\n",
       "      <td>24.0</td>\n",
       "      <td>never smoked</td>\n",
       "      <td>1</td>\n",
       "    </tr>\n",
       "  </tbody>\n",
       "</table>\n",
       "</div>"
      ],
      "text/plain": [
       "   Gender   Age  Hypertension  Heart Disease Ever Married           Work  \\\n",
       "0    Male  67.0             0              1          Yes        Private   \n",
       "1  Female  61.0             0              0          Yes  Self-employed   \n",
       "2    Male  80.0             0              1          Yes        Private   \n",
       "3  Female  49.0             0              0          Yes        Private   \n",
       "4  Female  79.0             1              0          Yes  Self-employed   \n",
       "\n",
       "  Residence  AVG Glucose   BMI          Smoking  Stroke  \n",
       "0     Urban       228.69  36.6  formerly smoked       1  \n",
       "1     Rural       202.21   NaN     never smoked       1  \n",
       "2     Rural       105.92  32.5     never smoked       1  \n",
       "3     Urban       171.23  34.4           smokes       1  \n",
       "4     Rural       174.12  24.0     never smoked       1  "
      ]
     },
     "execution_count": 265,
     "metadata": {},
     "output_type": "execute_result"
    }
   ],
   "source": [
    "data.head()"
   ]
  },
  {
   "cell_type": "markdown",
   "id": "20f02001",
   "metadata": {},
   "source": [
    "## **Number of Rows and Columns**"
   ]
  },
  {
   "cell_type": "code",
   "execution_count": 65,
   "id": "1a2378ff",
   "metadata": {},
   "outputs": [
    {
     "data": {
      "text/plain": [
       "(5109, 11)"
      ]
     },
     "execution_count": 65,
     "metadata": {},
     "output_type": "execute_result"
    }
   ],
   "source": [
    "data.shape"
   ]
  },
  {
   "cell_type": "markdown",
   "id": "9a6bebd1",
   "metadata": {},
   "source": [
    "## **Missing Data**"
   ]
  },
  {
   "cell_type": "code",
   "execution_count": 267,
   "id": "46fc6160",
   "metadata": {},
   "outputs": [
    {
     "data": {
      "text/plain": [
       "Gender             0\n",
       "Age                0\n",
       "Hypertension       0\n",
       "Heart Disease      0\n",
       "Ever Married       0\n",
       "Work               0\n",
       "Residence          0\n",
       "AVG Glucose        0\n",
       "BMI              201\n",
       "Smoking            0\n",
       "Stroke             0\n",
       "dtype: int64"
      ]
     },
     "execution_count": 267,
     "metadata": {},
     "output_type": "execute_result"
    }
   ],
   "source": [
    "data.isnull().sum(axis=0)"
   ]
  },
  {
   "cell_type": "markdown",
   "id": "bcaec277",
   "metadata": {},
   "source": [
    "# **Impute missing values for BMI Data**"
   ]
  },
  {
   "cell_type": "markdown",
   "id": "2f828eb6",
   "metadata": {},
   "source": [
    "## **Add Missing Indicator**"
   ]
  },
  {
   "cell_type": "code",
   "execution_count": 298,
   "id": "bec256ba",
   "metadata": {},
   "outputs": [],
   "source": [
    "ami = AddMissingIndicator()\n",
    "engineered_data = ami.fit_transform(data)\n",
    "\n",
    "engineered_data = engineered_data.rename(columns={'BMI_na': 'BMI Missing'})\n",
    "data = engineered_data.drop(columns=['BMI Missing'])"
   ]
  },
  {
   "cell_type": "code",
   "execution_count": 299,
   "id": "c4431867",
   "metadata": {},
   "outputs": [
    {
     "data": {
      "text/html": [
       "<div>\n",
       "<style scoped>\n",
       "    .dataframe tbody tr th:only-of-type {\n",
       "        vertical-align: middle;\n",
       "    }\n",
       "\n",
       "    .dataframe tbody tr th {\n",
       "        vertical-align: top;\n",
       "    }\n",
       "\n",
       "    .dataframe thead th {\n",
       "        text-align: right;\n",
       "    }\n",
       "</style>\n",
       "<table border=\"1\" class=\"dataframe\">\n",
       "  <thead>\n",
       "    <tr style=\"text-align: right;\">\n",
       "      <th></th>\n",
       "      <th>Gender</th>\n",
       "      <th>Age</th>\n",
       "      <th>Hypertension</th>\n",
       "      <th>Heart Disease</th>\n",
       "      <th>Ever Married</th>\n",
       "      <th>Work</th>\n",
       "      <th>Residence</th>\n",
       "      <th>AVG Glucose</th>\n",
       "      <th>BMI</th>\n",
       "      <th>Smoking</th>\n",
       "      <th>Stroke</th>\n",
       "    </tr>\n",
       "  </thead>\n",
       "  <tbody>\n",
       "    <tr>\n",
       "      <th>0</th>\n",
       "      <td>Male</td>\n",
       "      <td>67.0</td>\n",
       "      <td>0</td>\n",
       "      <td>1</td>\n",
       "      <td>Yes</td>\n",
       "      <td>Private</td>\n",
       "      <td>Urban</td>\n",
       "      <td>228.69</td>\n",
       "      <td>36.6</td>\n",
       "      <td>formerly smoked</td>\n",
       "      <td>1</td>\n",
       "    </tr>\n",
       "    <tr>\n",
       "      <th>1</th>\n",
       "      <td>Female</td>\n",
       "      <td>61.0</td>\n",
       "      <td>0</td>\n",
       "      <td>0</td>\n",
       "      <td>Yes</td>\n",
       "      <td>Self-employed</td>\n",
       "      <td>Rural</td>\n",
       "      <td>202.21</td>\n",
       "      <td>NaN</td>\n",
       "      <td>never smoked</td>\n",
       "      <td>1</td>\n",
       "    </tr>\n",
       "    <tr>\n",
       "      <th>2</th>\n",
       "      <td>Male</td>\n",
       "      <td>80.0</td>\n",
       "      <td>0</td>\n",
       "      <td>1</td>\n",
       "      <td>Yes</td>\n",
       "      <td>Private</td>\n",
       "      <td>Rural</td>\n",
       "      <td>105.92</td>\n",
       "      <td>32.5</td>\n",
       "      <td>never smoked</td>\n",
       "      <td>1</td>\n",
       "    </tr>\n",
       "    <tr>\n",
       "      <th>3</th>\n",
       "      <td>Female</td>\n",
       "      <td>49.0</td>\n",
       "      <td>0</td>\n",
       "      <td>0</td>\n",
       "      <td>Yes</td>\n",
       "      <td>Private</td>\n",
       "      <td>Urban</td>\n",
       "      <td>171.23</td>\n",
       "      <td>34.4</td>\n",
       "      <td>smokes</td>\n",
       "      <td>1</td>\n",
       "    </tr>\n",
       "    <tr>\n",
       "      <th>4</th>\n",
       "      <td>Female</td>\n",
       "      <td>79.0</td>\n",
       "      <td>1</td>\n",
       "      <td>0</td>\n",
       "      <td>Yes</td>\n",
       "      <td>Self-employed</td>\n",
       "      <td>Rural</td>\n",
       "      <td>174.12</td>\n",
       "      <td>24.0</td>\n",
       "      <td>never smoked</td>\n",
       "      <td>1</td>\n",
       "    </tr>\n",
       "  </tbody>\n",
       "</table>\n",
       "</div>"
      ],
      "text/plain": [
       "   Gender   Age  Hypertension  Heart Disease Ever Married           Work  \\\n",
       "0    Male  67.0             0              1          Yes        Private   \n",
       "1  Female  61.0             0              0          Yes  Self-employed   \n",
       "2    Male  80.0             0              1          Yes        Private   \n",
       "3  Female  49.0             0              0          Yes        Private   \n",
       "4  Female  79.0             1              0          Yes  Self-employed   \n",
       "\n",
       "  Residence  AVG Glucose   BMI          Smoking  Stroke  \n",
       "0     Urban       228.69  36.6  formerly smoked       1  \n",
       "1     Rural       202.21   NaN     never smoked       1  \n",
       "2     Rural       105.92  32.5     never smoked       1  \n",
       "3     Urban       171.23  34.4           smokes       1  \n",
       "4     Rural       174.12  24.0     never smoked       1  "
      ]
     },
     "execution_count": 299,
     "metadata": {},
     "output_type": "execute_result"
    }
   ],
   "source": [
    "data.head()"
   ]
  },
  {
   "cell_type": "code",
   "execution_count": 300,
   "id": "ec6a9477",
   "metadata": {},
   "outputs": [
    {
     "data": {
      "text/html": [
       "<div>\n",
       "<style scoped>\n",
       "    .dataframe tbody tr th:only-of-type {\n",
       "        vertical-align: middle;\n",
       "    }\n",
       "\n",
       "    .dataframe tbody tr th {\n",
       "        vertical-align: top;\n",
       "    }\n",
       "\n",
       "    .dataframe thead th {\n",
       "        text-align: right;\n",
       "    }\n",
       "</style>\n",
       "<table border=\"1\" class=\"dataframe\">\n",
       "  <thead>\n",
       "    <tr style=\"text-align: right;\">\n",
       "      <th></th>\n",
       "      <th>Gender</th>\n",
       "      <th>Age</th>\n",
       "      <th>Hypertension</th>\n",
       "      <th>Heart Disease</th>\n",
       "      <th>Ever Married</th>\n",
       "      <th>Work</th>\n",
       "      <th>Residence</th>\n",
       "      <th>AVG Glucose</th>\n",
       "      <th>BMI</th>\n",
       "      <th>Smoking</th>\n",
       "      <th>Stroke</th>\n",
       "      <th>BMI Missing</th>\n",
       "    </tr>\n",
       "  </thead>\n",
       "  <tbody>\n",
       "    <tr>\n",
       "      <th>0</th>\n",
       "      <td>Male</td>\n",
       "      <td>67.0</td>\n",
       "      <td>0</td>\n",
       "      <td>1</td>\n",
       "      <td>Yes</td>\n",
       "      <td>Private</td>\n",
       "      <td>Urban</td>\n",
       "      <td>228.69</td>\n",
       "      <td>36.6</td>\n",
       "      <td>formerly smoked</td>\n",
       "      <td>1</td>\n",
       "      <td>0</td>\n",
       "    </tr>\n",
       "    <tr>\n",
       "      <th>1</th>\n",
       "      <td>Female</td>\n",
       "      <td>61.0</td>\n",
       "      <td>0</td>\n",
       "      <td>0</td>\n",
       "      <td>Yes</td>\n",
       "      <td>Self-employed</td>\n",
       "      <td>Rural</td>\n",
       "      <td>202.21</td>\n",
       "      <td>NaN</td>\n",
       "      <td>never smoked</td>\n",
       "      <td>1</td>\n",
       "      <td>1</td>\n",
       "    </tr>\n",
       "    <tr>\n",
       "      <th>2</th>\n",
       "      <td>Male</td>\n",
       "      <td>80.0</td>\n",
       "      <td>0</td>\n",
       "      <td>1</td>\n",
       "      <td>Yes</td>\n",
       "      <td>Private</td>\n",
       "      <td>Rural</td>\n",
       "      <td>105.92</td>\n",
       "      <td>32.5</td>\n",
       "      <td>never smoked</td>\n",
       "      <td>1</td>\n",
       "      <td>0</td>\n",
       "    </tr>\n",
       "    <tr>\n",
       "      <th>3</th>\n",
       "      <td>Female</td>\n",
       "      <td>49.0</td>\n",
       "      <td>0</td>\n",
       "      <td>0</td>\n",
       "      <td>Yes</td>\n",
       "      <td>Private</td>\n",
       "      <td>Urban</td>\n",
       "      <td>171.23</td>\n",
       "      <td>34.4</td>\n",
       "      <td>smokes</td>\n",
       "      <td>1</td>\n",
       "      <td>0</td>\n",
       "    </tr>\n",
       "    <tr>\n",
       "      <th>4</th>\n",
       "      <td>Female</td>\n",
       "      <td>79.0</td>\n",
       "      <td>1</td>\n",
       "      <td>0</td>\n",
       "      <td>Yes</td>\n",
       "      <td>Self-employed</td>\n",
       "      <td>Rural</td>\n",
       "      <td>174.12</td>\n",
       "      <td>24.0</td>\n",
       "      <td>never smoked</td>\n",
       "      <td>1</td>\n",
       "      <td>0</td>\n",
       "    </tr>\n",
       "  </tbody>\n",
       "</table>\n",
       "</div>"
      ],
      "text/plain": [
       "   Gender   Age  Hypertension  Heart Disease Ever Married           Work  \\\n",
       "0    Male  67.0             0              1          Yes        Private   \n",
       "1  Female  61.0             0              0          Yes  Self-employed   \n",
       "2    Male  80.0             0              1          Yes        Private   \n",
       "3  Female  49.0             0              0          Yes        Private   \n",
       "4  Female  79.0             1              0          Yes  Self-employed   \n",
       "\n",
       "  Residence  AVG Glucose   BMI          Smoking  Stroke  BMI Missing  \n",
       "0     Urban       228.69  36.6  formerly smoked       1            0  \n",
       "1     Rural       202.21   NaN     never smoked       1            1  \n",
       "2     Rural       105.92  32.5     never smoked       1            0  \n",
       "3     Urban       171.23  34.4           smokes       1            0  \n",
       "4     Rural       174.12  24.0     never smoked       1            0  "
      ]
     },
     "execution_count": 300,
     "metadata": {},
     "output_type": "execute_result"
    }
   ],
   "source": [
    "engineered_data.head()"
   ]
  },
  {
   "cell_type": "markdown",
   "id": "e2dff462",
   "metadata": {},
   "source": [
    "## **Median Imputer**"
   ]
  },
  {
   "cell_type": "code",
   "execution_count": 301,
   "id": "ada87b6d",
   "metadata": {},
   "outputs": [],
   "source": [
    "mmi = MeanMedianImputer(imputation_method='median')\n",
    "engineered_data = mmi.fit_transform(engineered_data)"
   ]
  },
  {
   "cell_type": "code",
   "execution_count": 302,
   "id": "20ca8c7e",
   "metadata": {},
   "outputs": [
    {
     "data": {
      "text/plain": [
       "Gender           0\n",
       "Age              0\n",
       "Hypertension     0\n",
       "Heart Disease    0\n",
       "Ever Married     0\n",
       "Work             0\n",
       "Residence        0\n",
       "AVG Glucose      0\n",
       "BMI              0\n",
       "Smoking          0\n",
       "Stroke           0\n",
       "BMI Missing      0\n",
       "dtype: int64"
      ]
     },
     "execution_count": 302,
     "metadata": {},
     "output_type": "execute_result"
    }
   ],
   "source": [
    "engineered_data.isnull().sum(axis=0)"
   ]
  },
  {
   "cell_type": "code",
   "execution_count": 303,
   "id": "6c8a270e",
   "metadata": {},
   "outputs": [
    {
     "data": {
      "text/html": [
       "<div>\n",
       "<style scoped>\n",
       "    .dataframe tbody tr th:only-of-type {\n",
       "        vertical-align: middle;\n",
       "    }\n",
       "\n",
       "    .dataframe tbody tr th {\n",
       "        vertical-align: top;\n",
       "    }\n",
       "\n",
       "    .dataframe thead th {\n",
       "        text-align: right;\n",
       "    }\n",
       "</style>\n",
       "<table border=\"1\" class=\"dataframe\">\n",
       "  <thead>\n",
       "    <tr style=\"text-align: right;\">\n",
       "      <th></th>\n",
       "      <th>Gender</th>\n",
       "      <th>Age</th>\n",
       "      <th>Hypertension</th>\n",
       "      <th>Heart Disease</th>\n",
       "      <th>Ever Married</th>\n",
       "      <th>Work</th>\n",
       "      <th>Residence</th>\n",
       "      <th>AVG Glucose</th>\n",
       "      <th>BMI</th>\n",
       "      <th>Smoking</th>\n",
       "      <th>Stroke</th>\n",
       "      <th>BMI Missing</th>\n",
       "    </tr>\n",
       "  </thead>\n",
       "  <tbody>\n",
       "    <tr>\n",
       "      <th>0</th>\n",
       "      <td>Male</td>\n",
       "      <td>67.0</td>\n",
       "      <td>0</td>\n",
       "      <td>1</td>\n",
       "      <td>Yes</td>\n",
       "      <td>Private</td>\n",
       "      <td>Urban</td>\n",
       "      <td>228.69</td>\n",
       "      <td>36.6</td>\n",
       "      <td>formerly smoked</td>\n",
       "      <td>1</td>\n",
       "      <td>0</td>\n",
       "    </tr>\n",
       "    <tr>\n",
       "      <th>1</th>\n",
       "      <td>Female</td>\n",
       "      <td>61.0</td>\n",
       "      <td>0</td>\n",
       "      <td>0</td>\n",
       "      <td>Yes</td>\n",
       "      <td>Self-employed</td>\n",
       "      <td>Rural</td>\n",
       "      <td>202.21</td>\n",
       "      <td>28.1</td>\n",
       "      <td>never smoked</td>\n",
       "      <td>1</td>\n",
       "      <td>1</td>\n",
       "    </tr>\n",
       "    <tr>\n",
       "      <th>2</th>\n",
       "      <td>Male</td>\n",
       "      <td>80.0</td>\n",
       "      <td>0</td>\n",
       "      <td>1</td>\n",
       "      <td>Yes</td>\n",
       "      <td>Private</td>\n",
       "      <td>Rural</td>\n",
       "      <td>105.92</td>\n",
       "      <td>32.5</td>\n",
       "      <td>never smoked</td>\n",
       "      <td>1</td>\n",
       "      <td>0</td>\n",
       "    </tr>\n",
       "    <tr>\n",
       "      <th>3</th>\n",
       "      <td>Female</td>\n",
       "      <td>49.0</td>\n",
       "      <td>0</td>\n",
       "      <td>0</td>\n",
       "      <td>Yes</td>\n",
       "      <td>Private</td>\n",
       "      <td>Urban</td>\n",
       "      <td>171.23</td>\n",
       "      <td>34.4</td>\n",
       "      <td>smokes</td>\n",
       "      <td>1</td>\n",
       "      <td>0</td>\n",
       "    </tr>\n",
       "    <tr>\n",
       "      <th>4</th>\n",
       "      <td>Female</td>\n",
       "      <td>79.0</td>\n",
       "      <td>1</td>\n",
       "      <td>0</td>\n",
       "      <td>Yes</td>\n",
       "      <td>Self-employed</td>\n",
       "      <td>Rural</td>\n",
       "      <td>174.12</td>\n",
       "      <td>24.0</td>\n",
       "      <td>never smoked</td>\n",
       "      <td>1</td>\n",
       "      <td>0</td>\n",
       "    </tr>\n",
       "  </tbody>\n",
       "</table>\n",
       "</div>"
      ],
      "text/plain": [
       "   Gender   Age  Hypertension  Heart Disease Ever Married           Work  \\\n",
       "0    Male  67.0             0              1          Yes        Private   \n",
       "1  Female  61.0             0              0          Yes  Self-employed   \n",
       "2    Male  80.0             0              1          Yes        Private   \n",
       "3  Female  49.0             0              0          Yes        Private   \n",
       "4  Female  79.0             1              0          Yes  Self-employed   \n",
       "\n",
       "  Residence  AVG Glucose   BMI          Smoking  Stroke  BMI Missing  \n",
       "0     Urban       228.69  36.6  formerly smoked       1            0  \n",
       "1     Rural       202.21  28.1     never smoked       1            1  \n",
       "2     Rural       105.92  32.5     never smoked       1            0  \n",
       "3     Urban       171.23  34.4           smokes       1            0  \n",
       "4     Rural       174.12  24.0     never smoked       1            0  "
      ]
     },
     "execution_count": 303,
     "metadata": {},
     "output_type": "execute_result"
    }
   ],
   "source": [
    "engineered_data.head()"
   ]
  },
  {
   "cell_type": "markdown",
   "id": "3ba2c8f9",
   "metadata": {},
   "source": [
    "## **Data Types**"
   ]
  },
  {
   "cell_type": "code",
   "execution_count": 274,
   "id": "9a2c55bb",
   "metadata": {
    "scrolled": false
   },
   "outputs": [
    {
     "data": {
      "text/plain": [
       "Gender            object\n",
       "Age              float64\n",
       "Hypertension       int64\n",
       "Heart Disease      int64\n",
       "Ever Married      object\n",
       "Work              object\n",
       "Residence         object\n",
       "AVG Glucose      float64\n",
       "BMI              float64\n",
       "Smoking           object\n",
       "Stroke             int64\n",
       "BMI Missing        int64\n",
       "dtype: object"
      ]
     },
     "execution_count": 274,
     "metadata": {},
     "output_type": "execute_result"
    }
   ],
   "source": [
    "engineered_data.dtypes"
   ]
  },
  {
   "cell_type": "markdown",
   "id": "d2d55582",
   "metadata": {},
   "source": [
    "# **Stroke Patients**"
   ]
  },
  {
   "cell_type": "code",
   "execution_count": 304,
   "id": "ddc2ed15",
   "metadata": {},
   "outputs": [],
   "source": [
    "stroke_patients = engineered_data[engineered_data[target] == 1]"
   ]
  },
  {
   "cell_type": "code",
   "execution_count": 305,
   "id": "fe245717",
   "metadata": {},
   "outputs": [
    {
     "data": {
      "text/html": [
       "<div>\n",
       "<style scoped>\n",
       "    .dataframe tbody tr th:only-of-type {\n",
       "        vertical-align: middle;\n",
       "    }\n",
       "\n",
       "    .dataframe tbody tr th {\n",
       "        vertical-align: top;\n",
       "    }\n",
       "\n",
       "    .dataframe thead th {\n",
       "        text-align: right;\n",
       "    }\n",
       "</style>\n",
       "<table border=\"1\" class=\"dataframe\">\n",
       "  <thead>\n",
       "    <tr style=\"text-align: right;\">\n",
       "      <th></th>\n",
       "      <th>Gender</th>\n",
       "      <th>Age</th>\n",
       "      <th>Hypertension</th>\n",
       "      <th>Heart Disease</th>\n",
       "      <th>Ever Married</th>\n",
       "      <th>Work</th>\n",
       "      <th>Residence</th>\n",
       "      <th>AVG Glucose</th>\n",
       "      <th>BMI</th>\n",
       "      <th>Smoking</th>\n",
       "      <th>Stroke</th>\n",
       "      <th>BMI Missing</th>\n",
       "    </tr>\n",
       "  </thead>\n",
       "  <tbody>\n",
       "    <tr>\n",
       "      <th>0</th>\n",
       "      <td>Male</td>\n",
       "      <td>67.0</td>\n",
       "      <td>0</td>\n",
       "      <td>1</td>\n",
       "      <td>Yes</td>\n",
       "      <td>Private</td>\n",
       "      <td>Urban</td>\n",
       "      <td>228.69</td>\n",
       "      <td>36.6</td>\n",
       "      <td>formerly smoked</td>\n",
       "      <td>1</td>\n",
       "      <td>0</td>\n",
       "    </tr>\n",
       "    <tr>\n",
       "      <th>1</th>\n",
       "      <td>Female</td>\n",
       "      <td>61.0</td>\n",
       "      <td>0</td>\n",
       "      <td>0</td>\n",
       "      <td>Yes</td>\n",
       "      <td>Self-employed</td>\n",
       "      <td>Rural</td>\n",
       "      <td>202.21</td>\n",
       "      <td>28.1</td>\n",
       "      <td>never smoked</td>\n",
       "      <td>1</td>\n",
       "      <td>1</td>\n",
       "    </tr>\n",
       "    <tr>\n",
       "      <th>2</th>\n",
       "      <td>Male</td>\n",
       "      <td>80.0</td>\n",
       "      <td>0</td>\n",
       "      <td>1</td>\n",
       "      <td>Yes</td>\n",
       "      <td>Private</td>\n",
       "      <td>Rural</td>\n",
       "      <td>105.92</td>\n",
       "      <td>32.5</td>\n",
       "      <td>never smoked</td>\n",
       "      <td>1</td>\n",
       "      <td>0</td>\n",
       "    </tr>\n",
       "    <tr>\n",
       "      <th>3</th>\n",
       "      <td>Female</td>\n",
       "      <td>49.0</td>\n",
       "      <td>0</td>\n",
       "      <td>0</td>\n",
       "      <td>Yes</td>\n",
       "      <td>Private</td>\n",
       "      <td>Urban</td>\n",
       "      <td>171.23</td>\n",
       "      <td>34.4</td>\n",
       "      <td>smokes</td>\n",
       "      <td>1</td>\n",
       "      <td>0</td>\n",
       "    </tr>\n",
       "    <tr>\n",
       "      <th>4</th>\n",
       "      <td>Female</td>\n",
       "      <td>79.0</td>\n",
       "      <td>1</td>\n",
       "      <td>0</td>\n",
       "      <td>Yes</td>\n",
       "      <td>Self-employed</td>\n",
       "      <td>Rural</td>\n",
       "      <td>174.12</td>\n",
       "      <td>24.0</td>\n",
       "      <td>never smoked</td>\n",
       "      <td>1</td>\n",
       "      <td>0</td>\n",
       "    </tr>\n",
       "  </tbody>\n",
       "</table>\n",
       "</div>"
      ],
      "text/plain": [
       "   Gender   Age  Hypertension  Heart Disease Ever Married           Work  \\\n",
       "0    Male  67.0             0              1          Yes        Private   \n",
       "1  Female  61.0             0              0          Yes  Self-employed   \n",
       "2    Male  80.0             0              1          Yes        Private   \n",
       "3  Female  49.0             0              0          Yes        Private   \n",
       "4  Female  79.0             1              0          Yes  Self-employed   \n",
       "\n",
       "  Residence  AVG Glucose   BMI          Smoking  Stroke  BMI Missing  \n",
       "0     Urban       228.69  36.6  formerly smoked       1            0  \n",
       "1     Rural       202.21  28.1     never smoked       1            1  \n",
       "2     Rural       105.92  32.5     never smoked       1            0  \n",
       "3     Urban       171.23  34.4           smokes       1            0  \n",
       "4     Rural       174.12  24.0     never smoked       1            0  "
      ]
     },
     "execution_count": 305,
     "metadata": {},
     "output_type": "execute_result"
    }
   ],
   "source": [
    "stroke_patients.head()"
   ]
  },
  {
   "cell_type": "markdown",
   "id": "a495bf8d",
   "metadata": {},
   "source": [
    "# **Functions**"
   ]
  },
  {
   "cell_type": "markdown",
   "id": "4a9a4dd1",
   "metadata": {},
   "source": [
    "## **Barplots**"
   ]
  },
  {
   "cell_type": "code",
   "execution_count": 13,
   "id": "8c7db990",
   "metadata": {},
   "outputs": [],
   "source": [
    "def barplot(data, x, y, xlabel, ylabel, labels, title):\n",
    "\n",
    "    plt.rcParams.update(params)\n",
    "    \n",
    "    ax = sns.barplot(\n",
    "        x=x,\n",
    "        y=y,\n",
    "        data=data,\n",
    "        palette=\"Reds\",\n",
    "        order=labels\n",
    "    )\n",
    "    \n",
    "    total = data[y].sum()\n",
    "    \n",
    "    for p in ax.patches:\n",
    "        height = p.get_height()\n",
    "        percentage = \"{:.1f}%\".format(100 * height / total)\n",
    "        x_position = p.get_x() + p.get_width() / 2\n",
    "        y_position = height\n",
    "        ax.annotate(percentage, (x_position, y_position), ha='center', va='bottom', size=12)\n",
    "    \n",
    "    plt.title(title)\n",
    "    plt.xlabel(xlabel)\n",
    "    plt.ylabel(ylabel)\n",
    "    plt.show()"
   ]
  },
  {
   "cell_type": "markdown",
   "id": "b920f26d",
   "metadata": {},
   "source": [
    "## **Distributions**"
   ]
  },
  {
   "cell_type": "code",
   "execution_count": 14,
   "id": "f5ec7397",
   "metadata": {},
   "outputs": [],
   "source": [
    "def distributions(df, feature, target):\n",
    "    \n",
    "    distribution = df.groupby(feature)[target].sum().reset_index()\n",
    "    distribution.columns = [feature, 'Count']\n",
    "\n",
    "    return distribution"
   ]
  },
  {
   "cell_type": "markdown",
   "id": "7b724cf8",
   "metadata": {},
   "source": [
    "## **Bins**"
   ]
  },
  {
   "cell_type": "code",
   "execution_count": 164,
   "id": "4f3e3a71",
   "metadata": {},
   "outputs": [],
   "source": [
    "def create_bins(df, feature, new_feature, bins, labels):\n",
    "\n",
    "    df[new_feature] = pd.cut(df[feature], bins=bins, labels=labels, right=False)\n",
    "    group_counts = df[new_feature].value_counts().sort_index()\n",
    "    group_counts_df = group_counts.reset_index()\n",
    "    group_counts_df.columns = [new_feature, 'Count']\n",
    "\n",
    "    return group_counts_df"
   ]
  },
  {
   "cell_type": "markdown",
   "id": "47ce68a8",
   "metadata": {},
   "source": [
    "# **Exploratory Data Analysis**"
   ]
  },
  {
   "cell_type": "markdown",
   "id": "765ee13b",
   "metadata": {},
   "source": [
    "# **Gender of Stroke Patients**"
   ]
  },
  {
   "cell_type": "code",
   "execution_count": 276,
   "id": "33ee60a9",
   "metadata": {},
   "outputs": [],
   "source": [
    "feature = 'Gender'\n",
    "df = engineered_data.copy()\n",
    "\n",
    "gender_distribution = distributions(df, feature, target)"
   ]
  },
  {
   "cell_type": "code",
   "execution_count": 277,
   "id": "8a2583ce",
   "metadata": {},
   "outputs": [
    {
     "data": {
      "image/png": "[encoded data removed]",
      "text/plain": [
       "<Figure size 1000x600 with 1 Axes>"
      ]
     },
     "metadata": {},
     "output_type": "display_data"
    }
   ],
   "source": [
    "labels = ['Male', 'Female']\n",
    "y = 'Count'\n",
    "df = gender_distribution\n",
    "\n",
    "x = feature\n",
    "y = y\n",
    "df = df\n",
    "xlabel = feature\n",
    "ylabel = y\n",
    "lables = labels\n",
    "title = 'Gender of Stroke Patients'\n",
    "\n",
    "barplot(df, x, y, xlabel, ylabel, labels, title)"
   ]
  },
  {
   "cell_type": "markdown",
   "id": "9a4eb2c8",
   "metadata": {},
   "source": [
    "## **Hypertension Among Stroke Patients**"
   ]
  },
  {
   "cell_type": "code",
   "execution_count": 278,
   "id": "54f217f2",
   "metadata": {},
   "outputs": [],
   "source": [
    "feature = 'Hypertension'\n",
    "df = engineered_data.copy()\n",
    "\n",
    "hypertension_distribution = distributions(df, feature, target)"
   ]
  },
  {
   "cell_type": "code",
   "execution_count": 279,
   "id": "2e0ce3b8",
   "metadata": {},
   "outputs": [
    {
     "data": {
      "image/png": "[encoded data removed]",
      "text/plain": [
       "<Figure size 1000x600 with 1 Axes>"
      ]
     },
     "metadata": {},
     "output_type": "display_data"
    }
   ],
   "source": [
    "labels = [0, 1]\n",
    "y = 'Count'\n",
    "df = hypertension_distribution  \n",
    "\n",
    "x = feature\n",
    "y = y\n",
    "df = df\n",
    "xlabel = feature\n",
    "ylabel = y  \n",
    "lables = labels\n",
    "title = 'Hypertension Among Stroke Patients'\n",
    "\n",
    "\n",
    "barplot(df, x, y, xlabel, ylabel, labels, title)"
   ]
  },
  {
   "cell_type": "markdown",
   "id": "72ad8632",
   "metadata": {},
   "source": [
    "## **Heart Disease Among Stroke Patients**"
   ]
  },
  {
   "cell_type": "code",
   "execution_count": 280,
   "id": "44fa43b5",
   "metadata": {},
   "outputs": [],
   "source": [
    "feature = 'Heart Disease'\n",
    "df = engineered_data.copy()\n",
    "\n",
    "heartdisease_distribution = distributions(df, feature, target)"
   ]
  },
  {
   "cell_type": "code",
   "execution_count": 22,
   "id": "3eecf00c",
   "metadata": {},
   "outputs": [
    {
     "data": {
      "image/png": "[encoded data removed]",
      "text/plain": [
       "<Figure size 1000x600 with 1 Axes>"
      ]
     },
     "metadata": {},
     "output_type": "display_data"
    }
   ],
   "source": [
    "labels = [0, 1]\n",
    "y = 'Count' \n",
    "df = heartdisease_distribution\n",
    "\n",
    "x = feature\n",
    "y = y\n",
    "df = df\n",
    "xlabel = feature\n",
    "ylabel = y\n",
    "lables = labels\n",
    "title = 'Heart Disease Among Stroke Patients'\n",
    "\n",
    "\n",
    "barplot(df, x, y, xlabel, ylabel, labels, title)"
   ]
  },
  {
   "cell_type": "markdown",
   "id": "f9002a90",
   "metadata": {},
   "source": [
    "## **Marital Status of Stroke Patients**"
   ]
  },
  {
   "cell_type": "code",
   "execution_count": 281,
   "id": "2df9ab55",
   "metadata": {},
   "outputs": [],
   "source": [
    "feature = 'Ever Married'\n",
    "df = engineered_data.copy()\n",
    "\n",
    "married_distribution = distributions(df, feature, target)"
   ]
  },
  {
   "cell_type": "code",
   "execution_count": 282,
   "id": "72eee635",
   "metadata": {},
   "outputs": [
    {
     "data": {
      "image/png": "[encoded data removed]",
      "text/plain": [
       "<Figure size 1000x600 with 1 Axes>"
      ]
     },
     "metadata": {},
     "output_type": "display_data"
    }
   ],
   "source": [
    "labels = ['No', 'Yes']\n",
    "y = 'Count'\n",
    "df = married_distribution\n",
    "\n",
    "x = feature\n",
    "y = y\n",
    "df = df\n",
    "xlabel = feature\n",
    "ylabel = y\n",
    "lables = labels\n",
    "title = 'Marital Status of Stroke Patients'\n",
    "\n",
    "\n",
    "barplot(df, x, y, xlabel, ylabel, labels, title)"
   ]
  },
  {
   "cell_type": "markdown",
   "id": "b45cca49",
   "metadata": {},
   "source": [
    "## **Work Status of Stroke Patients**"
   ]
  },
  {
   "cell_type": "code",
   "execution_count": 283,
   "id": "48590d9b",
   "metadata": {},
   "outputs": [],
   "source": [
    "feature = 'Work'\n",
    "df = engineered_data.copy()\n",
    "\n",
    "work_distribution = distributions(df, feature, target)"
   ]
  },
  {
   "cell_type": "code",
   "execution_count": 284,
   "id": "98c56056",
   "metadata": {},
   "outputs": [
    {
     "data": {
      "image/png": "[encoded data removed]",
      "text/plain": [
       "<Figure size 1000x600 with 1 Axes>"
      ]
     },
     "metadata": {},
     "output_type": "display_data"
    }
   ],
   "source": [
    "labels = ['Private', 'Self-employed', 'Govt_job', 'children', 'Never_worked']\n",
    "y = 'Count'\n",
    "df = work_distribution\n",
    "\n",
    "x = feature\n",
    "y = y\n",
    "df = df\n",
    "xlabel = feature\n",
    "ylabel = y\n",
    "lables = labels\n",
    "title = 'Work Status of Stroke Patients'\n",
    "\n",
    "\n",
    "barplot(df, x, y, xlabel, ylabel, labels, title)"
   ]
  },
  {
   "cell_type": "markdown",
   "id": "84335b93",
   "metadata": {},
   "source": [
    "## **Residence Type of Stroke Patients**"
   ]
  },
  {
   "cell_type": "code",
   "execution_count": 285,
   "id": "aa9f4016",
   "metadata": {},
   "outputs": [],
   "source": [
    "feature = 'Residence'\n",
    "df = engineered_data.copy()\n",
    "\n",
    "residence_distribution = distributions(df, feature, target)"
   ]
  },
  {
   "cell_type": "code",
   "execution_count": 286,
   "id": "05e97a2e",
   "metadata": {},
   "outputs": [
    {
     "data": {
      "image/png": "[encoded data removed]",
      "text/plain": [
       "<Figure size 1000x600 with 1 Axes>"
      ]
     },
     "metadata": {},
     "output_type": "display_data"
    }
   ],
   "source": [
    "labels = ['Urban', 'Rural']\n",
    "y = 'Count'\n",
    "df = residence_distribution\n",
    "\n",
    "\n",
    "x = feature\n",
    "y = y\n",
    "df = df\n",
    "xlabel = feature\n",
    "ylabel = y\n",
    "lables = labels\n",
    "title = 'Residence Type of Stroke Patients'\n",
    "\n",
    "\n",
    "barplot(df, x, y, xlabel, ylabel, labels, title)"
   ]
  },
  {
   "cell_type": "markdown",
   "id": "c067f7f0",
   "metadata": {},
   "source": [
    "## **Average Glucose Levels of Stroke Patients**"
   ]
  },
  {
   "cell_type": "code",
   "execution_count": 306,
   "id": "736c04db",
   "metadata": {},
   "outputs": [],
   "source": [
    "feature = 'AVG Glucose'\n",
    "new_feature = 'Glucose Level'\n",
    "bins = [50, 100, 150, 200, 250, 300]\n",
    "labels = ['50-100', '101-150', '151-200', '201-250', '251-300']"
   ]
  },
  {
   "cell_type": "code",
   "execution_count": 307,
   "id": "0c8262bc",
   "metadata": {},
   "outputs": [],
   "source": [
    "df = stroke_patients.copy()\n",
    "\n",
    "glucose_group_counts = create_bins(df, feature, new_feature, bins, labels)"
   ]
  },
  {
   "cell_type": "code",
   "execution_count": 308,
   "id": "9badb56c",
   "metadata": {},
   "outputs": [
    {
     "data": {
      "image/png": "[encoded data removed]",
      "text/plain": [
       "<Figure size 1000x600 with 1 Axes>"
      ]
     },
     "metadata": {},
     "output_type": "display_data"
    }
   ],
   "source": [
    "df = glucose_group_counts\n",
    "x = new_feature\n",
    "y = 'Count'\n",
    "\n",
    "df = df\n",
    "xlabel = new_feature\n",
    "ylabel = y\n",
    "labels = labels\n",
    "title = 'Average Glucose Levels of Stroke Patients'\n",
    "\n",
    "\n",
    "barplot(df, x, y, xlabel, ylabel, labels, title)"
   ]
  },
  {
   "cell_type": "code",
   "execution_count": 309,
   "id": "212b3408",
   "metadata": {},
   "outputs": [
    {
     "data": {
      "text/html": [
       "<div>\n",
       "<style scoped>\n",
       "    .dataframe tbody tr th:only-of-type {\n",
       "        vertical-align: middle;\n",
       "    }\n",
       "\n",
       "    .dataframe tbody tr th {\n",
       "        vertical-align: top;\n",
       "    }\n",
       "\n",
       "    .dataframe thead th {\n",
       "        text-align: right;\n",
       "    }\n",
       "</style>\n",
       "<table border=\"1\" class=\"dataframe\">\n",
       "  <thead>\n",
       "    <tr style=\"text-align: right;\">\n",
       "      <th></th>\n",
       "      <th>Gender</th>\n",
       "      <th>Age</th>\n",
       "      <th>Hypertension</th>\n",
       "      <th>Heart Disease</th>\n",
       "      <th>Ever Married</th>\n",
       "      <th>Work</th>\n",
       "      <th>Residence</th>\n",
       "      <th>AVG Glucose</th>\n",
       "      <th>BMI</th>\n",
       "      <th>Smoking</th>\n",
       "      <th>Stroke</th>\n",
       "      <th>BMI Missing</th>\n",
       "    </tr>\n",
       "  </thead>\n",
       "  <tbody>\n",
       "    <tr>\n",
       "      <th>0</th>\n",
       "      <td>Male</td>\n",
       "      <td>67.0</td>\n",
       "      <td>0</td>\n",
       "      <td>1</td>\n",
       "      <td>Yes</td>\n",
       "      <td>Private</td>\n",
       "      <td>Urban</td>\n",
       "      <td>228.69</td>\n",
       "      <td>36.6</td>\n",
       "      <td>formerly smoked</td>\n",
       "      <td>1</td>\n",
       "      <td>0</td>\n",
       "    </tr>\n",
       "    <tr>\n",
       "      <th>1</th>\n",
       "      <td>Female</td>\n",
       "      <td>61.0</td>\n",
       "      <td>0</td>\n",
       "      <td>0</td>\n",
       "      <td>Yes</td>\n",
       "      <td>Self-employed</td>\n",
       "      <td>Rural</td>\n",
       "      <td>202.21</td>\n",
       "      <td>28.1</td>\n",
       "      <td>never smoked</td>\n",
       "      <td>1</td>\n",
       "      <td>1</td>\n",
       "    </tr>\n",
       "    <tr>\n",
       "      <th>2</th>\n",
       "      <td>Male</td>\n",
       "      <td>80.0</td>\n",
       "      <td>0</td>\n",
       "      <td>1</td>\n",
       "      <td>Yes</td>\n",
       "      <td>Private</td>\n",
       "      <td>Rural</td>\n",
       "      <td>105.92</td>\n",
       "      <td>32.5</td>\n",
       "      <td>never smoked</td>\n",
       "      <td>1</td>\n",
       "      <td>0</td>\n",
       "    </tr>\n",
       "    <tr>\n",
       "      <th>3</th>\n",
       "      <td>Female</td>\n",
       "      <td>49.0</td>\n",
       "      <td>0</td>\n",
       "      <td>0</td>\n",
       "      <td>Yes</td>\n",
       "      <td>Private</td>\n",
       "      <td>Urban</td>\n",
       "      <td>171.23</td>\n",
       "      <td>34.4</td>\n",
       "      <td>smokes</td>\n",
       "      <td>1</td>\n",
       "      <td>0</td>\n",
       "    </tr>\n",
       "    <tr>\n",
       "      <th>4</th>\n",
       "      <td>Female</td>\n",
       "      <td>79.0</td>\n",
       "      <td>1</td>\n",
       "      <td>0</td>\n",
       "      <td>Yes</td>\n",
       "      <td>Self-employed</td>\n",
       "      <td>Rural</td>\n",
       "      <td>174.12</td>\n",
       "      <td>24.0</td>\n",
       "      <td>never smoked</td>\n",
       "      <td>1</td>\n",
       "      <td>0</td>\n",
       "    </tr>\n",
       "  </tbody>\n",
       "</table>\n",
       "</div>"
      ],
      "text/plain": [
       "   Gender   Age  Hypertension  Heart Disease Ever Married           Work  \\\n",
       "0    Male  67.0             0              1          Yes        Private   \n",
       "1  Female  61.0             0              0          Yes  Self-employed   \n",
       "2    Male  80.0             0              1          Yes        Private   \n",
       "3  Female  49.0             0              0          Yes        Private   \n",
       "4  Female  79.0             1              0          Yes  Self-employed   \n",
       "\n",
       "  Residence  AVG Glucose   BMI          Smoking  Stroke  BMI Missing  \n",
       "0     Urban       228.69  36.6  formerly smoked       1            0  \n",
       "1     Rural       202.21  28.1     never smoked       1            1  \n",
       "2     Rural       105.92  32.5     never smoked       1            0  \n",
       "3     Urban       171.23  34.4           smokes       1            0  \n",
       "4     Rural       174.12  24.0     never smoked       1            0  "
      ]
     },
     "execution_count": 309,
     "metadata": {},
     "output_type": "execute_result"
    }
   ],
   "source": [
    "stroke_patients.head()"
   ]
  },
  {
   "cell_type": "markdown",
   "id": "fee017bb",
   "metadata": {},
   "source": [
    "# **BMI Levels of Stroke Patients**"
   ]
  },
  {
   "cell_type": "code",
   "execution_count": 310,
   "id": "80ca2712",
   "metadata": {},
   "outputs": [],
   "source": [
    "feature = 'BMI'\n",
    "new_feature = 'BMI Level'\n",
    "bins = [0, 10, 20, 30, 40, 50, 60, 70, 80, 90, 100]\n",
    "labels = ['0-10', '11-20', '21-30', '31-40', '41-50', '51-60', '61-70', '71-80', '81-90', '91-100']"
   ]
  },
  {
   "cell_type": "code",
   "execution_count": 311,
   "id": "550106e1",
   "metadata": {},
   "outputs": [],
   "source": [
    "df = stroke_patients.copy()   \n",
    "\n",
    "BMI_group_counts = create_bins(df, feature, new_feature, bins, labels)"
   ]
  },
  {
   "cell_type": "code",
   "execution_count": 312,
   "id": "ca0072cc",
   "metadata": {},
   "outputs": [
    {
     "data": {
      "text/html": [
       "<div>\n",
       "<style scoped>\n",
       "    .dataframe tbody tr th:only-of-type {\n",
       "        vertical-align: middle;\n",
       "    }\n",
       "\n",
       "    .dataframe tbody tr th {\n",
       "        vertical-align: top;\n",
       "    }\n",
       "\n",
       "    .dataframe thead th {\n",
       "        text-align: right;\n",
       "    }\n",
       "</style>\n",
       "<table border=\"1\" class=\"dataframe\">\n",
       "  <thead>\n",
       "    <tr style=\"text-align: right;\">\n",
       "      <th></th>\n",
       "      <th>Gender</th>\n",
       "      <th>Age</th>\n",
       "      <th>Hypertension</th>\n",
       "      <th>Heart Disease</th>\n",
       "      <th>Ever Married</th>\n",
       "      <th>Work</th>\n",
       "      <th>Residence</th>\n",
       "      <th>AVG Glucose</th>\n",
       "      <th>BMI</th>\n",
       "      <th>Smoking</th>\n",
       "      <th>Stroke</th>\n",
       "      <th>BMI Missing</th>\n",
       "    </tr>\n",
       "  </thead>\n",
       "  <tbody>\n",
       "    <tr>\n",
       "      <th>0</th>\n",
       "      <td>Male</td>\n",
       "      <td>67.0</td>\n",
       "      <td>0</td>\n",
       "      <td>1</td>\n",
       "      <td>Yes</td>\n",
       "      <td>Private</td>\n",
       "      <td>Urban</td>\n",
       "      <td>228.69</td>\n",
       "      <td>36.6</td>\n",
       "      <td>formerly smoked</td>\n",
       "      <td>1</td>\n",
       "      <td>0</td>\n",
       "    </tr>\n",
       "    <tr>\n",
       "      <th>1</th>\n",
       "      <td>Female</td>\n",
       "      <td>61.0</td>\n",
       "      <td>0</td>\n",
       "      <td>0</td>\n",
       "      <td>Yes</td>\n",
       "      <td>Self-employed</td>\n",
       "      <td>Rural</td>\n",
       "      <td>202.21</td>\n",
       "      <td>28.1</td>\n",
       "      <td>never smoked</td>\n",
       "      <td>1</td>\n",
       "      <td>1</td>\n",
       "    </tr>\n",
       "    <tr>\n",
       "      <th>2</th>\n",
       "      <td>Male</td>\n",
       "      <td>80.0</td>\n",
       "      <td>0</td>\n",
       "      <td>1</td>\n",
       "      <td>Yes</td>\n",
       "      <td>Private</td>\n",
       "      <td>Rural</td>\n",
       "      <td>105.92</td>\n",
       "      <td>32.5</td>\n",
       "      <td>never smoked</td>\n",
       "      <td>1</td>\n",
       "      <td>0</td>\n",
       "    </tr>\n",
       "    <tr>\n",
       "      <th>3</th>\n",
       "      <td>Female</td>\n",
       "      <td>49.0</td>\n",
       "      <td>0</td>\n",
       "      <td>0</td>\n",
       "      <td>Yes</td>\n",
       "      <td>Private</td>\n",
       "      <td>Urban</td>\n",
       "      <td>171.23</td>\n",
       "      <td>34.4</td>\n",
       "      <td>smokes</td>\n",
       "      <td>1</td>\n",
       "      <td>0</td>\n",
       "    </tr>\n",
       "    <tr>\n",
       "      <th>4</th>\n",
       "      <td>Female</td>\n",
       "      <td>79.0</td>\n",
       "      <td>1</td>\n",
       "      <td>0</td>\n",
       "      <td>Yes</td>\n",
       "      <td>Self-employed</td>\n",
       "      <td>Rural</td>\n",
       "      <td>174.12</td>\n",
       "      <td>24.0</td>\n",
       "      <td>never smoked</td>\n",
       "      <td>1</td>\n",
       "      <td>0</td>\n",
       "    </tr>\n",
       "  </tbody>\n",
       "</table>\n",
       "</div>"
      ],
      "text/plain": [
       "   Gender   Age  Hypertension  Heart Disease Ever Married           Work  \\\n",
       "0    Male  67.0             0              1          Yes        Private   \n",
       "1  Female  61.0             0              0          Yes  Self-employed   \n",
       "2    Male  80.0             0              1          Yes        Private   \n",
       "3  Female  49.0             0              0          Yes        Private   \n",
       "4  Female  79.0             1              0          Yes  Self-employed   \n",
       "\n",
       "  Residence  AVG Glucose   BMI          Smoking  Stroke  BMI Missing  \n",
       "0     Urban       228.69  36.6  formerly smoked       1            0  \n",
       "1     Rural       202.21  28.1     never smoked       1            1  \n",
       "2     Rural       105.92  32.5     never smoked       1            0  \n",
       "3     Urban       171.23  34.4           smokes       1            0  \n",
       "4     Rural       174.12  24.0     never smoked       1            0  "
      ]
     },
     "execution_count": 312,
     "metadata": {},
     "output_type": "execute_result"
    }
   ],
   "source": [
    "stroke_patients.head()"
   ]
  },
  {
   "cell_type": "code",
   "execution_count": 205,
   "id": "d49bd3d8",
   "metadata": {},
   "outputs": [
    {
     "data": {
      "text/html": [
       "<div>\n",
       "<style scoped>\n",
       "    .dataframe tbody tr th:only-of-type {\n",
       "        vertical-align: middle;\n",
       "    }\n",
       "\n",
       "    .dataframe tbody tr th {\n",
       "        vertical-align: top;\n",
       "    }\n",
       "\n",
       "    .dataframe thead th {\n",
       "        text-align: right;\n",
       "    }\n",
       "</style>\n",
       "<table border=\"1\" class=\"dataframe\">\n",
       "  <thead>\n",
       "    <tr style=\"text-align: right;\">\n",
       "      <th></th>\n",
       "      <th>BMI Level</th>\n",
       "      <th>Count</th>\n",
       "    </tr>\n",
       "  </thead>\n",
       "  <tbody>\n",
       "    <tr>\n",
       "      <th>0</th>\n",
       "      <td>0-10</td>\n",
       "      <td>0</td>\n",
       "    </tr>\n",
       "    <tr>\n",
       "      <th>1</th>\n",
       "      <td>11-20</td>\n",
       "      <td>3</td>\n",
       "    </tr>\n",
       "    <tr>\n",
       "      <th>2</th>\n",
       "      <td>21-30</td>\n",
       "      <td>148</td>\n",
       "    </tr>\n",
       "    <tr>\n",
       "      <th>3</th>\n",
       "      <td>31-40</td>\n",
       "      <td>79</td>\n",
       "    </tr>\n",
       "    <tr>\n",
       "      <th>4</th>\n",
       "      <td>41-50</td>\n",
       "      <td>18</td>\n",
       "    </tr>\n",
       "    <tr>\n",
       "      <th>5</th>\n",
       "      <td>51-60</td>\n",
       "      <td>1</td>\n",
       "    </tr>\n",
       "    <tr>\n",
       "      <th>6</th>\n",
       "      <td>61-70</td>\n",
       "      <td>0</td>\n",
       "    </tr>\n",
       "    <tr>\n",
       "      <th>7</th>\n",
       "      <td>71-80</td>\n",
       "      <td>0</td>\n",
       "    </tr>\n",
       "    <tr>\n",
       "      <th>8</th>\n",
       "      <td>81-90</td>\n",
       "      <td>0</td>\n",
       "    </tr>\n",
       "    <tr>\n",
       "      <th>9</th>\n",
       "      <td>91-100</td>\n",
       "      <td>0</td>\n",
       "    </tr>\n",
       "  </tbody>\n",
       "</table>\n",
       "</div>"
      ],
      "text/plain": [
       "  BMI Level  Count\n",
       "0      0-10      0\n",
       "1     11-20      3\n",
       "2     21-30    148\n",
       "3     31-40     79\n",
       "4     41-50     18\n",
       "5     51-60      1\n",
       "6     61-70      0\n",
       "7     71-80      0\n",
       "8     81-90      0\n",
       "9    91-100      0"
      ]
     },
     "execution_count": 205,
     "metadata": {},
     "output_type": "execute_result"
    }
   ],
   "source": [
    "BMI_group_counts"
   ]
  },
  {
   "cell_type": "code",
   "execution_count": 179,
   "id": "5f74128e",
   "metadata": {},
   "outputs": [
    {
     "data": {
      "image/png": "[encoded data removed]",
      "text/plain": [
       "<Figure size 1000x600 with 1 Axes>"
      ]
     },
     "metadata": {},
     "output_type": "display_data"
    }
   ],
   "source": [
    "y = 'Count'\n",
    "df = BMI_group_counts\n",
    "\n",
    "x = new_feature\n",
    "y = y\n",
    "df = df\n",
    "xlabel = new_feature\n",
    "ylabel = y\n",
    "labels = labels\n",
    "title = 'BMI Levels of Stroke Patients'\n",
    "\n",
    "barplot(df, x, y, xlabel, ylabel, labels, title)"
   ]
  },
  {
   "cell_type": "markdown",
   "id": "89f1ab1d",
   "metadata": {},
   "source": [
    "## **Smoking Habits of Stroke Patients**"
   ]
  },
  {
   "cell_type": "code",
   "execution_count": 313,
   "id": "c5e2000f",
   "metadata": {},
   "outputs": [],
   "source": [
    "feature = 'Smoking'\n",
    "df = engineered_data.copy()\n",
    "\n",
    "smoking_distribution = distributions(df, feature, target)"
   ]
  },
  {
   "cell_type": "code",
   "execution_count": 314,
   "id": "93d98d95",
   "metadata": {},
   "outputs": [
    {
     "data": {
      "image/png": "[encoded data removed]",
      "text/plain": [
       "<Figure size 1000x600 with 1 Axes>"
      ]
     },
     "metadata": {},
     "output_type": "display_data"
    }
   ],
   "source": [
    "labels = ['Unknown', 'formerly smoked', 'never smoked', 'smokes']\n",
    "y = 'Count'\n",
    "df = smoking_distribution\n",
    "\n",
    "x = feature\n",
    "y = y\n",
    "df = df\n",
    "xlabel = feature\n",
    "ylabel = y\n",
    "lables = labels\n",
    "title = 'Smoking Habits of Stroke Patients'\n",
    "\n",
    "\n",
    "barplot(df, x, y, xlabel, ylabel, labels, title)"
   ]
  },
  {
   "cell_type": "markdown",
   "id": "e95cb8a2",
   "metadata": {},
   "source": [
    "## **Ages of Data Participants**"
   ]
  },
  {
   "cell_type": "code",
   "execution_count": 318,
   "id": "271477e9",
   "metadata": {},
   "outputs": [],
   "source": [
    "feature = 'Age'\n",
    "new_feature = 'Age Group'\n",
    "bins = [0, 10, 20, 30, 40, 50, 60, 70, 80, 90, 100]\n",
    "labels = ['0-10', '10-20', '20-30', '30-40', '40-50', '50-60', '60-70', '70-80', '80-90', '90-100']"
   ]
  },
  {
   "cell_type": "code",
   "execution_count": 319,
   "id": "b67c5a3b",
   "metadata": {},
   "outputs": [],
   "source": [
    "df = engineered_data.copy()\n",
    "\n",
    "age_group_counts = create_bins(df, feature, new_feature, bins, labels)"
   ]
  },
  {
   "cell_type": "code",
   "execution_count": 320,
   "id": "f474a3ad",
   "metadata": {},
   "outputs": [
    {
     "data": {
      "text/html": [
       "<div>\n",
       "<style scoped>\n",
       "    .dataframe tbody tr th:only-of-type {\n",
       "        vertical-align: middle;\n",
       "    }\n",
       "\n",
       "    .dataframe tbody tr th {\n",
       "        vertical-align: top;\n",
       "    }\n",
       "\n",
       "    .dataframe thead th {\n",
       "        text-align: right;\n",
       "    }\n",
       "</style>\n",
       "<table border=\"1\" class=\"dataframe\">\n",
       "  <thead>\n",
       "    <tr style=\"text-align: right;\">\n",
       "      <th></th>\n",
       "      <th>Gender</th>\n",
       "      <th>Age</th>\n",
       "      <th>Hypertension</th>\n",
       "      <th>Heart Disease</th>\n",
       "      <th>Ever Married</th>\n",
       "      <th>Work</th>\n",
       "      <th>Residence</th>\n",
       "      <th>AVG Glucose</th>\n",
       "      <th>BMI</th>\n",
       "      <th>Smoking</th>\n",
       "      <th>Stroke</th>\n",
       "    </tr>\n",
       "  </thead>\n",
       "  <tbody>\n",
       "    <tr>\n",
       "      <th>0</th>\n",
       "      <td>Male</td>\n",
       "      <td>67.0</td>\n",
       "      <td>0</td>\n",
       "      <td>1</td>\n",
       "      <td>Yes</td>\n",
       "      <td>Private</td>\n",
       "      <td>Urban</td>\n",
       "      <td>228.69</td>\n",
       "      <td>36.6</td>\n",
       "      <td>formerly smoked</td>\n",
       "      <td>1</td>\n",
       "    </tr>\n",
       "    <tr>\n",
       "      <th>1</th>\n",
       "      <td>Female</td>\n",
       "      <td>61.0</td>\n",
       "      <td>0</td>\n",
       "      <td>0</td>\n",
       "      <td>Yes</td>\n",
       "      <td>Self-employed</td>\n",
       "      <td>Rural</td>\n",
       "      <td>202.21</td>\n",
       "      <td>NaN</td>\n",
       "      <td>never smoked</td>\n",
       "      <td>1</td>\n",
       "    </tr>\n",
       "    <tr>\n",
       "      <th>2</th>\n",
       "      <td>Male</td>\n",
       "      <td>80.0</td>\n",
       "      <td>0</td>\n",
       "      <td>1</td>\n",
       "      <td>Yes</td>\n",
       "      <td>Private</td>\n",
       "      <td>Rural</td>\n",
       "      <td>105.92</td>\n",
       "      <td>32.5</td>\n",
       "      <td>never smoked</td>\n",
       "      <td>1</td>\n",
       "    </tr>\n",
       "    <tr>\n",
       "      <th>3</th>\n",
       "      <td>Female</td>\n",
       "      <td>49.0</td>\n",
       "      <td>0</td>\n",
       "      <td>0</td>\n",
       "      <td>Yes</td>\n",
       "      <td>Private</td>\n",
       "      <td>Urban</td>\n",
       "      <td>171.23</td>\n",
       "      <td>34.4</td>\n",
       "      <td>smokes</td>\n",
       "      <td>1</td>\n",
       "    </tr>\n",
       "    <tr>\n",
       "      <th>4</th>\n",
       "      <td>Female</td>\n",
       "      <td>79.0</td>\n",
       "      <td>1</td>\n",
       "      <td>0</td>\n",
       "      <td>Yes</td>\n",
       "      <td>Self-employed</td>\n",
       "      <td>Rural</td>\n",
       "      <td>174.12</td>\n",
       "      <td>24.0</td>\n",
       "      <td>never smoked</td>\n",
       "      <td>1</td>\n",
       "    </tr>\n",
       "  </tbody>\n",
       "</table>\n",
       "</div>"
      ],
      "text/plain": [
       "   Gender   Age  Hypertension  Heart Disease Ever Married           Work  \\\n",
       "0    Male  67.0             0              1          Yes        Private   \n",
       "1  Female  61.0             0              0          Yes  Self-employed   \n",
       "2    Male  80.0             0              1          Yes        Private   \n",
       "3  Female  49.0             0              0          Yes        Private   \n",
       "4  Female  79.0             1              0          Yes  Self-employed   \n",
       "\n",
       "  Residence  AVG Glucose   BMI          Smoking  Stroke  \n",
       "0     Urban       228.69  36.6  formerly smoked       1  \n",
       "1     Rural       202.21   NaN     never smoked       1  \n",
       "2     Rural       105.92  32.5     never smoked       1  \n",
       "3     Urban       171.23  34.4           smokes       1  \n",
       "4     Rural       174.12  24.0     never smoked       1  "
      ]
     },
     "execution_count": 320,
     "metadata": {},
     "output_type": "execute_result"
    }
   ],
   "source": [
    "data.head()"
   ]
  },
  {
   "cell_type": "code",
   "execution_count": 321,
   "id": "e198c085",
   "metadata": {},
   "outputs": [
    {
     "data": {
      "text/html": [
       "<div>\n",
       "<style scoped>\n",
       "    .dataframe tbody tr th:only-of-type {\n",
       "        vertical-align: middle;\n",
       "    }\n",
       "\n",
       "    .dataframe tbody tr th {\n",
       "        vertical-align: top;\n",
       "    }\n",
       "\n",
       "    .dataframe thead th {\n",
       "        text-align: right;\n",
       "    }\n",
       "</style>\n",
       "<table border=\"1\" class=\"dataframe\">\n",
       "  <thead>\n",
       "    <tr style=\"text-align: right;\">\n",
       "      <th></th>\n",
       "      <th>Gender</th>\n",
       "      <th>Age</th>\n",
       "      <th>Hypertension</th>\n",
       "      <th>Heart Disease</th>\n",
       "      <th>Ever Married</th>\n",
       "      <th>Work</th>\n",
       "      <th>Residence</th>\n",
       "      <th>AVG Glucose</th>\n",
       "      <th>BMI</th>\n",
       "      <th>Smoking</th>\n",
       "      <th>Stroke</th>\n",
       "      <th>BMI Missing</th>\n",
       "    </tr>\n",
       "  </thead>\n",
       "  <tbody>\n",
       "    <tr>\n",
       "      <th>0</th>\n",
       "      <td>Male</td>\n",
       "      <td>67.0</td>\n",
       "      <td>0</td>\n",
       "      <td>1</td>\n",
       "      <td>Yes</td>\n",
       "      <td>Private</td>\n",
       "      <td>Urban</td>\n",
       "      <td>228.69</td>\n",
       "      <td>36.6</td>\n",
       "      <td>formerly smoked</td>\n",
       "      <td>1</td>\n",
       "      <td>0</td>\n",
       "    </tr>\n",
       "    <tr>\n",
       "      <th>1</th>\n",
       "      <td>Female</td>\n",
       "      <td>61.0</td>\n",
       "      <td>0</td>\n",
       "      <td>0</td>\n",
       "      <td>Yes</td>\n",
       "      <td>Self-employed</td>\n",
       "      <td>Rural</td>\n",
       "      <td>202.21</td>\n",
       "      <td>28.1</td>\n",
       "      <td>never smoked</td>\n",
       "      <td>1</td>\n",
       "      <td>1</td>\n",
       "    </tr>\n",
       "    <tr>\n",
       "      <th>2</th>\n",
       "      <td>Male</td>\n",
       "      <td>80.0</td>\n",
       "      <td>0</td>\n",
       "      <td>1</td>\n",
       "      <td>Yes</td>\n",
       "      <td>Private</td>\n",
       "      <td>Rural</td>\n",
       "      <td>105.92</td>\n",
       "      <td>32.5</td>\n",
       "      <td>never smoked</td>\n",
       "      <td>1</td>\n",
       "      <td>0</td>\n",
       "    </tr>\n",
       "    <tr>\n",
       "      <th>3</th>\n",
       "      <td>Female</td>\n",
       "      <td>49.0</td>\n",
       "      <td>0</td>\n",
       "      <td>0</td>\n",
       "      <td>Yes</td>\n",
       "      <td>Private</td>\n",
       "      <td>Urban</td>\n",
       "      <td>171.23</td>\n",
       "      <td>34.4</td>\n",
       "      <td>smokes</td>\n",
       "      <td>1</td>\n",
       "      <td>0</td>\n",
       "    </tr>\n",
       "    <tr>\n",
       "      <th>4</th>\n",
       "      <td>Female</td>\n",
       "      <td>79.0</td>\n",
       "      <td>1</td>\n",
       "      <td>0</td>\n",
       "      <td>Yes</td>\n",
       "      <td>Self-employed</td>\n",
       "      <td>Rural</td>\n",
       "      <td>174.12</td>\n",
       "      <td>24.0</td>\n",
       "      <td>never smoked</td>\n",
       "      <td>1</td>\n",
       "      <td>0</td>\n",
       "    </tr>\n",
       "  </tbody>\n",
       "</table>\n",
       "</div>"
      ],
      "text/plain": [
       "   Gender   Age  Hypertension  Heart Disease Ever Married           Work  \\\n",
       "0    Male  67.0             0              1          Yes        Private   \n",
       "1  Female  61.0             0              0          Yes  Self-employed   \n",
       "2    Male  80.0             0              1          Yes        Private   \n",
       "3  Female  49.0             0              0          Yes        Private   \n",
       "4  Female  79.0             1              0          Yes  Self-employed   \n",
       "\n",
       "  Residence  AVG Glucose   BMI          Smoking  Stroke  BMI Missing  \n",
       "0     Urban       228.69  36.6  formerly smoked       1            0  \n",
       "1     Rural       202.21  28.1     never smoked       1            1  \n",
       "2     Rural       105.92  32.5     never smoked       1            0  \n",
       "3     Urban       171.23  34.4           smokes       1            0  \n",
       "4     Rural       174.12  24.0     never smoked       1            0  "
      ]
     },
     "execution_count": 321,
     "metadata": {},
     "output_type": "execute_result"
    }
   ],
   "source": [
    "engineered_data.head()"
   ]
  },
  {
   "cell_type": "code",
   "execution_count": 187,
   "id": "9762566e",
   "metadata": {},
   "outputs": [
    {
     "data": {
      "image/png": "[encoded data removed]",
      "text/plain": [
       "<Figure size 1000x600 with 1 Axes>"
      ]
     },
     "metadata": {},
     "output_type": "display_data"
    }
   ],
   "source": [
    "y = 'Count'\n",
    "df = age_group_counts\n",
    "\n",
    "x = new_feature\n",
    "y = y\n",
    "df = df\n",
    "xlabel = new_feature\n",
    "ylabel = y\n",
    "labels = labels\n",
    "title = 'Ages of Data Participants'\n",
    "\n",
    "\n",
    "barplot(df, x, y, xlabel, ylabel, labels, title)"
   ]
  },
  {
   "cell_type": "markdown",
   "id": "f6dee804",
   "metadata": {},
   "source": [
    "## **Ages of Stroke Patients**"
   ]
  },
  {
   "cell_type": "code",
   "execution_count": 322,
   "id": "2803e31a",
   "metadata": {},
   "outputs": [
    {
     "data": {
      "text/html": [
       "<div>\n",
       "<style scoped>\n",
       "    .dataframe tbody tr th:only-of-type {\n",
       "        vertical-align: middle;\n",
       "    }\n",
       "\n",
       "    .dataframe tbody tr th {\n",
       "        vertical-align: top;\n",
       "    }\n",
       "\n",
       "    .dataframe thead th {\n",
       "        text-align: right;\n",
       "    }\n",
       "</style>\n",
       "<table border=\"1\" class=\"dataframe\">\n",
       "  <thead>\n",
       "    <tr style=\"text-align: right;\">\n",
       "      <th></th>\n",
       "      <th>Gender</th>\n",
       "      <th>Age</th>\n",
       "      <th>Hypertension</th>\n",
       "      <th>Heart Disease</th>\n",
       "      <th>Ever Married</th>\n",
       "      <th>Work</th>\n",
       "      <th>Residence</th>\n",
       "      <th>AVG Glucose</th>\n",
       "      <th>BMI</th>\n",
       "      <th>Smoking</th>\n",
       "      <th>Stroke</th>\n",
       "      <th>BMI Missing</th>\n",
       "    </tr>\n",
       "  </thead>\n",
       "  <tbody>\n",
       "    <tr>\n",
       "      <th>0</th>\n",
       "      <td>Male</td>\n",
       "      <td>67.0</td>\n",
       "      <td>0</td>\n",
       "      <td>1</td>\n",
       "      <td>Yes</td>\n",
       "      <td>Private</td>\n",
       "      <td>Urban</td>\n",
       "      <td>228.69</td>\n",
       "      <td>36.6</td>\n",
       "      <td>formerly smoked</td>\n",
       "      <td>1</td>\n",
       "      <td>0</td>\n",
       "    </tr>\n",
       "    <tr>\n",
       "      <th>1</th>\n",
       "      <td>Female</td>\n",
       "      <td>61.0</td>\n",
       "      <td>0</td>\n",
       "      <td>0</td>\n",
       "      <td>Yes</td>\n",
       "      <td>Self-employed</td>\n",
       "      <td>Rural</td>\n",
       "      <td>202.21</td>\n",
       "      <td>28.1</td>\n",
       "      <td>never smoked</td>\n",
       "      <td>1</td>\n",
       "      <td>1</td>\n",
       "    </tr>\n",
       "    <tr>\n",
       "      <th>2</th>\n",
       "      <td>Male</td>\n",
       "      <td>80.0</td>\n",
       "      <td>0</td>\n",
       "      <td>1</td>\n",
       "      <td>Yes</td>\n",
       "      <td>Private</td>\n",
       "      <td>Rural</td>\n",
       "      <td>105.92</td>\n",
       "      <td>32.5</td>\n",
       "      <td>never smoked</td>\n",
       "      <td>1</td>\n",
       "      <td>0</td>\n",
       "    </tr>\n",
       "    <tr>\n",
       "      <th>3</th>\n",
       "      <td>Female</td>\n",
       "      <td>49.0</td>\n",
       "      <td>0</td>\n",
       "      <td>0</td>\n",
       "      <td>Yes</td>\n",
       "      <td>Private</td>\n",
       "      <td>Urban</td>\n",
       "      <td>171.23</td>\n",
       "      <td>34.4</td>\n",
       "      <td>smokes</td>\n",
       "      <td>1</td>\n",
       "      <td>0</td>\n",
       "    </tr>\n",
       "    <tr>\n",
       "      <th>4</th>\n",
       "      <td>Female</td>\n",
       "      <td>79.0</td>\n",
       "      <td>1</td>\n",
       "      <td>0</td>\n",
       "      <td>Yes</td>\n",
       "      <td>Self-employed</td>\n",
       "      <td>Rural</td>\n",
       "      <td>174.12</td>\n",
       "      <td>24.0</td>\n",
       "      <td>never smoked</td>\n",
       "      <td>1</td>\n",
       "      <td>0</td>\n",
       "    </tr>\n",
       "  </tbody>\n",
       "</table>\n",
       "</div>"
      ],
      "text/plain": [
       "   Gender   Age  Hypertension  Heart Disease Ever Married           Work  \\\n",
       "0    Male  67.0             0              1          Yes        Private   \n",
       "1  Female  61.0             0              0          Yes  Self-employed   \n",
       "2    Male  80.0             0              1          Yes        Private   \n",
       "3  Female  49.0             0              0          Yes        Private   \n",
       "4  Female  79.0             1              0          Yes  Self-employed   \n",
       "\n",
       "  Residence  AVG Glucose   BMI          Smoking  Stroke  BMI Missing  \n",
       "0     Urban       228.69  36.6  formerly smoked       1            0  \n",
       "1     Rural       202.21  28.1     never smoked       1            1  \n",
       "2     Rural       105.92  32.5     never smoked       1            0  \n",
       "3     Urban       171.23  34.4           smokes       1            0  \n",
       "4     Rural       174.12  24.0     never smoked       1            0  "
      ]
     },
     "execution_count": 322,
     "metadata": {},
     "output_type": "execute_result"
    }
   ],
   "source": [
    "stroke_patients.head()"
   ]
  },
  {
   "cell_type": "code",
   "execution_count": 323,
   "id": "d00032de",
   "metadata": {},
   "outputs": [],
   "source": [
    "df = stroke_patients.copy()\n",
    "\n",
    "age_group_counts = create_bins(df, feature, new_feature, bins, labels)"
   ]
  },
  {
   "cell_type": "code",
   "execution_count": 324,
   "id": "cf51ab12",
   "metadata": {},
   "outputs": [
    {
     "data": {
      "text/html": [
       "<div>\n",
       "<style scoped>\n",
       "    .dataframe tbody tr th:only-of-type {\n",
       "        vertical-align: middle;\n",
       "    }\n",
       "\n",
       "    .dataframe tbody tr th {\n",
       "        vertical-align: top;\n",
       "    }\n",
       "\n",
       "    .dataframe thead th {\n",
       "        text-align: right;\n",
       "    }\n",
       "</style>\n",
       "<table border=\"1\" class=\"dataframe\">\n",
       "  <thead>\n",
       "    <tr style=\"text-align: right;\">\n",
       "      <th></th>\n",
       "      <th>Gender</th>\n",
       "      <th>Age</th>\n",
       "      <th>Hypertension</th>\n",
       "      <th>Heart Disease</th>\n",
       "      <th>Ever Married</th>\n",
       "      <th>Work</th>\n",
       "      <th>Residence</th>\n",
       "      <th>AVG Glucose</th>\n",
       "      <th>BMI</th>\n",
       "      <th>Smoking</th>\n",
       "      <th>Stroke</th>\n",
       "      <th>BMI Missing</th>\n",
       "    </tr>\n",
       "  </thead>\n",
       "  <tbody>\n",
       "    <tr>\n",
       "      <th>0</th>\n",
       "      <td>Male</td>\n",
       "      <td>67.0</td>\n",
       "      <td>0</td>\n",
       "      <td>1</td>\n",
       "      <td>Yes</td>\n",
       "      <td>Private</td>\n",
       "      <td>Urban</td>\n",
       "      <td>228.69</td>\n",
       "      <td>36.6</td>\n",
       "      <td>formerly smoked</td>\n",
       "      <td>1</td>\n",
       "      <td>0</td>\n",
       "    </tr>\n",
       "    <tr>\n",
       "      <th>1</th>\n",
       "      <td>Female</td>\n",
       "      <td>61.0</td>\n",
       "      <td>0</td>\n",
       "      <td>0</td>\n",
       "      <td>Yes</td>\n",
       "      <td>Self-employed</td>\n",
       "      <td>Rural</td>\n",
       "      <td>202.21</td>\n",
       "      <td>28.1</td>\n",
       "      <td>never smoked</td>\n",
       "      <td>1</td>\n",
       "      <td>1</td>\n",
       "    </tr>\n",
       "    <tr>\n",
       "      <th>2</th>\n",
       "      <td>Male</td>\n",
       "      <td>80.0</td>\n",
       "      <td>0</td>\n",
       "      <td>1</td>\n",
       "      <td>Yes</td>\n",
       "      <td>Private</td>\n",
       "      <td>Rural</td>\n",
       "      <td>105.92</td>\n",
       "      <td>32.5</td>\n",
       "      <td>never smoked</td>\n",
       "      <td>1</td>\n",
       "      <td>0</td>\n",
       "    </tr>\n",
       "    <tr>\n",
       "      <th>3</th>\n",
       "      <td>Female</td>\n",
       "      <td>49.0</td>\n",
       "      <td>0</td>\n",
       "      <td>0</td>\n",
       "      <td>Yes</td>\n",
       "      <td>Private</td>\n",
       "      <td>Urban</td>\n",
       "      <td>171.23</td>\n",
       "      <td>34.4</td>\n",
       "      <td>smokes</td>\n",
       "      <td>1</td>\n",
       "      <td>0</td>\n",
       "    </tr>\n",
       "    <tr>\n",
       "      <th>4</th>\n",
       "      <td>Female</td>\n",
       "      <td>79.0</td>\n",
       "      <td>1</td>\n",
       "      <td>0</td>\n",
       "      <td>Yes</td>\n",
       "      <td>Self-employed</td>\n",
       "      <td>Rural</td>\n",
       "      <td>174.12</td>\n",
       "      <td>24.0</td>\n",
       "      <td>never smoked</td>\n",
       "      <td>1</td>\n",
       "      <td>0</td>\n",
       "    </tr>\n",
       "  </tbody>\n",
       "</table>\n",
       "</div>"
      ],
      "text/plain": [
       "   Gender   Age  Hypertension  Heart Disease Ever Married           Work  \\\n",
       "0    Male  67.0             0              1          Yes        Private   \n",
       "1  Female  61.0             0              0          Yes  Self-employed   \n",
       "2    Male  80.0             0              1          Yes        Private   \n",
       "3  Female  49.0             0              0          Yes        Private   \n",
       "4  Female  79.0             1              0          Yes  Self-employed   \n",
       "\n",
       "  Residence  AVG Glucose   BMI          Smoking  Stroke  BMI Missing  \n",
       "0     Urban       228.69  36.6  formerly smoked       1            0  \n",
       "1     Rural       202.21  28.1     never smoked       1            1  \n",
       "2     Rural       105.92  32.5     never smoked       1            0  \n",
       "3     Urban       171.23  34.4           smokes       1            0  \n",
       "4     Rural       174.12  24.0     never smoked       1            0  "
      ]
     },
     "execution_count": 324,
     "metadata": {},
     "output_type": "execute_result"
    }
   ],
   "source": [
    "stroke_patients.head()"
   ]
  },
  {
   "cell_type": "code",
   "execution_count": 325,
   "id": "c4a89710",
   "metadata": {},
   "outputs": [
    {
     "data": {
      "image/png": "[encoded data removed]",
      "text/plain": [
       "<Figure size 1000x600 with 1 Axes>"
      ]
     },
     "metadata": {},
     "output_type": "display_data"
    }
   ],
   "source": [
    "y = 'Count'\n",
    "df = age_group_counts \n",
    "\n",
    "x = new_feature\n",
    "y = y\n",
    "df = df\n",
    "xlabel = new_feature\n",
    "ylabel = y\n",
    "labels = labels\n",
    "title = 'Ages of Stroke Patients'\n",
    "\n",
    "\n",
    "barplot(df, x, y, xlabel, ylabel, labels, title)"
   ]
  },
  {
   "cell_type": "code",
   "execution_count": 100,
   "id": "0bc3a181",
   "metadata": {},
   "outputs": [],
   "source": [
    "data = data[data['Age'] > 57]"
   ]
  },
  {
   "cell_type": "code",
   "execution_count": 101,
   "id": "bb23e15a",
   "metadata": {},
   "outputs": [
    {
     "data": {
      "text/plain": [
       "(1524, 13)"
      ]
     },
     "execution_count": 101,
     "metadata": {},
     "output_type": "execute_result"
    }
   ],
   "source": [
    "data.shape"
   ]
  },
  {
   "cell_type": "markdown",
   "id": "2c5be447",
   "metadata": {},
   "source": [
    "### Section Summary\n",
    "> * The age range is 25 to 35.\n",
    "> * About 25% of the customers are 28, the youngest group.\n",
    "> * Only 3% of the customers are 35, the oldest group."
   ]
  },
  {
   "cell_type": "markdown",
   "id": "c82826dd",
   "metadata": {},
   "source": [
    "# **Hypothesis Tests**"
   ]
  },
  {
   "cell_type": "markdown",
   "id": "46462920",
   "metadata": {},
   "source": [
    "## **Hypothesis Test: Smoking Habits and Stroke** "
   ]
  },
  {
   "cell_type": "markdown",
   "id": "632dd266",
   "metadata": {},
   "source": [
    "**Null**: There is no significant difference between the proporation of smokers who suffered a stroke and non-smokers.<BR>\n",
    "**Alternative**: A higher proportion of smokers suffered a stroke compared to non-smokers. "
   ]
  },
  {
   "cell_type": "code",
   "execution_count": 335,
   "id": "d6b29250",
   "metadata": {},
   "outputs": [],
   "source": [
    "df = engineered_data.copy()\n",
    "feature = 'Smoking'"
   ]
  },
  {
   "cell_type": "code",
   "execution_count": 336,
   "id": "2451c068",
   "metadata": {},
   "outputs": [
    {
     "name": "stdout",
     "output_type": "stream",
     "text": [
      "Proportion of smokers who are suffered a stroke 0.053\n"
     ]
    }
   ],
   "source": [
    "smokers = df.loc[df[feature] == 'smokes']\n",
    "count_smokers = smokers.shape[0]\n",
    "count_smoker_stroke = (smokers[target] == 1).sum()\n",
    "prop_smoker_stroke = count_smoker_stroke / count_smokers\n",
    "print(\n",
    "    f\"Proportion of smokers who are suffered a stroke {prop_smoker_stroke:.3f}\"\n",
    ")"
   ]
  },
  {
   "cell_type": "code",
   "execution_count": 333,
   "id": "6993eb6f",
   "metadata": {},
   "outputs": [
    {
     "name": "stdout",
     "output_type": "stream",
     "text": [
      "Proportion of nonsmokers who are suffered a stroke 0.048\n"
     ]
    }
   ],
   "source": [
    "nonsmokers = df.loc[df[feature] == 'never smoked']\n",
    "count_nonsmokers = nonsmokers.shape[0]\n",
    "count_nonsmoker_stroke = (nonsmokers[target] == 1).sum()\n",
    "prop_nonsmoker_stroke = count_nonsmoker_stroke / count_nonsmokers\n",
    "print(\n",
    "    f\"Proportion of nonsmokers who are suffered a stroke {prop_nonsmoker_stroke:.3f}\"\n",
    ")"
   ]
  },
  {
   "cell_type": "code",
   "execution_count": 337,
   "id": "abfebded",
   "metadata": {},
   "outputs": [
    {
     "name": "stdout",
     "output_type": "stream",
     "text": [
      "P-value: 0.54\n"
     ]
    }
   ],
   "source": [
    "numerator = np.array([count_smoker_stroke, count_nonsmoker_stroke])\n",
    "denominator = np.array([count_smokers, count_nonsmokers])\n",
    "\n",
    "stat, pval = proportions_ztest(numerator, denominator, alternative=\"two-sided\")\n",
    "\n",
    "print(f\"P-value: {pval:.2f}\")"
   ]
  },
  {
   "cell_type": "markdown",
   "id": "09381528",
   "metadata": {},
   "source": [
    "### Section Summary\n",
    "> * A large majority of customers (over 85%) are college graduates.\n",
    "> * Only about 15% of customers are non-graduates.  \n",
    "> * I conducted a proportions z-test to test the hypothesis that there is no significant difference between the proportion of college graduates who bought travel insurance and non-graduates.\n",
    "> * Using this test, the p-value is much greater than the significance level of 0.05. \n",
    "> * Based on this evidence, I fail to reject the null hypothesis. \n",
    "> * I can conclude that there is not enough evidence to support that there is a significant difference smokers who are stroke patients and nonsmokers who are stroke patients."
   ]
  },
  {
   "cell_type": "markdown",
   "id": "94f9e0a1",
   "metadata": {},
   "source": [
    "## **Hypothesis Test: Heart Disease and Stroke**"
   ]
  },
  {
   "cell_type": "markdown",
   "id": "183d01a8",
   "metadata": {},
   "source": [
    "**Null**: There is no significant difference between the proportion of patients who were diagnosed with heart disease who suffered a stroke and patients who were not diagnosed with heart disease.<BR>\n",
    "**Alternative**: A higher proportion of patients with heart disease suffered a stroke compared to patients who were not diagnosed with heart disease. "
   ]
  },
  {
   "cell_type": "code",
   "execution_count": 338,
   "id": "b7f248ff",
   "metadata": {},
   "outputs": [],
   "source": [
    "df = engineered_data.copy()\n",
    "feature = 'Heart Disease'"
   ]
  },
  {
   "cell_type": "code",
   "execution_count": 339,
   "id": "267508b3",
   "metadata": {},
   "outputs": [
    {
     "name": "stdout",
     "output_type": "stream",
     "text": [
      "Proportion of patients with heart disease diagnosis who suffered a stroke 0.170\n"
     ]
    }
   ],
   "source": [
    "heartdisease = df.loc[df[feature] == 1]\n",
    "count_heartdisease = heartdisease.shape[0]\n",
    "count_heartdisease_stroke = (heartdisease[target] == 1).sum()\n",
    "prop_heartdisease_stroke = count_heartdisease_stroke / count_heartdisease\n",
    "print(\n",
    "    f\"Proportion of patients with heart disease diagnosis who suffered a stroke {prop_heartdisease_stroke:.3f}\"\n",
    ")"
   ]
  },
  {
   "cell_type": "code",
   "execution_count": 340,
   "id": "8b2ca83a",
   "metadata": {},
   "outputs": [
    {
     "name": "stdout",
     "output_type": "stream",
     "text": [
      "Proportion of patients with heart disease diagnosis who suffered a stroke 0.048\n"
     ]
    }
   ],
   "source": [
    "without_heartdisease = df.loc[df[feature] == 0]\n",
    "count_without_heartdisease = without_heartdisease.shape[0]\n",
    "count_without_heartdisease_stroke = (without_heartdisease[target] == 1).sum()\n",
    "prop_without_heartdisease_stroke = count_without_heartdisease_stroke / count_without_heartdisease\n",
    "print(\n",
    "    f\"Proportion of patients with heart disease diagnosis who suffered a stroke {prop_nonsmoker_stroke:.3f}\"\n",
    ")"
   ]
  },
  {
   "cell_type": "code",
   "execution_count": 343,
   "id": "a3dd6910",
   "metadata": {},
   "outputs": [
    {
     "name": "stdout",
     "output_type": "stream",
     "text": [
      "P-value: 0.00\n"
     ]
    }
   ],
   "source": [
    "numerator = np.array([count_heartdisease_stroke, count_without_heartdisease_stroke])\n",
    "denominator = np.array([count_heartdisease, count_without_heartdisease])\n",
    "\n",
    "stat, pval = proportions_ztest(numerator, denominator, alternative=\"two-sided\")\n",
    "\n",
    "print(f\"P-value: {pval:.2f}\")"
   ]
  },
  {
   "cell_type": "markdown",
   "id": "ed7160d1",
   "metadata": {},
   "source": [
    "### Section Summary\n",
    "> * Nearly 75% of customers reported no history of chronic diseases.  \n",
    "> * I conducted a proportions z-test to test the hypothesis that there is no significant difference between the proportion of customers with a history of chronic diseases who bought travel insurance compared to customers without such a history. \n",
    "> * The p-value obtained is much greater than the significance level of 0.05. \n",
    "> * Therefore, I failed to reject the null hypothesis and can conclude that there is not enough evidence to support that a significant difference exists between the proportion of customers with a history of chronic diseases who bought travel insurance compared to customers without such a history exists. "
   ]
  },
  {
   "cell_type": "markdown",
   "id": "8a96e1e6",
   "metadata": {},
   "source": [
    "# **Encoding**"
   ]
  },
  {
   "cell_type": "code",
   "execution_count": 344,
   "id": "4f61b4dd",
   "metadata": {},
   "outputs": [
    {
     "data": {
      "text/html": [
       "<div>\n",
       "<style scoped>\n",
       "    .dataframe tbody tr th:only-of-type {\n",
       "        vertical-align: middle;\n",
       "    }\n",
       "\n",
       "    .dataframe tbody tr th {\n",
       "        vertical-align: top;\n",
       "    }\n",
       "\n",
       "    .dataframe thead th {\n",
       "        text-align: right;\n",
       "    }\n",
       "</style>\n",
       "<table border=\"1\" class=\"dataframe\">\n",
       "  <thead>\n",
       "    <tr style=\"text-align: right;\">\n",
       "      <th></th>\n",
       "      <th>Gender</th>\n",
       "      <th>Age</th>\n",
       "      <th>Hypertension</th>\n",
       "      <th>Heart Disease</th>\n",
       "      <th>Ever Married</th>\n",
       "      <th>Work</th>\n",
       "      <th>Residence</th>\n",
       "      <th>AVG Glucose</th>\n",
       "      <th>BMI</th>\n",
       "      <th>Smoking</th>\n",
       "      <th>Stroke</th>\n",
       "      <th>BMI Missing</th>\n",
       "    </tr>\n",
       "  </thead>\n",
       "  <tbody>\n",
       "    <tr>\n",
       "      <th>0</th>\n",
       "      <td>Male</td>\n",
       "      <td>67.0</td>\n",
       "      <td>0</td>\n",
       "      <td>1</td>\n",
       "      <td>Yes</td>\n",
       "      <td>Private</td>\n",
       "      <td>Urban</td>\n",
       "      <td>228.69</td>\n",
       "      <td>36.6</td>\n",
       "      <td>formerly smoked</td>\n",
       "      <td>1</td>\n",
       "      <td>0</td>\n",
       "    </tr>\n",
       "    <tr>\n",
       "      <th>1</th>\n",
       "      <td>Female</td>\n",
       "      <td>61.0</td>\n",
       "      <td>0</td>\n",
       "      <td>0</td>\n",
       "      <td>Yes</td>\n",
       "      <td>Self-employed</td>\n",
       "      <td>Rural</td>\n",
       "      <td>202.21</td>\n",
       "      <td>28.1</td>\n",
       "      <td>never smoked</td>\n",
       "      <td>1</td>\n",
       "      <td>1</td>\n",
       "    </tr>\n",
       "    <tr>\n",
       "      <th>2</th>\n",
       "      <td>Male</td>\n",
       "      <td>80.0</td>\n",
       "      <td>0</td>\n",
       "      <td>1</td>\n",
       "      <td>Yes</td>\n",
       "      <td>Private</td>\n",
       "      <td>Rural</td>\n",
       "      <td>105.92</td>\n",
       "      <td>32.5</td>\n",
       "      <td>never smoked</td>\n",
       "      <td>1</td>\n",
       "      <td>0</td>\n",
       "    </tr>\n",
       "    <tr>\n",
       "      <th>3</th>\n",
       "      <td>Female</td>\n",
       "      <td>49.0</td>\n",
       "      <td>0</td>\n",
       "      <td>0</td>\n",
       "      <td>Yes</td>\n",
       "      <td>Private</td>\n",
       "      <td>Urban</td>\n",
       "      <td>171.23</td>\n",
       "      <td>34.4</td>\n",
       "      <td>smokes</td>\n",
       "      <td>1</td>\n",
       "      <td>0</td>\n",
       "    </tr>\n",
       "    <tr>\n",
       "      <th>4</th>\n",
       "      <td>Female</td>\n",
       "      <td>79.0</td>\n",
       "      <td>1</td>\n",
       "      <td>0</td>\n",
       "      <td>Yes</td>\n",
       "      <td>Self-employed</td>\n",
       "      <td>Rural</td>\n",
       "      <td>174.12</td>\n",
       "      <td>24.0</td>\n",
       "      <td>never smoked</td>\n",
       "      <td>1</td>\n",
       "      <td>0</td>\n",
       "    </tr>\n",
       "  </tbody>\n",
       "</table>\n",
       "</div>"
      ],
      "text/plain": [
       "   Gender   Age  Hypertension  Heart Disease Ever Married           Work  \\\n",
       "0    Male  67.0             0              1          Yes        Private   \n",
       "1  Female  61.0             0              0          Yes  Self-employed   \n",
       "2    Male  80.0             0              1          Yes        Private   \n",
       "3  Female  49.0             0              0          Yes        Private   \n",
       "4  Female  79.0             1              0          Yes  Self-employed   \n",
       "\n",
       "  Residence  AVG Glucose   BMI          Smoking  Stroke  BMI Missing  \n",
       "0     Urban       228.69  36.6  formerly smoked       1            0  \n",
       "1     Rural       202.21  28.1     never smoked       1            1  \n",
       "2     Rural       105.92  32.5     never smoked       1            0  \n",
       "3     Urban       171.23  34.4           smokes       1            0  \n",
       "4     Rural       174.12  24.0     never smoked       1            0  "
      ]
     },
     "execution_count": 344,
     "metadata": {},
     "output_type": "execute_result"
    }
   ],
   "source": [
    "engineered_data.head()"
   ]
  },
  {
   "cell_type": "code",
   "execution_count": 350,
   "id": "9e1c773b",
   "metadata": {},
   "outputs": [],
   "source": [
    "df_encoded = engineered_data.copy()\n",
    "\n",
    "label_encoder = LabelEncoder()\n",
    "\n",
    "obj = df_encoded.dtypes == \"object\"\n",
    "\n",
    "for col in list(obj[obj].index):\n",
    "    df_encoded[col] = label_encoder.fit_transform(data[col])"
   ]
  },
  {
   "cell_type": "markdown",
   "id": "f101bbf0",
   "metadata": {},
   "source": [
    "## **Correlation between each Feature and the Target Feature**"
   ]
  },
  {
   "cell_type": "code",
   "execution_count": 351,
   "id": "2f0de5b8",
   "metadata": {
    "scrolled": true
   },
   "outputs": [
    {
     "data": {
      "text/plain": [
       "Stroke           1.000000\n",
       "Age              0.245239\n",
       "BMI Missing      0.141231\n",
       "Heart Disease    0.134905\n",
       "AVG Glucose      0.131991\n",
       "Hypertension     0.127891\n",
       "Ever Married     0.108299\n",
       "BMI              0.036075\n",
       "Smoking          0.028108\n",
       "Residence        0.015415\n",
       "Gender           0.009081\n",
       "Work            -0.032323\n",
       "Name: Stroke, dtype: float64"
      ]
     },
     "execution_count": 351,
     "metadata": {},
     "output_type": "execute_result"
    }
   ],
   "source": [
    "corr_matrix = df_encoded.corr(numeric_only=True)\n",
    "corr_matrix['Stroke'].sort_values(ascending=False)"
   ]
  },
  {
   "cell_type": "markdown",
   "id": "f62a00a8",
   "metadata": {},
   "source": [
    "## Correlations between Features"
   ]
  },
  {
   "cell_type": "code",
   "execution_count": 361,
   "id": "7d9218cf",
   "metadata": {},
   "outputs": [],
   "source": [
    "def create_heatmap(data, title):\n",
    "    \"\"\"\n",
    "    Creates a Seaborn heatmap.\n",
    "    \"\"\"\n",
    "\n",
    "    plt.rcParams.update(params)\n",
    "    corr = data.corr()\n",
    "\n",
    "    mask = np.triu(np.ones_like(corr, dtype=bool))\n",
    "\n",
    "    f, ax = plt.subplots(figsize=(20, 15))\n",
    "\n",
    "    cmap = sns.diverging_palette(230, 10, as_cmap=True)\n",
    "    heatmap = sns.heatmap(\n",
    "        corr,\n",
    "        mask=mask,\n",
    "        vmax=1,\n",
    "        vmin=-1,\n",
    "        center=0,\n",
    "        square=True,\n",
    "        linewidths=0.5,\n",
    "        cbar_kws={\"shrink\": 0.5},\n",
    "        annot=True,\n",
    "        cmap=plt.cm.Reds,\n",
    "    )\n",
    "\n",
    "    heatmap.set_title(\n",
    "        title,\n",
    "        fontdict={\"fontsize\": size},\n",
    "        pad=12,\n",
    "    )\n",
    "    plt.xlabel(\"\")\n",
    "    plt.ylabel(\"\")"
   ]
  },
  {
   "cell_type": "code",
   "execution_count": 362,
   "id": "35d40ffc",
   "metadata": {
    "scrolled": false
   },
   "outputs": [
    {
     "data": {
      "image/png": "[encoded data removed]",
      "text/plain": [
       "<Figure size 2000x1500 with 2 Axes>"
      ]
     },
     "metadata": {},
     "output_type": "display_data"
    }
   ],
   "source": [
    "title = \"Correlation of Features\"\n",
    "create_heatmap(df_encoded, title)"
   ]
  },
  {
   "cell_type": "code",
   "execution_count": 364,
   "id": "7387dcd2",
   "metadata": {},
   "outputs": [],
   "source": [
    "def plot_mi_scores(features, mi_scores):\n",
    "    \n",
    "    scores = pd.Series(mi_scores, name=\"MI Scores\", index=features.columns)\n",
    "    scores = scores.sort_values(ascending=False)\n",
    "    plt.figure(figsize=(8, 6))\n",
    "    scores.plot(kind=\"barh\")\n",
    "    plt.title(\"Mutual Information Scores\")\n",
    "    plt.xlabel(\"Score\")\n",
    "    plt.ylabel(\"Features\")\n",
    "    plt.show()"
   ]
  },
  {
   "cell_type": "code",
   "execution_count": 366,
   "id": "0ce55e85",
   "metadata": {},
   "outputs": [
    {
     "ename": "NameError",
     "evalue": "name 'target_column' is not defined",
     "output_type": "error",
     "traceback": [
      "\u001b[1;31m---------------------------------------------------------------------------\u001b[0m",
      "\u001b[1;31mNameError\u001b[0m                                 Traceback (most recent call last)",
      "Cell \u001b[1;32mIn[366], line 5\u001b[0m\n\u001b[0;32m      2\u001b[0m df \u001b[38;5;241m=\u001b[39m engineered_data\u001b[38;5;241m.\u001b[39mcopy()\n\u001b[0;32m      3\u001b[0m random_seed \u001b[38;5;241m=\u001b[39m \u001b[38;5;241m42\u001b[39m\n\u001b[1;32m----> 5\u001b[0m mi_scores \u001b[38;5;241m=\u001b[39m mutual_info_classif(data, \u001b[43mtarget_column\u001b[49m, random_state\u001b[38;5;241m=\u001b[39mrandom_seed)\n\u001b[0;32m      6\u001b[0m plot_mi_scores(features, mi_scores)\n",
      "\u001b[1;31mNameError\u001b[0m: name 'target_column' is not defined"
     ]
    }
   ],
   "source": [
    "from sklearn.feature_selection import mutual_info_classif\n",
    "df = engineered_data.copy()\n",
    "random_seed = 42\n",
    "\n",
    "mi_scores = mutual_info_classif(data, target_column, random_state=random_seed)\n",
    "plot_mi_scores(features, mi_scores)"
   ]
  },
  {
   "cell_type": "markdown",
   "id": "530c54f8",
   "metadata": {},
   "source": [
    "### Section Summary\n",
    "> * For this project a strong correlation would be a Pearson correlation coefficient of 0.8 or higher. \n",
    "> * There are very weak correlations between any one numeric feature and the other numeric features.\n",
    "> * Furthermore, the correlations between each numeric feature and the target feature are also very weak."
   ]
  },
  {
   "cell_type": "markdown",
   "id": "13c7b30d",
   "metadata": {},
   "source": [
    "# Machine Learning"
   ]
  },
  {
   "cell_type": "code",
   "execution_count": 230,
   "id": "d1b772ed",
   "metadata": {},
   "outputs": [],
   "source": [
    "random_state = 101\n",
    "\n",
    "X = data.drop(target, axis=1)\n",
    "y = data[target]\n",
    "\n",
    "X, y = shuffle(X, y, random_state=random_state)\n",
    "\n",
    "X_train, X_test, y_train, y_test = train_test_split(\n",
    "    X, y, test_size=0.2, random_state=random_state\n",
    ")"
   ]
  },
  {
   "cell_type": "markdown",
   "id": "571f61d8",
   "metadata": {},
   "source": [
    "# **Feature Engineering**"
   ]
  },
  {
   "cell_type": "markdown",
   "id": "63696a6d",
   "metadata": {},
   "source": [
    "## **Age Squared**"
   ]
  },
  {
   "cell_type": "code",
   "execution_count": 236,
   "id": "7e9a83d9",
   "metadata": {},
   "outputs": [],
   "source": [
    "engineered_data = data.copy()\n",
    "engineered_data['Age Squared'] = data['Age'] ** 2"
   ]
  },
  {
   "cell_type": "markdown",
   "id": "91e6552f",
   "metadata": {},
   "source": [
    "## **Glucose Level**"
   ]
  },
  {
   "cell_type": "code",
   "execution_count": 238,
   "id": "2696a063",
   "metadata": {},
   "outputs": [],
   "source": [
    "engineered_data['Glucose Level'] = pd.cut(engineered_data['AVG Glucose'], bins=[50, 100, 150, 200, 250, 300], labels=['Very Low', 'Low', 'Normal', 'High', 'Very High'])\n",
    "engineered_data['Glucose Level'] = engineered_data['Glucose Level'].astype('object')"
   ]
  },
  {
   "cell_type": "code",
   "execution_count": 239,
   "id": "5daa079e",
   "metadata": {},
   "outputs": [
    {
     "data": {
      "text/html": [
       "<div>\n",
       "<style scoped>\n",
       "    .dataframe tbody tr th:only-of-type {\n",
       "        vertical-align: middle;\n",
       "    }\n",
       "\n",
       "    .dataframe tbody tr th {\n",
       "        vertical-align: top;\n",
       "    }\n",
       "\n",
       "    .dataframe thead th {\n",
       "        text-align: right;\n",
       "    }\n",
       "</style>\n",
       "<table border=\"1\" class=\"dataframe\">\n",
       "  <thead>\n",
       "    <tr style=\"text-align: right;\">\n",
       "      <th></th>\n",
       "      <th>Gender</th>\n",
       "      <th>Age</th>\n",
       "      <th>Hypertension</th>\n",
       "      <th>Heart Disease</th>\n",
       "      <th>Ever Married</th>\n",
       "      <th>Work</th>\n",
       "      <th>Residence</th>\n",
       "      <th>AVG Glucose</th>\n",
       "      <th>BMI</th>\n",
       "      <th>Smoking</th>\n",
       "      <th>Stroke</th>\n",
       "      <th>Age Squared</th>\n",
       "      <th>Glucose Level</th>\n",
       "    </tr>\n",
       "  </thead>\n",
       "  <tbody>\n",
       "    <tr>\n",
       "      <th>0</th>\n",
       "      <td>1</td>\n",
       "      <td>67.0</td>\n",
       "      <td>0</td>\n",
       "      <td>1</td>\n",
       "      <td>1</td>\n",
       "      <td>2</td>\n",
       "      <td>1</td>\n",
       "      <td>228.69</td>\n",
       "      <td>36.6</td>\n",
       "      <td>1</td>\n",
       "      <td>1</td>\n",
       "      <td>4489.0</td>\n",
       "      <td>High</td>\n",
       "    </tr>\n",
       "    <tr>\n",
       "      <th>1</th>\n",
       "      <td>0</td>\n",
       "      <td>61.0</td>\n",
       "      <td>0</td>\n",
       "      <td>0</td>\n",
       "      <td>1</td>\n",
       "      <td>3</td>\n",
       "      <td>0</td>\n",
       "      <td>202.21</td>\n",
       "      <td>NaN</td>\n",
       "      <td>2</td>\n",
       "      <td>1</td>\n",
       "      <td>3721.0</td>\n",
       "      <td>High</td>\n",
       "    </tr>\n",
       "    <tr>\n",
       "      <th>2</th>\n",
       "      <td>1</td>\n",
       "      <td>80.0</td>\n",
       "      <td>0</td>\n",
       "      <td>1</td>\n",
       "      <td>1</td>\n",
       "      <td>2</td>\n",
       "      <td>0</td>\n",
       "      <td>105.92</td>\n",
       "      <td>32.5</td>\n",
       "      <td>2</td>\n",
       "      <td>1</td>\n",
       "      <td>6400.0</td>\n",
       "      <td>Low</td>\n",
       "    </tr>\n",
       "    <tr>\n",
       "      <th>3</th>\n",
       "      <td>0</td>\n",
       "      <td>49.0</td>\n",
       "      <td>0</td>\n",
       "      <td>0</td>\n",
       "      <td>1</td>\n",
       "      <td>2</td>\n",
       "      <td>1</td>\n",
       "      <td>171.23</td>\n",
       "      <td>34.4</td>\n",
       "      <td>3</td>\n",
       "      <td>1</td>\n",
       "      <td>2401.0</td>\n",
       "      <td>Normal</td>\n",
       "    </tr>\n",
       "    <tr>\n",
       "      <th>4</th>\n",
       "      <td>0</td>\n",
       "      <td>79.0</td>\n",
       "      <td>1</td>\n",
       "      <td>0</td>\n",
       "      <td>1</td>\n",
       "      <td>3</td>\n",
       "      <td>0</td>\n",
       "      <td>174.12</td>\n",
       "      <td>24.0</td>\n",
       "      <td>2</td>\n",
       "      <td>1</td>\n",
       "      <td>6241.0</td>\n",
       "      <td>Normal</td>\n",
       "    </tr>\n",
       "  </tbody>\n",
       "</table>\n",
       "</div>"
      ],
      "text/plain": [
       "   Gender   Age  Hypertension  Heart Disease  Ever Married  Work  Residence  \\\n",
       "0       1  67.0             0              1             1     2          1   \n",
       "1       0  61.0             0              0             1     3          0   \n",
       "2       1  80.0             0              1             1     2          0   \n",
       "3       0  49.0             0              0             1     2          1   \n",
       "4       0  79.0             1              0             1     3          0   \n",
       "\n",
       "   AVG Glucose   BMI  Smoking  Stroke  Age Squared Glucose Level  \n",
       "0       228.69  36.6        1       1       4489.0          High  \n",
       "1       202.21   NaN        2       1       3721.0          High  \n",
       "2       105.92  32.5        2       1       6400.0           Low  \n",
       "3       171.23  34.4        3       1       2401.0        Normal  \n",
       "4       174.12  24.0        2       1       6241.0        Normal  "
      ]
     },
     "execution_count": 239,
     "metadata": {},
     "output_type": "execute_result"
    }
   ],
   "source": [
    "engineered_data.head()"
   ]
  },
  {
   "cell_type": "markdown",
   "id": "3987bd19",
   "metadata": {},
   "source": [
    "## **BMI Level**"
   ]
  },
  {
   "cell_type": "code",
   "execution_count": 241,
   "id": "a50493f4",
   "metadata": {},
   "outputs": [],
   "source": [
    "engineered_data['BMI Level'] = pd.cut(engineered_data['BMI'], bins=[10, 30, 50, 70, 90, 100], labels=['Very Low', 'Low', 'Normal', 'High', 'Very High'])\n",
    "engineered_data['BMI Level'] = engineered_data['BMI Level'].astype('object')"
   ]
  },
  {
   "cell_type": "code",
   "execution_count": 242,
   "id": "72c0a11f",
   "metadata": {},
   "outputs": [
    {
     "data": {
      "text/html": [
       "<div>\n",
       "<style scoped>\n",
       "    .dataframe tbody tr th:only-of-type {\n",
       "        vertical-align: middle;\n",
       "    }\n",
       "\n",
       "    .dataframe tbody tr th {\n",
       "        vertical-align: top;\n",
       "    }\n",
       "\n",
       "    .dataframe thead th {\n",
       "        text-align: right;\n",
       "    }\n",
       "</style>\n",
       "<table border=\"1\" class=\"dataframe\">\n",
       "  <thead>\n",
       "    <tr style=\"text-align: right;\">\n",
       "      <th></th>\n",
       "      <th>Gender</th>\n",
       "      <th>Age</th>\n",
       "      <th>Hypertension</th>\n",
       "      <th>Heart Disease</th>\n",
       "      <th>Ever Married</th>\n",
       "      <th>Work</th>\n",
       "      <th>Residence</th>\n",
       "      <th>AVG Glucose</th>\n",
       "      <th>BMI</th>\n",
       "      <th>Smoking</th>\n",
       "      <th>Stroke</th>\n",
       "      <th>Age Squared</th>\n",
       "      <th>Glucose Level</th>\n",
       "      <th>BMI Level</th>\n",
       "    </tr>\n",
       "  </thead>\n",
       "  <tbody>\n",
       "    <tr>\n",
       "      <th>0</th>\n",
       "      <td>1</td>\n",
       "      <td>67.0</td>\n",
       "      <td>0</td>\n",
       "      <td>1</td>\n",
       "      <td>1</td>\n",
       "      <td>2</td>\n",
       "      <td>1</td>\n",
       "      <td>228.69</td>\n",
       "      <td>36.6</td>\n",
       "      <td>1</td>\n",
       "      <td>1</td>\n",
       "      <td>4489.0</td>\n",
       "      <td>High</td>\n",
       "      <td>Low</td>\n",
       "    </tr>\n",
       "    <tr>\n",
       "      <th>1</th>\n",
       "      <td>0</td>\n",
       "      <td>61.0</td>\n",
       "      <td>0</td>\n",
       "      <td>0</td>\n",
       "      <td>1</td>\n",
       "      <td>3</td>\n",
       "      <td>0</td>\n",
       "      <td>202.21</td>\n",
       "      <td>NaN</td>\n",
       "      <td>2</td>\n",
       "      <td>1</td>\n",
       "      <td>3721.0</td>\n",
       "      <td>High</td>\n",
       "      <td>NaN</td>\n",
       "    </tr>\n",
       "    <tr>\n",
       "      <th>2</th>\n",
       "      <td>1</td>\n",
       "      <td>80.0</td>\n",
       "      <td>0</td>\n",
       "      <td>1</td>\n",
       "      <td>1</td>\n",
       "      <td>2</td>\n",
       "      <td>0</td>\n",
       "      <td>105.92</td>\n",
       "      <td>32.5</td>\n",
       "      <td>2</td>\n",
       "      <td>1</td>\n",
       "      <td>6400.0</td>\n",
       "      <td>Low</td>\n",
       "      <td>Low</td>\n",
       "    </tr>\n",
       "    <tr>\n",
       "      <th>3</th>\n",
       "      <td>0</td>\n",
       "      <td>49.0</td>\n",
       "      <td>0</td>\n",
       "      <td>0</td>\n",
       "      <td>1</td>\n",
       "      <td>2</td>\n",
       "      <td>1</td>\n",
       "      <td>171.23</td>\n",
       "      <td>34.4</td>\n",
       "      <td>3</td>\n",
       "      <td>1</td>\n",
       "      <td>2401.0</td>\n",
       "      <td>Normal</td>\n",
       "      <td>Low</td>\n",
       "    </tr>\n",
       "    <tr>\n",
       "      <th>4</th>\n",
       "      <td>0</td>\n",
       "      <td>79.0</td>\n",
       "      <td>1</td>\n",
       "      <td>0</td>\n",
       "      <td>1</td>\n",
       "      <td>3</td>\n",
       "      <td>0</td>\n",
       "      <td>174.12</td>\n",
       "      <td>24.0</td>\n",
       "      <td>2</td>\n",
       "      <td>1</td>\n",
       "      <td>6241.0</td>\n",
       "      <td>Normal</td>\n",
       "      <td>Very Low</td>\n",
       "    </tr>\n",
       "  </tbody>\n",
       "</table>\n",
       "</div>"
      ],
      "text/plain": [
       "   Gender   Age  Hypertension  Heart Disease  Ever Married  Work  Residence  \\\n",
       "0       1  67.0             0              1             1     2          1   \n",
       "1       0  61.0             0              0             1     3          0   \n",
       "2       1  80.0             0              1             1     2          0   \n",
       "3       0  49.0             0              0             1     2          1   \n",
       "4       0  79.0             1              0             1     3          0   \n",
       "\n",
       "   AVG Glucose   BMI  Smoking  Stroke  Age Squared Glucose Level BMI Level  \n",
       "0       228.69  36.6        1       1       4489.0          High       Low  \n",
       "1       202.21   NaN        2       1       3721.0          High       NaN  \n",
       "2       105.92  32.5        2       1       6400.0           Low       Low  \n",
       "3       171.23  34.4        3       1       2401.0        Normal       Low  \n",
       "4       174.12  24.0        2       1       6241.0        Normal  Very Low  "
      ]
     },
     "execution_count": 242,
     "metadata": {},
     "output_type": "execute_result"
    }
   ],
   "source": [
    "engineered_data.head()"
   ]
  },
  {
   "cell_type": "markdown",
   "id": "01b1c01d",
   "metadata": {},
   "source": [
    "## **Marital and Work Interaction**"
   ]
  },
  {
   "cell_type": "code",
   "execution_count": 248,
   "id": "15f5e7b0",
   "metadata": {},
   "outputs": [],
   "source": [
    "engineered_data['Marriage/Work'] = engineered_data['Ever Married'].astype(str) + '_' + engineered_data['Work'].astype(str)\n",
    "engineered_data['Marriage/Work'] = engineered_data['Marriage/Work'] .astype('object')"
   ]
  },
  {
   "cell_type": "code",
   "execution_count": 249,
   "id": "5ea59cf4",
   "metadata": {},
   "outputs": [
    {
     "data": {
      "text/html": [
       "<div>\n",
       "<style scoped>\n",
       "    .dataframe tbody tr th:only-of-type {\n",
       "        vertical-align: middle;\n",
       "    }\n",
       "\n",
       "    .dataframe tbody tr th {\n",
       "        vertical-align: top;\n",
       "    }\n",
       "\n",
       "    .dataframe thead th {\n",
       "        text-align: right;\n",
       "    }\n",
       "</style>\n",
       "<table border=\"1\" class=\"dataframe\">\n",
       "  <thead>\n",
       "    <tr style=\"text-align: right;\">\n",
       "      <th></th>\n",
       "      <th>Gender</th>\n",
       "      <th>Age</th>\n",
       "      <th>Hypertension</th>\n",
       "      <th>Heart Disease</th>\n",
       "      <th>Ever Married</th>\n",
       "      <th>Work</th>\n",
       "      <th>Residence</th>\n",
       "      <th>AVG Glucose</th>\n",
       "      <th>BMI</th>\n",
       "      <th>Smoking</th>\n",
       "      <th>Stroke</th>\n",
       "      <th>Age Squared</th>\n",
       "      <th>Glucose Level</th>\n",
       "      <th>BMI Level</th>\n",
       "      <th>Hypertension/Heart Disease</th>\n",
       "      <th>Marriage/Work</th>\n",
       "    </tr>\n",
       "  </thead>\n",
       "  <tbody>\n",
       "    <tr>\n",
       "      <th>0</th>\n",
       "      <td>1</td>\n",
       "      <td>67.0</td>\n",
       "      <td>0</td>\n",
       "      <td>1</td>\n",
       "      <td>1</td>\n",
       "      <td>2</td>\n",
       "      <td>1</td>\n",
       "      <td>228.69</td>\n",
       "      <td>36.6</td>\n",
       "      <td>1</td>\n",
       "      <td>1</td>\n",
       "      <td>4489.0</td>\n",
       "      <td>High</td>\n",
       "      <td>Low</td>\n",
       "      <td>0_1</td>\n",
       "      <td>1_2</td>\n",
       "    </tr>\n",
       "    <tr>\n",
       "      <th>1</th>\n",
       "      <td>0</td>\n",
       "      <td>61.0</td>\n",
       "      <td>0</td>\n",
       "      <td>0</td>\n",
       "      <td>1</td>\n",
       "      <td>3</td>\n",
       "      <td>0</td>\n",
       "      <td>202.21</td>\n",
       "      <td>NaN</td>\n",
       "      <td>2</td>\n",
       "      <td>1</td>\n",
       "      <td>3721.0</td>\n",
       "      <td>High</td>\n",
       "      <td>NaN</td>\n",
       "      <td>0_0</td>\n",
       "      <td>1_3</td>\n",
       "    </tr>\n",
       "    <tr>\n",
       "      <th>2</th>\n",
       "      <td>1</td>\n",
       "      <td>80.0</td>\n",
       "      <td>0</td>\n",
       "      <td>1</td>\n",
       "      <td>1</td>\n",
       "      <td>2</td>\n",
       "      <td>0</td>\n",
       "      <td>105.92</td>\n",
       "      <td>32.5</td>\n",
       "      <td>2</td>\n",
       "      <td>1</td>\n",
       "      <td>6400.0</td>\n",
       "      <td>Low</td>\n",
       "      <td>Low</td>\n",
       "      <td>0_1</td>\n",
       "      <td>1_2</td>\n",
       "    </tr>\n",
       "    <tr>\n",
       "      <th>3</th>\n",
       "      <td>0</td>\n",
       "      <td>49.0</td>\n",
       "      <td>0</td>\n",
       "      <td>0</td>\n",
       "      <td>1</td>\n",
       "      <td>2</td>\n",
       "      <td>1</td>\n",
       "      <td>171.23</td>\n",
       "      <td>34.4</td>\n",
       "      <td>3</td>\n",
       "      <td>1</td>\n",
       "      <td>2401.0</td>\n",
       "      <td>Normal</td>\n",
       "      <td>Low</td>\n",
       "      <td>0_0</td>\n",
       "      <td>1_2</td>\n",
       "    </tr>\n",
       "    <tr>\n",
       "      <th>4</th>\n",
       "      <td>0</td>\n",
       "      <td>79.0</td>\n",
       "      <td>1</td>\n",
       "      <td>0</td>\n",
       "      <td>1</td>\n",
       "      <td>3</td>\n",
       "      <td>0</td>\n",
       "      <td>174.12</td>\n",
       "      <td>24.0</td>\n",
       "      <td>2</td>\n",
       "      <td>1</td>\n",
       "      <td>6241.0</td>\n",
       "      <td>Normal</td>\n",
       "      <td>Very Low</td>\n",
       "      <td>1_0</td>\n",
       "      <td>1_3</td>\n",
       "    </tr>\n",
       "  </tbody>\n",
       "</table>\n",
       "</div>"
      ],
      "text/plain": [
       "   Gender   Age  Hypertension  Heart Disease  Ever Married  Work  Residence  \\\n",
       "0       1  67.0             0              1             1     2          1   \n",
       "1       0  61.0             0              0             1     3          0   \n",
       "2       1  80.0             0              1             1     2          0   \n",
       "3       0  49.0             0              0             1     2          1   \n",
       "4       0  79.0             1              0             1     3          0   \n",
       "\n",
       "   AVG Glucose   BMI  Smoking  Stroke  Age Squared Glucose Level BMI Level  \\\n",
       "0       228.69  36.6        1       1       4489.0          High       Low   \n",
       "1       202.21   NaN        2       1       3721.0          High       NaN   \n",
       "2       105.92  32.5        2       1       6400.0           Low       Low   \n",
       "3       171.23  34.4        3       1       2401.0        Normal       Low   \n",
       "4       174.12  24.0        2       1       6241.0        Normal  Very Low   \n",
       "\n",
       "  Hypertension/Heart Disease Marriage/Work  \n",
       "0                        0_1           1_2  \n",
       "1                        0_0           1_3  \n",
       "2                        0_1           1_2  \n",
       "3                        0_0           1_2  \n",
       "4                        1_0           1_3  "
      ]
     },
     "execution_count": 249,
     "metadata": {},
     "output_type": "execute_result"
    }
   ],
   "source": [
    "engineered_data.head()"
   ]
  },
  {
   "cell_type": "markdown",
   "id": "16bda92b",
   "metadata": {},
   "source": [
    "## **Hypertension and Heart Disease Interaction**"
   ]
  },
  {
   "cell_type": "code",
   "execution_count": 246,
   "id": "beb22636",
   "metadata": {},
   "outputs": [],
   "source": [
    "engineered_data['Hypertension/Heart Disease'] = engineered_data['Hypertension'].astype(str) + '_' + engineered_data['Heart Disease'].astype(str)\n",
    "engineered_data['Hypertension/Heart Disease'] = engineered_data['Hypertension/Heart Disease'] .astype('object')"
   ]
  },
  {
   "cell_type": "code",
   "execution_count": 247,
   "id": "d27278a0",
   "metadata": {},
   "outputs": [
    {
     "data": {
      "text/html": [
       "<div>\n",
       "<style scoped>\n",
       "    .dataframe tbody tr th:only-of-type {\n",
       "        vertical-align: middle;\n",
       "    }\n",
       "\n",
       "    .dataframe tbody tr th {\n",
       "        vertical-align: top;\n",
       "    }\n",
       "\n",
       "    .dataframe thead th {\n",
       "        text-align: right;\n",
       "    }\n",
       "</style>\n",
       "<table border=\"1\" class=\"dataframe\">\n",
       "  <thead>\n",
       "    <tr style=\"text-align: right;\">\n",
       "      <th></th>\n",
       "      <th>Gender</th>\n",
       "      <th>Age</th>\n",
       "      <th>Hypertension</th>\n",
       "      <th>Heart Disease</th>\n",
       "      <th>Ever Married</th>\n",
       "      <th>Work</th>\n",
       "      <th>Residence</th>\n",
       "      <th>AVG Glucose</th>\n",
       "      <th>BMI</th>\n",
       "      <th>Smoking</th>\n",
       "      <th>Stroke</th>\n",
       "      <th>Age Squared</th>\n",
       "      <th>Glucose Level</th>\n",
       "      <th>BMI Level</th>\n",
       "      <th>Hypertension/Heart Disease</th>\n",
       "    </tr>\n",
       "  </thead>\n",
       "  <tbody>\n",
       "    <tr>\n",
       "      <th>0</th>\n",
       "      <td>1</td>\n",
       "      <td>67.0</td>\n",
       "      <td>0</td>\n",
       "      <td>1</td>\n",
       "      <td>1</td>\n",
       "      <td>2</td>\n",
       "      <td>1</td>\n",
       "      <td>228.69</td>\n",
       "      <td>36.6</td>\n",
       "      <td>1</td>\n",
       "      <td>1</td>\n",
       "      <td>4489.0</td>\n",
       "      <td>High</td>\n",
       "      <td>Low</td>\n",
       "      <td>0_1</td>\n",
       "    </tr>\n",
       "    <tr>\n",
       "      <th>1</th>\n",
       "      <td>0</td>\n",
       "      <td>61.0</td>\n",
       "      <td>0</td>\n",
       "      <td>0</td>\n",
       "      <td>1</td>\n",
       "      <td>3</td>\n",
       "      <td>0</td>\n",
       "      <td>202.21</td>\n",
       "      <td>NaN</td>\n",
       "      <td>2</td>\n",
       "      <td>1</td>\n",
       "      <td>3721.0</td>\n",
       "      <td>High</td>\n",
       "      <td>NaN</td>\n",
       "      <td>0_0</td>\n",
       "    </tr>\n",
       "    <tr>\n",
       "      <th>2</th>\n",
       "      <td>1</td>\n",
       "      <td>80.0</td>\n",
       "      <td>0</td>\n",
       "      <td>1</td>\n",
       "      <td>1</td>\n",
       "      <td>2</td>\n",
       "      <td>0</td>\n",
       "      <td>105.92</td>\n",
       "      <td>32.5</td>\n",
       "      <td>2</td>\n",
       "      <td>1</td>\n",
       "      <td>6400.0</td>\n",
       "      <td>Low</td>\n",
       "      <td>Low</td>\n",
       "      <td>0_1</td>\n",
       "    </tr>\n",
       "    <tr>\n",
       "      <th>3</th>\n",
       "      <td>0</td>\n",
       "      <td>49.0</td>\n",
       "      <td>0</td>\n",
       "      <td>0</td>\n",
       "      <td>1</td>\n",
       "      <td>2</td>\n",
       "      <td>1</td>\n",
       "      <td>171.23</td>\n",
       "      <td>34.4</td>\n",
       "      <td>3</td>\n",
       "      <td>1</td>\n",
       "      <td>2401.0</td>\n",
       "      <td>Normal</td>\n",
       "      <td>Low</td>\n",
       "      <td>0_0</td>\n",
       "    </tr>\n",
       "    <tr>\n",
       "      <th>4</th>\n",
       "      <td>0</td>\n",
       "      <td>79.0</td>\n",
       "      <td>1</td>\n",
       "      <td>0</td>\n",
       "      <td>1</td>\n",
       "      <td>3</td>\n",
       "      <td>0</td>\n",
       "      <td>174.12</td>\n",
       "      <td>24.0</td>\n",
       "      <td>2</td>\n",
       "      <td>1</td>\n",
       "      <td>6241.0</td>\n",
       "      <td>Normal</td>\n",
       "      <td>Very Low</td>\n",
       "      <td>1_0</td>\n",
       "    </tr>\n",
       "  </tbody>\n",
       "</table>\n",
       "</div>"
      ],
      "text/plain": [
       "   Gender   Age  Hypertension  Heart Disease  Ever Married  Work  Residence  \\\n",
       "0       1  67.0             0              1             1     2          1   \n",
       "1       0  61.0             0              0             1     3          0   \n",
       "2       1  80.0             0              1             1     2          0   \n",
       "3       0  49.0             0              0             1     2          1   \n",
       "4       0  79.0             1              0             1     3          0   \n",
       "\n",
       "   AVG Glucose   BMI  Smoking  Stroke  Age Squared Glucose Level BMI Level  \\\n",
       "0       228.69  36.6        1       1       4489.0          High       Low   \n",
       "1       202.21   NaN        2       1       3721.0          High       NaN   \n",
       "2       105.92  32.5        2       1       6400.0           Low       Low   \n",
       "3       171.23  34.4        3       1       2401.0        Normal       Low   \n",
       "4       174.12  24.0        2       1       6241.0        Normal  Very Low   \n",
       "\n",
       "  Hypertension/Heart Disease  \n",
       "0                        0_1  \n",
       "1                        0_0  \n",
       "2                        0_1  \n",
       "3                        0_0  \n",
       "4                        1_0  "
      ]
     },
     "execution_count": 247,
     "metadata": {},
     "output_type": "execute_result"
    }
   ],
   "source": [
    "engineered_data.head()"
   ]
  },
  {
   "cell_type": "markdown",
   "id": "feebbdb1",
   "metadata": {},
   "source": [
    "# K-Fold Cross Validation"
   ]
  },
  {
   "cell_type": "code",
   "execution_count": 116,
   "id": "3bac5b49",
   "metadata": {
    "scrolled": true
   },
   "outputs": [
    {
     "ename": "NameError",
     "evalue": "name 'Pipeline' is not defined",
     "output_type": "error",
     "traceback": [
      "\u001b[1;31m---------------------------------------------------------------------------\u001b[0m",
      "\u001b[1;31mNameError\u001b[0m                                 Traceback (most recent call last)",
      "Cell \u001b[1;32mIn[116], line 1\u001b[0m\n\u001b[1;32m----> 1\u001b[0m logisticregression_pipeline \u001b[38;5;241m=\u001b[39m \u001b[43mPipeline\u001b[49m([(\u001b[38;5;124m\"\u001b[39m\u001b[38;5;124mlr\u001b[39m\u001b[38;5;124m\"\u001b[39m, LogisticRegression())])\n\u001b[0;32m      3\u001b[0m decisiontree_pipeline \u001b[38;5;241m=\u001b[39m Pipeline([(\u001b[38;5;124m\"\u001b[39m\u001b[38;5;124mdt\u001b[39m\u001b[38;5;124m\"\u001b[39m, DecisionTreeClassifier())])\n\u001b[0;32m      5\u001b[0m knn_pipeline \u001b[38;5;241m=\u001b[39m Pipeline([(\u001b[38;5;124m\"\u001b[39m\u001b[38;5;124mknn\u001b[39m\u001b[38;5;124m\"\u001b[39m, KNeighborsClassifier())])\n",
      "\u001b[1;31mNameError\u001b[0m: name 'Pipeline' is not defined"
     ]
    }
   ],
   "source": [
    "logisticregression_pipeline = Pipeline([(\"lr\", LogisticRegression())])\n",
    "\n",
    "decisiontree_pipeline = Pipeline([(\"dt\", DecisionTreeClassifier())])\n",
    "\n",
    "knn_pipeline = Pipeline([(\"knn\", KNeighborsClassifier())])\n",
    "\n",
    "\n",
    "pipelines = {\n",
    "    \"Logistic Regression\": logisticregression_pipeline,\n",
    "    \"Decision Tree\": decisiontree_pipeline,\n",
    "    \"KNN\": knn_pipeline,\n",
    "}\n",
    "\n",
    "\n",
    "for name, pipeline in pipelines.items():\n",
    "    scores = cross_val_score(pipeline, X, y, cv=10)\n",
    "    print(f\"{name}: {scores.mean():.2f}\")"
   ]
  },
  {
   "cell_type": "markdown",
   "id": "1fddc1d2",
   "metadata": {},
   "source": [
    "### Section Summary\n",
    "> * Since this is a rather simple dataset, I decided to create baselines with default hyperparameters and 10-Fold Cross-validation using three of the simpler machine learning models: Logistic Regression, Decision Tree, and K Nearest Neighbors.\n",
    "> * Both Decision Tree and KNN surpassed the 75% accuracy standard with only default hyperparameters.   "
   ]
  },
  {
   "cell_type": "markdown",
   "id": "c58a0def",
   "metadata": {},
   "source": [
    "# Feature Selection"
   ]
  },
  {
   "cell_type": "markdown",
   "id": "de2cc338",
   "metadata": {},
   "source": [
    "## Feature Selection Based on SHAP"
   ]
  },
  {
   "cell_type": "code",
   "execution_count": null,
   "id": "d3e8bbf9",
   "metadata": {
    "scrolled": false
   },
   "outputs": [],
   "source": [
    "dtc = DecisionTreeClassifier()\n",
    "dtc.fit(X_train, y_train)\n",
    "\n",
    "sampled_X = shap.sample(X, 100)\n",
    "\n",
    "explainer = shap.KernelExplainer(dtc.predict_proba, sampled_X)\n",
    "\n",
    "shap_values = explainer.shap_values(X_test)\n",
    "shap.summary_plot(shap_values[0], X_test, plot_type=\"bar\", color=color_11)"
   ]
  },
  {
   "cell_type": "code",
   "execution_count": null,
   "id": "971ff6a7",
   "metadata": {},
   "outputs": [],
   "source": [
    "X_reduced_SHAP = insurance[[\"AnnualIncome\", \"Age\", \"FamilyMembers\"]]\n",
    "y = insurance[\"TravelInsurance\"]\n",
    "X_reduced_SHAP, y = shuffle(X_reduced_SHAP, y, random_state=None)"
   ]
  },
  {
   "cell_type": "code",
   "execution_count": null,
   "id": "6431459d",
   "metadata": {},
   "outputs": [],
   "source": [
    "logisticregression_pipeline = Pipeline([(\"lr\", LogisticRegression())])\n",
    "\n",
    "decisiontree_pipeline = Pipeline([(\"dt\", DecisionTreeClassifier())])\n",
    "\n",
    "knn_pipeline = Pipeline([(\"knn\", KNeighborsClassifier())])\n",
    "\n",
    "\n",
    "pipelines = {\n",
    "    \"Logistic Regression\": logisticregression_pipeline,\n",
    "    \"Decision Tree\": decisiontree_pipeline,\n",
    "    \"KNN\": knn_pipeline,\n",
    "}\n",
    "\n",
    "\n",
    "for name, pipeline in pipelines.items():\n",
    "    scores = cross_val_score(pipeline, X_reduced_SHAP, y, cv=10)\n",
    "    print(f\"{name}: {scores.mean():.2f}\")"
   ]
  },
  {
   "cell_type": "markdown",
   "id": "2c47b3cf",
   "metadata": {},
   "source": [
    "### Section Summary\n",
    "> * For this section, I used SHAP to identify the top 3 features with the most impact on the target. \n",
    "> * The features that SHAP identified are AnnualIncome, Age, FamilyMembers.\n",
    "> * These features are different than the three features identified by the Pearson correlation coefficient described in the previous section.\n",
    "> * Using SHAP, both Decision Tree and KNN surpassed the 75% accuracy standard."
   ]
  },
  {
   "cell_type": "markdown",
   "id": "0d4c9fde",
   "metadata": {},
   "source": [
    "## Feature Selection with Backward Elimination"
   ]
  },
  {
   "cell_type": "code",
   "execution_count": null,
   "id": "f61ebaed",
   "metadata": {
    "scrolled": true
   },
   "outputs": [],
   "source": [
    "selector = SelectKBest(score_func=f_classif, k=3)\n",
    "X_train_reduced = selector.fit_transform(X_train, y_train)\n",
    "X_test_reduced = selector.transform(X_test)\n",
    "\n",
    "logisticregression_pipeline = Pipeline([(\"lr\", LogisticRegression())])\n",
    "logisticregression_pipeline.fit(X_train_reduced, y_train)\n",
    "\n",
    "\n",
    "decisiontree_pipeline = Pipeline([(\"dt\", DecisionTreeClassifier())])\n",
    "decisiontree_pipeline.fit(X_train_reduced, y_train)\n",
    "\n",
    "\n",
    "knn_pipeline = Pipeline([(\"knn\", KNeighborsClassifier())])\n",
    "knn_pipeline.fit(X_train_reduced, y_train)\n",
    "\n",
    "\n",
    "pipelines = {\n",
    "    \"Logistic Regression\": logisticregression_pipeline,\n",
    "    \"Decision Tree\": decisiontree_pipeline,\n",
    "    \"KNN\": knn_pipeline,\n",
    "}\n",
    "\n",
    "\n",
    "for name, pipeline in pipelines.items():\n",
    "    score = pipeline.score(X_test_reduced, y_test)\n",
    "    print(f\"Test accuracy {name}: {score:.2f}\")\n",
    "    selected_indices = selector.get_support(indices=True)\n",
    "    print(f\"Selected feature indices: {selected_indices}\", end=\"\\n\\n\")"
   ]
  },
  {
   "cell_type": "markdown",
   "id": "36470294",
   "metadata": {},
   "source": [
    "### Section Summary\n",
    "> * For this section, I used Backward Elimination to pick the top 3 features with the most impact on the target. \n",
    "> * The features identified by this algorithm are AnnualIncome, TravelledAbroad, FrequentFlyer. \n",
    "> * With this algorithm, only Decision Tree surpassed the 75% accuracy standard. "
   ]
  },
  {
   "cell_type": "markdown",
   "id": "206f8e2f",
   "metadata": {},
   "source": [
    "# Optuna"
   ]
  },
  {
   "cell_type": "markdown",
   "id": "3eb3c764",
   "metadata": {},
   "source": [
    "## Logistic Regression with Optuna"
   ]
  },
  {
   "cell_type": "code",
   "execution_count": null,
   "id": "0197626a",
   "metadata": {},
   "outputs": [],
   "source": [
    "def logisticregression_optuna_objective(trial):\n",
    "\n",
    "    penalty = trial.suggest_categorical(\"penalty\", [\"none\", \"l2\"])\n",
    "    C = trial.suggest_loguniform(\"C\", 1e-5, 10)\n",
    "    solver = trial.suggest_categorical(\"solver\", [\"newton-cg\", \"lbfgs\", \"sag\", \"saga\"])\n",
    "\n",
    "    model = LogisticRegression(penalty=penalty, C=C, solver=solver)\n",
    "\n",
    "    model.fit(X_train, y_train)\n",
    "\n",
    "    y_predict = model.predict(X_test)\n",
    "    accuracy = accuracy_score(y_test, y_predict)\n",
    "\n",
    "    return accuracy"
   ]
  },
  {
   "cell_type": "code",
   "execution_count": null,
   "id": "8fad64ec",
   "metadata": {
    "scrolled": false
   },
   "outputs": [],
   "source": [
    "logisticregression_study = optuna.create_study(direction=\"maximize\")\n",
    "logisticregression_study.optimize(logisticregression_optuna_objective, n_trials=1000)"
   ]
  },
  {
   "cell_type": "code",
   "execution_count": null,
   "id": "7468ec16",
   "metadata": {},
   "outputs": [],
   "source": [
    "best_params = logisticregression_study.best_params\n",
    "print(f\"Best Accuracy Score: {logisticregression_study.best_value:.5f}\")\n",
    "print(\"Best hyperparameters:\", best_params)"
   ]
  },
  {
   "cell_type": "code",
   "execution_count": null,
   "id": "acb42bdd",
   "metadata": {},
   "outputs": [],
   "source": [
    "logisticregression_optuna = LogisticRegression(**best_params)\n",
    "logisticregression_optuna.fit(X_train, y_train)"
   ]
  },
  {
   "cell_type": "code",
   "execution_count": null,
   "id": "7bfad1a3",
   "metadata": {},
   "outputs": [],
   "source": [
    "y_predict = logisticregression_optuna.predict(X_test)"
   ]
  },
  {
   "cell_type": "code",
   "execution_count": null,
   "id": "6b86165e",
   "metadata": {},
   "outputs": [],
   "source": [
    "print(classification_report(y_test, y_predict))"
   ]
  },
  {
   "cell_type": "code",
   "execution_count": null,
   "id": "477ad182",
   "metadata": {
    "scrolled": false
   },
   "outputs": [],
   "source": [
    "plot_confusion_matrix(logisticregression_optuna, X_test, y_test, cmap=plt.cm.Reds)\n",
    "plt.xticks([0, 1], [\"No\", \"Yes\"])\n",
    "plt.yticks([0, 1], [\"No\", \"Yes\"])"
   ]
  },
  {
   "cell_type": "markdown",
   "id": "85e2b5a3",
   "metadata": {},
   "source": [
    "## Decision Tree with Optuna"
   ]
  },
  {
   "cell_type": "code",
   "execution_count": null,
   "id": "c3bc1c83",
   "metadata": {},
   "outputs": [],
   "source": [
    "def decisiontree_optuna_objective(trial):\n",
    "\n",
    "    criterion = trial.suggest_categorical(\"criterion\", [\"gini\", \"entropy\"])\n",
    "    splitter = trial.suggest_categorical(\"splitter\", [\"best\", \"random\"])\n",
    "    max_depth = trial.suggest_int(\"max_depth\", 1, 32)\n",
    "    min_samples_split = trial.suggest_int(\"min_samples_split\", 2, 10)\n",
    "    min_samples_leaf = trial.suggest_int(\"min_samples_leaf\", 1, 10)\n",
    "\n",
    "    model = DecisionTreeClassifier(\n",
    "        criterion=criterion,\n",
    "        splitter=splitter,\n",
    "        max_depth=max_depth,\n",
    "        min_samples_split=min_samples_split,\n",
    "        min_samples_leaf=min_samples_leaf,\n",
    "        random_state=0,\n",
    "    )\n",
    "    model.fit(X_train, y_train)\n",
    "\n",
    "    y_predict = model.predict(X_test)\n",
    "    accuracy = accuracy_score(y_test, y_predict)\n",
    "\n",
    "    return accuracy"
   ]
  },
  {
   "cell_type": "code",
   "execution_count": null,
   "id": "74cd745b",
   "metadata": {},
   "outputs": [],
   "source": [
    "decisiontree_study = optuna.create_study(direction=\"maximize\")\n",
    "decisiontree_study.optimize(decisiontree_optuna_objective, n_trials=100)"
   ]
  },
  {
   "cell_type": "code",
   "execution_count": null,
   "id": "549802fc",
   "metadata": {
    "scrolled": true
   },
   "outputs": [],
   "source": [
    "print(f\"Best Accuracy Score: {decisiontree_study.best_value:.5f}\")\n",
    "print(\"Best hyperparameters:\")\n",
    "for key, value in decisiontree_study.best_params.items():\n",
    "    print(f\"\\t{key}: {value}\")"
   ]
  },
  {
   "cell_type": "code",
   "execution_count": null,
   "id": "832be822",
   "metadata": {},
   "outputs": [],
   "source": [
    "decisiontree_best_params = decisiontree_study.best_params\n",
    "\n",
    "decisiontree_optuna = DecisionTreeClassifier(\n",
    "    criterion=decisiontree_best_params[\"criterion\"],\n",
    "    splitter=decisiontree_best_params[\"splitter\"],\n",
    "    max_depth=decisiontree_best_params[\"max_depth\"],\n",
    "    min_samples_split=decisiontree_best_params[\"min_samples_split\"],\n",
    "    min_samples_leaf=decisiontree_best_params[\"min_samples_leaf\"],\n",
    "    random_state=0,\n",
    ")\n",
    "decisiontree_optuna.fit(X_train, y_train)"
   ]
  },
  {
   "cell_type": "code",
   "execution_count": null,
   "id": "20b0eb1f",
   "metadata": {},
   "outputs": [],
   "source": [
    "y_predict = decisiontree_optuna.predict(X_test)"
   ]
  },
  {
   "cell_type": "code",
   "execution_count": null,
   "id": "92e563e3",
   "metadata": {},
   "outputs": [],
   "source": [
    "print(classification_report(y_test, y_predict))"
   ]
  },
  {
   "cell_type": "code",
   "execution_count": null,
   "id": "6906eb88",
   "metadata": {
    "scrolled": false
   },
   "outputs": [],
   "source": [
    "plot_confusion_matrix(decisiontree_optuna, X_test, y_test, cmap=plt.cm.Reds)\n",
    "plt.xticks([0, 1], [\"No\", \"Yes\"])\n",
    "plt.yticks([0, 1], [\"No\", \"Yes\"])"
   ]
  },
  {
   "cell_type": "markdown",
   "id": "31764eb4",
   "metadata": {},
   "source": [
    "## KNN with Optuna"
   ]
  },
  {
   "cell_type": "code",
   "execution_count": null,
   "id": "50d22862",
   "metadata": {},
   "outputs": [],
   "source": [
    "def knn_optuna_objective(trial):\n",
    "    n_neighbors = trial.suggest_int(\"n_neighbors\", 3, 20)\n",
    "    p = trial.suggest_int(\"p\", 1, 2)\n",
    "\n",
    "    model = KNeighborsClassifier(n_neighbors=n_neighbors, p=p)\n",
    "    model.fit(X_train, y_train)\n",
    "\n",
    "    y_predict = model.predict(X_test)\n",
    "    accuracy = accuracy_score(y_test, y_predict)\n",
    "\n",
    "    return accuracy"
   ]
  },
  {
   "cell_type": "code",
   "execution_count": null,
   "id": "d19b22e0",
   "metadata": {},
   "outputs": [],
   "source": [
    "knn_study = optuna.create_study(direction=\"maximize\")\n",
    "knn_study.optimize(knn_optuna_objective, n_trials=100)"
   ]
  },
  {
   "cell_type": "code",
   "execution_count": null,
   "id": "4562b6de",
   "metadata": {},
   "outputs": [],
   "source": [
    "print(f\"Best accuracy score: {knn_study.best_value:.5f}\")\n",
    "print(\"Best hyperparameters:\")\n",
    "for key, value in knn_study.best_params.items():\n",
    "    print(f\"\\t{key}: {value}\")"
   ]
  },
  {
   "cell_type": "code",
   "execution_count": null,
   "id": "259b9f7f",
   "metadata": {},
   "outputs": [],
   "source": [
    "knn_best_params = knn_study.best_params\n",
    "knn_optuna = KNeighborsClassifier(\n",
    "    n_neighbors=knn_best_params[\"n_neighbors\"], p=knn_best_params[\"p\"]\n",
    ")\n",
    "knn_optuna.fit(X_train, y_train)"
   ]
  },
  {
   "cell_type": "code",
   "execution_count": null,
   "id": "ce9be69e",
   "metadata": {},
   "outputs": [],
   "source": [
    "y_predict = knn_optuna.predict(X_test)"
   ]
  },
  {
   "cell_type": "code",
   "execution_count": null,
   "id": "de05a958",
   "metadata": {},
   "outputs": [],
   "source": [
    "print(classification_report(y_test, y_predict))"
   ]
  },
  {
   "cell_type": "code",
   "execution_count": null,
   "id": "ef1c3294",
   "metadata": {
    "scrolled": false
   },
   "outputs": [],
   "source": [
    "plot_confusion_matrix(knn_optuna, X_test, y_test, cmap=plt.cm.Reds)\n",
    "plt.xticks([0, 1], [\"No\", \"Yes\"])\n",
    "plt.yticks([0, 1], [\"No\", \"Yes\"])"
   ]
  },
  {
   "cell_type": "markdown",
   "id": "4ff17537",
   "metadata": {},
   "source": [
    "### Section Summary\n",
    "> * For this section, I used OPTUNA to choose the most optimal hyperparameters for each of the three models.  \n",
    "> * The results I obtained were considerably better than the previous results of this project.\n",
    "> * All three models surpassed accuracy scores above 80%."
   ]
  },
  {
   "cell_type": "markdown",
   "id": "622d7b8d",
   "metadata": {},
   "source": [
    "# Three-Model Stacking Classifier"
   ]
  },
  {
   "cell_type": "code",
   "execution_count": null,
   "id": "9b0b751b",
   "metadata": {},
   "outputs": [],
   "source": [
    "model1 = LogisticRegression()\n",
    "model2 = KNeighborsClassifier()\n",
    "model3 = DecisionTreeClassifier()\n",
    "\n",
    "estimators = [(\"lr\", model1), (\"knn\", model2), (\"dt\", model3)]\n",
    "stacking_clf = StackingClassifier(\n",
    "    estimators=estimators, final_estimator=LogisticRegression()\n",
    ")"
   ]
  },
  {
   "cell_type": "code",
   "execution_count": null,
   "id": "454fd63c",
   "metadata": {},
   "outputs": [],
   "source": [
    "stacking_clf = StackingClassifier(\n",
    "    estimators=estimators, final_estimator=LogisticRegression()\n",
    ")\n",
    "stacking_clf.fit(X_train, y_train)"
   ]
  },
  {
   "cell_type": "code",
   "execution_count": null,
   "id": "88669c46",
   "metadata": {},
   "outputs": [],
   "source": [
    "y_predict = stacking_clf.predict(X_test)"
   ]
  },
  {
   "cell_type": "code",
   "execution_count": null,
   "id": "036056f9",
   "metadata": {},
   "outputs": [],
   "source": [
    "print(classification_report(y_test, y_predict))"
   ]
  },
  {
   "cell_type": "code",
   "execution_count": null,
   "id": "58144933",
   "metadata": {
    "scrolled": false
   },
   "outputs": [],
   "source": [
    "plot_confusion_matrix(stacking_clf, X_test, y_test, cmap=plt.cm.Reds)\n",
    "plt.xticks([0, 1], [\"No\", \"Yes\"])\n",
    "plt.yticks([0, 1], [\"No\", \"Yes\"])"
   ]
  },
  {
   "cell_type": "markdown",
   "id": "b25d21d6",
   "metadata": {},
   "source": [
    "### Section Summary\n",
    "> * A stacking classifier trains several different classifiers and makes the final prediction based on the outputs of the individual classifiers.\n",
    "> * For this section, I used Stacking Classifier with the same three models as in previous sections: Logistic Regression, Decision Tree and K Nearest Neighbor.  \n",
    "> * Stacking Classifier also surpassed 80% accuracy score."
   ]
  },
  {
   "cell_type": "markdown",
   "id": "3cae1cdc",
   "metadata": {},
   "source": [
    "# Three-Model Soft Voting Classifier"
   ]
  },
  {
   "cell_type": "code",
   "execution_count": null,
   "id": "f6eb72bf",
   "metadata": {},
   "outputs": [],
   "source": [
    "model1 = LogisticRegression()\n",
    "model2 = KNeighborsClassifier()\n",
    "model3 = DecisionTreeClassifier()\n",
    "\n",
    "soft_voting_clf = VotingClassifier(\n",
    "    estimators=[(\"lr\", model1), (\"rf\", model2), (\"svc\", model3)], voting=\"soft\"\n",
    ")\n",
    "soft_voting_clf.fit(X_train, y_train)"
   ]
  },
  {
   "cell_type": "code",
   "execution_count": null,
   "id": "386a4049",
   "metadata": {},
   "outputs": [],
   "source": [
    "y_predict = soft_voting_clf.predict(X_test)"
   ]
  },
  {
   "cell_type": "code",
   "execution_count": null,
   "id": "3c8501e4",
   "metadata": {},
   "outputs": [],
   "source": [
    "print(classification_report(y_test, y_predict))"
   ]
  },
  {
   "cell_type": "code",
   "execution_count": null,
   "id": "e781a7ac",
   "metadata": {
    "scrolled": false
   },
   "outputs": [],
   "source": [
    "plot_confusion_matrix(soft_voting_clf, X_test, y_test, cmap=plt.cm.Reds)\n",
    "plt.xticks([0, 1], [\"No\", \"Yes\"])\n",
    "plt.yticks([0, 1], [\"No\", \"Yes\"])"
   ]
  },
  {
   "cell_type": "markdown",
   "id": "663565b3",
   "metadata": {},
   "source": [
    "### Section Summary\n",
    "> * The Soft Voting classifier averages the probabilities across all base classifiers for each class label. The class label with the highest average probability or score is selected as the final prediction.\n",
    "> * For this part of the project, I used Soft Voting Classifier with the same three models as in the previous sections. \n",
    "> * Soft Voting Classifier surpassed the 75% accuracy standard by a very slight margin."
   ]
  },
  {
   "cell_type": "markdown",
   "id": "52ab4f49",
   "metadata": {},
   "source": [
    "# Three-Model Hard Voting Classifier"
   ]
  },
  {
   "cell_type": "code",
   "execution_count": null,
   "id": "26519be7",
   "metadata": {},
   "outputs": [],
   "source": [
    "model1 = LogisticRegression()\n",
    "model2 = KNeighborsClassifier()\n",
    "model3 = DecisionTreeClassifier()\n",
    "\n",
    "hard_voting_clf = VotingClassifier(\n",
    "    estimators=[(\"lr\", model1), (\"rf\", model2), (\"svc\", model3)], voting=\"hard\"\n",
    ")\n",
    "hard_voting_clf.fit(X_train, y_train)"
   ]
  },
  {
   "cell_type": "code",
   "execution_count": null,
   "id": "7f455d6d",
   "metadata": {},
   "outputs": [],
   "source": [
    "y_predict = hard_voting_clf.predict(X_test)"
   ]
  },
  {
   "cell_type": "code",
   "execution_count": null,
   "id": "73f91dbe",
   "metadata": {},
   "outputs": [],
   "source": [
    "print(classification_report(y_test, y_predict))"
   ]
  },
  {
   "cell_type": "code",
   "execution_count": null,
   "id": "4b030303",
   "metadata": {
    "scrolled": false
   },
   "outputs": [],
   "source": [
    "plot_confusion_matrix(hard_voting_clf, X_test, y_test, cmap=plt.cm.Reds)\n",
    "plt.xticks([0, 1], [\"No\", \"Yes\"])\n",
    "plt.yticks([0, 1], [\"No\", \"Yes\"])"
   ]
  },
  {
   "cell_type": "markdown",
   "id": "aabf0e38",
   "metadata": {},
   "source": [
    "### Section Summary\n",
    "> * In a hard voting classifier, each classifier independently predicts the class labels for a given input, and the final prediction is determined by a majority vote. \n",
    "> * For this section, I used Hard Voting Classifier with the same three models as in the other sections above.\n",
    "> * Hard Voting Classifier obtained nearly 80% accuracy."
   ]
  },
  {
   "cell_type": "markdown",
   "id": "d29a69d7",
   "metadata": {},
   "source": [
    "# Conclusions"
   ]
  },
  {
   "cell_type": "markdown",
   "id": "1c9ac04d",
   "metadata": {},
   "source": [
    "Here is a summary of the conclusions that may be drawn from this report. "
   ]
  },
  {
   "cell_type": "markdown",
   "id": "325cc872",
   "metadata": {},
   "source": [
    ">* **The Analysis of the Data:** I reviewed nearly 2000 data points related to customers of a travel insurance business. <br> \n",
    ">* **The Goal of the Project:** The goal of this project was to find a model that could predict if a new customer would buy travel insurance with a high level of accuracy (75% or higher).<br>\n",
    ">* **Models:** I utilized several models with varying results. Many of the models exceeded the 75% accuracy standard. <br>\n",
    ">* **Feature Engineering and Hyperparameter Testing:** I tried feature engineering and hyperparameter testing with techniques such as Backward Elimination, SHAP and OPTUNA. OPTUNA showed the best results. In some cases, the model surpassed 80% accuracy.<br> \n",
    ">* **Multiple Model Classifiers:** I used Stacking, Soft-Voting and Hard-Voting classifiers, all with results that reached or even surpassed 80% accuracy. \n",
    ">* **Stochastic System:** Human behavior is hard to classify and cannot be easily capsulized and predicted. For this reason, obtaining a very high accuracy score (over 80%) may be very difficult to do.<br> \n",
    ">* **K Nearest Neighbor:** For a simple model and using only default hyperparameters, K Nearest was able to get better or similar results than any other model, including the more complex ones.<br>  \n",
    ">* **Business Recommendation:** With accuracy scores of over 80%, I recommend utilizing a simple KNN machine learning model to predict if a future customer will purchase travel insurance.<br> "
   ]
  },
  {
   "cell_type": "markdown",
   "id": "f4c7f3d5",
   "metadata": {},
   "source": [
    "# Suggestions for Improvement"
   ]
  },
  {
   "cell_type": "markdown",
   "id": "1885cf09",
   "metadata": {},
   "source": [
    "This report has certain weaknesses. In this section, I outlined those weaknesses and indicated some avenues for improvement. "
   ]
  },
  {
   "cell_type": "markdown",
   "id": "612c766e",
   "metadata": {},
   "source": [
    ">* **Domain Knowledge:** It is best if the data scientist has adequate domain knowledge on the topic of the analysis. I do not have any expertise in the insurance or travel industry. There may be parts of the data that I have overlooked that may have been important and I may have given importance to parts that may have had little significance. <br>\n",
    ">* **More Detailed Data on Customers:** The data provide only general employment information, namely if the person is a government worker or works in the private sector. These categories are too broad. More detailed information could have helped make better predictions. <br>  \n",
    ">* **Feature Engineering:** Some of the data could have been combined in a way to create additional features. For example, I could have created a new feature by combining AnnualIncome with FamilyMembers to obtain income per family member. This could have added more information to the models and created better performance.  <br>  \n",
    ">* **Classifier Models:** For the Classifier models, I could have used the based models with hyperparameters identified as most effecitive by Optuna. I may have gotten even better results.  <br> \n",
    ">* **Pipeline:** It would have been more efficient and cleaner to put the pre-processing steps into a pipeline.\n",
    ">* **Statistics:** Continue to improve my statistical knowledge to create better analyses.<br>\n",
    ">* **Pandas:** Continue to learn to utilize more optimized Pandas techniques and algorithms.<br>\n",
    ">* **Seaborn and Matplotlib:** Continue to improve my knowledge of Seaborn and Matplotlib for creating visualizations. <br>\n",
    ">* **Python Code:** Continue to write better and more efficient Python code. <br>\n",
    ">* **Clean Code:** Continue to adhere to the principles of writing clean code. <br>\n",
    ">* **Readability and Efficiency:** Continue to improve my skills to find the delicate balance between readability and efficiency in coding.<br>"
   ]
  },
  {
   "cell_type": "markdown",
   "id": "86374399",
   "metadata": {},
   "source": [
    "# Image Credit"
   ]
  },
  {
   "cell_type": "markdown",
   "id": "214d62a7",
   "metadata": {},
   "source": [
    "Image by <a href=\"https://pixabay.com/users/mytz-4882715/?utm_source=link-attribution&amp;utm_medium=referral&amp;utm_campaign=image&amp;utm_content=2640661\">MYTZ</a> from <a href=\"https://pixabay.com//?utm_source=link-attribution&amp;utm_medium=referral&amp;utm_campaign=image&amp;utm_content=2640661\">Pixabay</a>"
   ]
  }
 ],
 "metadata": {
  "kernelspec": {
   "display_name": "Python 3 (ipykernel)",
   "language": "python",
   "name": "python3"
  },
  "language_info": {
   "codemirror_mode": {
    "name": "ipython",
    "version": 3
   },
   "file_extension": ".py",
   "mimetype": "text/x-python",
   "name": "python",
   "nbconvert_exporter": "python",
   "pygments_lexer": "ipython3",
   "version": "3.10.1"
  },
  "toc": {
   "base_numbering": 1,
   "nav_menu": {},
   "number_sections": true,
   "sideBar": true,
   "skip_h1_title": false,
   "title_cell": "Table of Contents",
   "title_sidebar": "Contents",
   "toc_cell": false,
   "toc_position": {},
   "toc_section_display": true,
   "toc_window_display": true
  }
 },
 "nbformat": 4,
 "nbformat_minor": 5
}
