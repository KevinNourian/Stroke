{
 "cells": [
  {
   "cell_type": "markdown",
   "id": "25aaf1b5",
   "metadata": {},
   "source": [
    "# **Stroke**"
   ]
  },
  {
   "cell_type": "markdown",
   "id": "7a6c8da2",
   "metadata": {},
   "source": [
    "# **Libraries**"
   ]
  },
  {
   "cell_type": "code",
   "execution_count": 1,
   "id": "73e35264",
   "metadata": {},
   "outputs": [],
   "source": [
    "import pandas as pd\n",
    "import numpy as np\n",
    "import seaborn as sns\n",
    "import matplotlib as mpl\n",
    "import matplotlib.pyplot as plt\n",
    "\n",
    "from feature_engine.imputation import AddMissingIndicator\n",
    "from feature_engine.imputation import MeanMedianImputer\n",
    "from feature_engine.encoding import OneHotEncoder\n",
    "from sklearn.preprocessing import LabelEncoder\n",
    "\n",
    "from statsmodels.stats.proportion import proportions_ztest\n",
    "from sklearn.utils import shuffle\n",
    "from sklearn.model_selection import train_test_split\n",
    "\n",
    "from sklearn.feature_selection import mutual_info_classif\n",
    "\n",
    "from scipy import stats\n",
    "\n",
    "from sklearn.preprocessing import RobustScaler\n",
    "from sklearn.pipeline import Pipeline\n",
    "from sklearn.model_selection import KFold\n",
    "from sklearn.model_selection import cross_val_score\n",
    "\n",
    "from sklearn.linear_model import LogisticRegression\n",
    "from sklearn.neighbors import KNeighborsClassifier \n",
    "from sklearn.svm import SVC\n",
    "\n",
    "\n",
    "from sklearn.metrics import classification_report\n",
    "\n",
    "import warnings"
   ]
  },
  {
   "cell_type": "markdown",
   "id": "driven-arlington",
   "metadata": {},
   "source": [
    "# **Display Parameters**"
   ]
  },
  {
   "cell_type": "markdown",
   "id": "double-logging",
   "metadata": {},
   "source": [
    "## **Display Features**"
   ]
  },
  {
   "cell_type": "code",
   "execution_count": 2,
   "id": "driven-element",
   "metadata": {},
   "outputs": [],
   "source": [
    "%matplotlib inline\n",
    "\n",
    "pd.options.display.max_rows = 300000\n",
    "pd.options.display.max_columns = 999\n",
    "pd.options.display.max_colwidth = 500\n",
    "\n",
    "warnings.filterwarnings(\"ignore\")\n",
    "warnings.simplefilter(action=\"ignore\", category=FutureWarning)"
   ]
  },
  {
   "cell_type": "markdown",
   "id": "political-officer",
   "metadata": {},
   "source": [
    "## **Colors**"
   ]
  },
  {
   "cell_type": "code",
   "execution_count": 3,
   "id": "acquired-union",
   "metadata": {},
   "outputs": [],
   "source": [
    "color_1 = \"bisque\"\n",
    "color_2 = \"crimson\"\n",
    "color_3 = \"orangered\"\n",
    "color_4 = \"lightcoral\"\n",
    "color_5 = \"royalblue\"\n",
    "color_6 = \"pink\"\n",
    "color_7 = \"indianred\"\n",
    "color_8 = \"slategrey\"\n",
    "color_9 = \"salmon\"\n",
    "color_10 = \"beige\"\n",
    "color_11 = \"coral\"\n",
    "color_13 = \"grey\"\n",
    "color_14 = \"tan\"\n",
    "color_15 = \"wheat\"\n",
    "color_16 = \"tomato\""
   ]
  },
  {
   "cell_type": "markdown",
   "id": "incredible-stupid",
   "metadata": {},
   "source": [
    "## **Figure Parameters**"
   ]
  },
  {
   "cell_type": "code",
   "execution_count": 4,
   "id": "secret-canadian",
   "metadata": {},
   "outputs": [],
   "source": [
    "size = 20\n",
    "\n",
    "params = {\n",
    "    \"font.family\": \"Times New Roman\",\n",
    "    \"font.size\": size,\n",
    "    \"axes.labelsize\": size,\n",
    "    \"xtick.labelsize\": size * 0.75,\n",
    "    \"ytick.labelsize\": size * 0.75,\n",
    "    \"figure.titlesize\": size * 1.5,\n",
    "    \"axes.titlesize\": size * 1.5,\n",
    "    \"axes.titlepad\": size,\n",
    "    \"axes.labelpad\": size - 10,\n",
    "    \"lines.linewidth\": 2,\n",
    "    \"axes.spines.top\": False,\n",
    "    \"axes.spines.right\": False,\n",
    "    \"axes.spines.left\": False,\n",
    "    \"axes.spines.bottom\": False,\n",
    "    \"legend.fontsize\": size,\n",
    "    \"figure.figsize\": (10, 6),\n",
    "}"
   ]
  },
  {
   "cell_type": "markdown",
   "id": "f169bb5d",
   "metadata": {},
   "source": [
    "# **Data Overview and Preprocessing**"
   ]
  },
  {
   "cell_type": "code",
   "execution_count": 5,
   "id": "e358ddcd",
   "metadata": {},
   "outputs": [],
   "source": [
    "data = pd.read_csv(\n",
    "    r\"C:\\Users\\Dell\\Documents\\Stroke\\Data\\stroke.csv\",\n",
    "    index_col=0\n",
    ")\n",
    "\n",
    "data = data.drop(columns=['ID'])\n",
    "target = 'Stroke'"
   ]
  },
  {
   "cell_type": "code",
   "execution_count": null,
   "id": "4889fdc1",
   "metadata": {},
   "outputs": [],
   "source": [
    "data.head()"
   ]
  },
  {
   "cell_type": "markdown",
   "id": "57db4d52",
   "metadata": {},
   "source": [
    "## **Number of Rows and Columns**"
   ]
  },
  {
   "cell_type": "code",
   "execution_count": null,
   "id": "2335063d",
   "metadata": {},
   "outputs": [],
   "source": [
    "data.shape"
   ]
  },
  {
   "cell_type": "markdown",
   "id": "eb434f64",
   "metadata": {},
   "source": [
    "## **Missing Data**"
   ]
  },
  {
   "cell_type": "code",
   "execution_count": null,
   "id": "7ceb497f",
   "metadata": {},
   "outputs": [],
   "source": [
    "data.isnull().sum(axis=0)"
   ]
  },
  {
   "cell_type": "markdown",
   "id": "a5365d0b",
   "metadata": {},
   "source": [
    "# **Descriptive Information**"
   ]
  },
  {
   "cell_type": "markdown",
   "id": "6604580f",
   "metadata": {},
   "source": [
    "## **Data Types**"
   ]
  },
  {
   "cell_type": "code",
   "execution_count": null,
   "id": "3e164b2d",
   "metadata": {},
   "outputs": [],
   "source": [
    "data.info()"
   ]
  },
  {
   "cell_type": "markdown",
   "id": "0856130a",
   "metadata": {},
   "source": [
    "## **Descriptive Information for Numerical Features**"
   ]
  },
  {
   "cell_type": "code",
   "execution_count": null,
   "id": "0f329f98",
   "metadata": {},
   "outputs": [],
   "source": [
    "data.drop(columns=['Stroke']).describe(include=\"number\").applymap(\"{:,.2f}\".format)"
   ]
  },
  {
   "cell_type": "markdown",
   "id": "8bfad5a1",
   "metadata": {},
   "source": [
    "## **Descriptive Information for Categorical Features**"
   ]
  },
  {
   "cell_type": "code",
   "execution_count": null,
   "id": "9c05a754",
   "metadata": {},
   "outputs": [],
   "source": [
    "data.describe(include=\"object\")"
   ]
  },
  {
   "cell_type": "markdown",
   "id": "956058f8",
   "metadata": {},
   "source": [
    "## **Outliers**\n",
    "\n",
    "An outlier is an observation that is unlike the other observations.\n",
    "\n",
    "I used the **Interquartile Range (IQR)** method to identify outliers. The IQR is calculated as the difference between the 75th and the 25th percentiles of the data and defines the box in a box and whisker plot. The whiskers indicate the minimum and the maximum values. Any values that is 1.5 times the IQR value above Q3 and 1.5 times the IQR value below Q1 will be considered an outlier. These are indicated as dots in a box and whisker plot."
   ]
  },
  {
   "cell_type": "code",
   "execution_count": null,
   "id": "567d4c80",
   "metadata": {},
   "outputs": [],
   "source": [
    "numeric_data = data.select_dtypes(include=['number'])\n",
    "\n",
    "# Calculate Q1 (25th percentile) and Q3 (75th percentile) for numeric columns\n",
    "Q1 = numeric_data.quantile(0.25)\n",
    "Q3 = numeric_data.quantile(0.75)\n",
    "\n",
    "IQR = Q3 - Q1\n",
    "\n",
    "outliers = (numeric_data < (Q1 - 1.5 * IQR)) | (numeric_data > (Q3 + 1.5 * IQR))\n",
    "\n",
    "outlier_counts = outliers.sum()\n",
    "\n",
    "print(outlier_counts)\n"
   ]
  },
  {
   "cell_type": "code",
   "execution_count": null,
   "id": "f2c491da",
   "metadata": {},
   "outputs": [],
   "source": [
    "data ['Is Outlier'] = outliers.any(axis=1)\n",
    "data['Is Outlier'] = data['Is Outlier'].astype(object)\n",
    "data['Is Outlier'].value_counts()"
   ]
  },
  {
   "cell_type": "markdown",
   "id": "bcaec277",
   "metadata": {},
   "source": [
    "# **Impute missing values for BMI Data**"
   ]
  },
  {
   "cell_type": "markdown",
   "id": "2f828eb6",
   "metadata": {},
   "source": [
    "## **Add Missing Indicator**"
   ]
  },
  {
   "cell_type": "code",
   "execution_count": 6,
   "id": "bec256ba",
   "metadata": {},
   "outputs": [],
   "source": [
    "ami = AddMissingIndicator()\n",
    "data = ami.fit_transform(data)\n",
    "\n",
    "data = data.rename(columns={'BMI_na': 'BMI Missing'})"
   ]
  },
  {
   "cell_type": "markdown",
   "id": "e2dff462",
   "metadata": {},
   "source": [
    "## **Median Imputer**"
   ]
  },
  {
   "cell_type": "code",
   "execution_count": 7,
   "id": "ada87b6d",
   "metadata": {},
   "outputs": [],
   "source": [
    "mmi = MeanMedianImputer(imputation_method='median')\n",
    "data = mmi.fit_transform(data)"
   ]
  },
  {
   "cell_type": "code",
   "execution_count": 8,
   "id": "20ca8c7e",
   "metadata": {},
   "outputs": [
    {
     "data": {
      "text/plain": [
       "Gender           0\n",
       "Age              0\n",
       "Hypertension     0\n",
       "Heart Disease    0\n",
       "Ever Married     0\n",
       "Work             0\n",
       "Residence        0\n",
       "AVG Glucose      0\n",
       "BMI              0\n",
       "Smoking          0\n",
       "Stroke           0\n",
       "BMI Missing      0\n",
       "dtype: int64"
      ]
     },
     "execution_count": 8,
     "metadata": {},
     "output_type": "execute_result"
    }
   ],
   "source": [
    "data.isnull().sum(axis=0)"
   ]
  },
  {
   "cell_type": "markdown",
   "id": "a495bf8d",
   "metadata": {},
   "source": [
    "# **Functions**"
   ]
  },
  {
   "cell_type": "markdown",
   "id": "4a9a4dd1",
   "metadata": {},
   "source": [
    "## **Barplots**"
   ]
  },
  {
   "cell_type": "code",
   "execution_count": 9,
   "id": "8c7db990",
   "metadata": {},
   "outputs": [],
   "source": [
    "def create_barplot(data, x, y, xlabel, ylabel, labels, title):\n",
    "\n",
    "    plt.rcParams.update(params)\n",
    "    \n",
    "    ax = sns.barplot(\n",
    "        x=x,\n",
    "        y=y,\n",
    "        data=data,\n",
    "        palette=\"Reds\",\n",
    "        order=labels\n",
    "    )\n",
    "    \n",
    "    total = data[y].sum()\n",
    "    \n",
    "    for p in ax.patches:\n",
    "        height = p.get_height()\n",
    "        percentage = \"{:.1f}%\".format(100 * height / total)\n",
    "        x_position = p.get_x() + p.get_width() / 2\n",
    "        y_position = height\n",
    "        ax.annotate(percentage, (x_position, y_position), ha='center', va='bottom', size=12)\n",
    "    \n",
    "    plt.title(title)\n",
    "    plt.xlabel(xlabel)\n",
    "    plt.ylabel(ylabel)\n",
    "    plt.show()"
   ]
  },
  {
   "cell_type": "markdown",
   "id": "b920f26d",
   "metadata": {},
   "source": [
    "## **Distributions**"
   ]
  },
  {
   "cell_type": "code",
   "execution_count": 136,
   "id": "f5ec7397",
   "metadata": {},
   "outputs": [],
   "source": [
    "def create_distributions(data, feature, target, value):\n",
    "    \n",
    "    df = data[data[target] == value]\n",
    "    distribution= df.groupby(feature).size().reset_index()\n",
    "    distribution.columns = [feature, 'Count']\n",
    "\n",
    "    return distribution"
   ]
  },
  {
   "cell_type": "markdown",
   "id": "7b724cf8",
   "metadata": {},
   "source": [
    "## **Create Bins**"
   ]
  },
  {
   "cell_type": "code",
   "execution_count": 11,
   "id": "4f3e3a71",
   "metadata": {},
   "outputs": [],
   "source": [
    "def create_bins(df, feature, new_feature, bins, labels):\n",
    "\n",
    "    df[new_feature] = pd.cut(df[feature], bins=bins, labels=labels, right=False)\n",
    "\n",
    "    return df"
   ]
  },
  {
   "cell_type": "markdown",
   "id": "9c365a59",
   "metadata": {},
   "source": [
    "## **Count Bins**"
   ]
  },
  {
   "cell_type": "code",
   "execution_count": 12,
   "id": "0e46b6d0",
   "metadata": {},
   "outputs": [],
   "source": [
    "def count_bins(df, new_feature):\n",
    "    \n",
    "    group_counts = df[new_feature].value_counts().sort_index()\n",
    "    group_counts_df = group_counts.reset_index()\n",
    "    group_counts_df.columns = [new_feature, 'Count']\n",
    "\n",
    "    return group_counts_df\n"
   ]
  },
  {
   "cell_type": "markdown",
   "id": "43b17765",
   "metadata": {},
   "source": [
    "## **Heat Map**"
   ]
  },
  {
   "cell_type": "code",
   "execution_count": 13,
   "id": "4aaf477f",
   "metadata": {},
   "outputs": [],
   "source": [
    "def create_heatmap(data, title):\n",
    "    \"\"\"\n",
    "    Creates a Seaborn heatmap.\n",
    "    \"\"\"\n",
    "\n",
    "    plt.rcParams.update(params)\n",
    "    corr = data.corr()\n",
    "\n",
    "    mask = np.triu(np.ones_like(corr, dtype=bool))\n",
    "\n",
    "    f, ax = plt.subplots(figsize=(20, 15))\n",
    "\n",
    "    cmap = sns.diverging_palette(230, 10, as_cmap=True)\n",
    "    heatmap = sns.heatmap(\n",
    "        corr,\n",
    "        mask=mask,\n",
    "        vmax=1,\n",
    "        vmin=-1,\n",
    "        center=0,\n",
    "        square=True,\n",
    "        linewidths=0.5,\n",
    "        cbar_kws={\"shrink\": 0.5},\n",
    "        annot=True,\n",
    "        cmap=plt.cm.Reds,\n",
    "    )\n",
    "\n",
    "    heatmap.set_title(\n",
    "        title,\n",
    "        fontdict={\"fontsize\": size},\n",
    "        pad=12,\n",
    "    )\n",
    "    plt.xlabel(\"\")\n",
    "    plt.ylabel(\"\")"
   ]
  },
  {
   "cell_type": "markdown",
   "id": "c8702f85",
   "metadata": {},
   "source": [
    "## **Mutual Information**"
   ]
  },
  {
   "cell_type": "code",
   "execution_count": 14,
   "id": "4dd79058",
   "metadata": {},
   "outputs": [],
   "source": [
    "def create_plot_mi_scores(features, mi_scores):\n",
    "\n",
    "    plt.rcParams.update(params)\n",
    "    \n",
    "    scores = pd.Series(mi_scores, name=\"MI Scores\", index=features.columns)\n",
    "    scores = scores.sort_values(ascending=False)\n",
    "\n",
    "    plt.figure(figsize=(15, 6))\n",
    "    scores.plot(kind=\"line\", marker='o')\n",
    "\n",
    "    plt.grid(True, which='both', linestyle='--', linewidth=0.5)\n",
    "\n",
    "    plt.title(\"Mutual Information Scores\")\n",
    "    plt.xlabel(\"Feature\")\n",
    "    plt.ylabel(\"MI Score\")\n",
    "    plt.xticks(rotation=45)\n",
    "    plt.tight_layout()\n",
    "\n",
    "    plt.show()"
   ]
  },
  {
   "cell_type": "markdown",
   "id": "47ce68a8",
   "metadata": {},
   "source": [
    "# **Exploratory Data Analysis**"
   ]
  },
  {
   "cell_type": "markdown",
   "id": "765ee13b",
   "metadata": {},
   "source": [
    "## **Gender**"
   ]
  },
  {
   "cell_type": "code",
   "execution_count": 137,
   "id": "2fa2bfb8",
   "metadata": {},
   "outputs": [],
   "source": [
    "feature = 'Gender'\n",
    "target = 'Stroke'\n",
    "data = data\n",
    "value = 1"
   ]
  },
  {
   "cell_type": "code",
   "execution_count": 133,
   "id": "5c4c00f9",
   "metadata": {},
   "outputs": [],
   "source": [
    "df = data[data[target] == value]\n",
    "distribution= df.groupby(feature).size().reset_index()\n",
    "distribution.columns = [feature, 'Count']"
   ]
  },
  {
   "cell_type": "code",
   "execution_count": 134,
   "id": "7719c0de",
   "metadata": {},
   "outputs": [
    {
     "data": {
      "text/html": [
       "<div>\n",
       "<style scoped>\n",
       "    .dataframe tbody tr th:only-of-type {\n",
       "        vertical-align: middle;\n",
       "    }\n",
       "\n",
       "    .dataframe tbody tr th {\n",
       "        vertical-align: top;\n",
       "    }\n",
       "\n",
       "    .dataframe thead th {\n",
       "        text-align: right;\n",
       "    }\n",
       "</style>\n",
       "<table border=\"1\" class=\"dataframe\">\n",
       "  <thead>\n",
       "    <tr style=\"text-align: right;\">\n",
       "      <th></th>\n",
       "      <th>Gender</th>\n",
       "      <th>Count</th>\n",
       "    </tr>\n",
       "  </thead>\n",
       "  <tbody>\n",
       "    <tr>\n",
       "      <th>0</th>\n",
       "      <td>Female</td>\n",
       "      <td>141</td>\n",
       "    </tr>\n",
       "    <tr>\n",
       "      <th>1</th>\n",
       "      <td>Male</td>\n",
       "      <td>108</td>\n",
       "    </tr>\n",
       "  </tbody>\n",
       "</table>\n",
       "</div>"
      ],
      "text/plain": [
       "   Gender  Count\n",
       "0  Female    141\n",
       "1    Male    108"
      ]
     },
     "execution_count": 134,
     "metadata": {},
     "output_type": "execute_result"
    }
   ],
   "source": [
    "wi_stcreate_distributions(data, feature, target, value)"
   ]
  },
  {
   "cell_type": "code",
   "execution_count": 135,
   "id": "33ee60a9",
   "metadata": {},
   "outputs": [
    {
     "ename": "ValueError",
     "evalue": "Length mismatch: Expected axis has 12 elements, new values have 2 elements",
     "output_type": "error",
     "traceback": [
      "\u001b[1;31m---------------------------------------------------------------------------\u001b[0m",
      "\u001b[1;31mValueError\u001b[0m                                Traceback (most recent call last)",
      "Cell \u001b[1;32mIn[135], line 1\u001b[0m\n\u001b[1;32m----> 1\u001b[0m wi_stroke_gender \u001b[38;5;241m=\u001b[39m \u001b[43mcreate_distributions\u001b[49m\u001b[43m(\u001b[49m\u001b[43mdata\u001b[49m\u001b[43m,\u001b[49m\u001b[43m \u001b[49m\u001b[43mfeature\u001b[49m\u001b[43m,\u001b[49m\u001b[43m \u001b[49m\u001b[43mtarget\u001b[49m\u001b[43m,\u001b[49m\u001b[43m \u001b[49m\u001b[43mvalue\u001b[49m\u001b[43m \u001b[49m\u001b[38;5;241;43m=\u001b[39;49m\u001b[43m \u001b[49m\u001b[38;5;241;43m0\u001b[39;49m\u001b[43m)\u001b[49m\n",
      "Cell \u001b[1;32mIn[117], line 5\u001b[0m, in \u001b[0;36mcreate_distributions\u001b[1;34m(data, feature, target, value)\u001b[0m\n\u001b[0;32m      3\u001b[0m df \u001b[38;5;241m=\u001b[39m data[data[target] \u001b[38;5;241m==\u001b[39m value]\n\u001b[0;32m      4\u001b[0m distribution\u001b[38;5;241m=\u001b[39m df\u001b[38;5;241m.\u001b[39mgroupby(feature)\u001b[38;5;241m.\u001b[39mcount()\u001b[38;5;241m.\u001b[39mreset_index()\n\u001b[1;32m----> 5\u001b[0m \u001b[43mdistribution\u001b[49m\u001b[38;5;241;43m.\u001b[39;49m\u001b[43mcolumns\u001b[49m \u001b[38;5;241m=\u001b[39m [feature, \u001b[38;5;124m'\u001b[39m\u001b[38;5;124mCount\u001b[39m\u001b[38;5;124m'\u001b[39m]\n\u001b[0;32m      7\u001b[0m \u001b[38;5;28;01mreturn\u001b[39;00m distribution\n",
      "File \u001b[1;32mc:\\Users\\Dell\\Documents\\Stroke\\strokevenv\\lib\\site-packages\\pandas\\core\\generic.py:6313\u001b[0m, in \u001b[0;36mNDFrame.__setattr__\u001b[1;34m(self, name, value)\u001b[0m\n\u001b[0;32m   6311\u001b[0m \u001b[38;5;28;01mtry\u001b[39;00m:\n\u001b[0;32m   6312\u001b[0m     \u001b[38;5;28mobject\u001b[39m\u001b[38;5;241m.\u001b[39m\u001b[38;5;21m__getattribute__\u001b[39m(\u001b[38;5;28mself\u001b[39m, name)\n\u001b[1;32m-> 6313\u001b[0m     \u001b[38;5;28;01mreturn\u001b[39;00m \u001b[38;5;28;43mobject\u001b[39;49m\u001b[38;5;241;43m.\u001b[39;49m\u001b[38;5;21;43m__setattr__\u001b[39;49m\u001b[43m(\u001b[49m\u001b[38;5;28;43mself\u001b[39;49m\u001b[43m,\u001b[49m\u001b[43m \u001b[49m\u001b[43mname\u001b[49m\u001b[43m,\u001b[49m\u001b[43m \u001b[49m\u001b[43mvalue\u001b[49m\u001b[43m)\u001b[49m\n\u001b[0;32m   6314\u001b[0m \u001b[38;5;28;01mexcept\u001b[39;00m \u001b[38;5;167;01mAttributeError\u001b[39;00m:\n\u001b[0;32m   6315\u001b[0m     \u001b[38;5;28;01mpass\u001b[39;00m\n",
      "File \u001b[1;32mproperties.pyx:69\u001b[0m, in \u001b[0;36mpandas._libs.properties.AxisProperty.__set__\u001b[1;34m()\u001b[0m\n",
      "File \u001b[1;32mc:\\Users\\Dell\\Documents\\Stroke\\strokevenv\\lib\\site-packages\\pandas\\core\\generic.py:814\u001b[0m, in \u001b[0;36mNDFrame._set_axis\u001b[1;34m(self, axis, labels)\u001b[0m\n\u001b[0;32m    809\u001b[0m \u001b[38;5;250m\u001b[39m\u001b[38;5;124;03m\"\"\"\u001b[39;00m\n\u001b[0;32m    810\u001b[0m \u001b[38;5;124;03mThis is called from the cython code when we set the `index` attribute\u001b[39;00m\n\u001b[0;32m    811\u001b[0m \u001b[38;5;124;03mdirectly, e.g. `series.index = [1, 2, 3]`.\u001b[39;00m\n\u001b[0;32m    812\u001b[0m \u001b[38;5;124;03m\"\"\"\u001b[39;00m\n\u001b[0;32m    813\u001b[0m labels \u001b[38;5;241m=\u001b[39m ensure_index(labels)\n\u001b[1;32m--> 814\u001b[0m \u001b[38;5;28;43mself\u001b[39;49m\u001b[38;5;241;43m.\u001b[39;49m\u001b[43m_mgr\u001b[49m\u001b[38;5;241;43m.\u001b[39;49m\u001b[43mset_axis\u001b[49m\u001b[43m(\u001b[49m\u001b[43maxis\u001b[49m\u001b[43m,\u001b[49m\u001b[43m \u001b[49m\u001b[43mlabels\u001b[49m\u001b[43m)\u001b[49m\n\u001b[0;32m    815\u001b[0m \u001b[38;5;28mself\u001b[39m\u001b[38;5;241m.\u001b[39m_clear_item_cache()\n",
      "File \u001b[1;32mc:\\Users\\Dell\\Documents\\Stroke\\strokevenv\\lib\\site-packages\\pandas\\core\\internals\\managers.py:238\u001b[0m, in \u001b[0;36mBaseBlockManager.set_axis\u001b[1;34m(self, axis, new_labels)\u001b[0m\n\u001b[0;32m    236\u001b[0m \u001b[38;5;28;01mdef\u001b[39;00m \u001b[38;5;21mset_axis\u001b[39m(\u001b[38;5;28mself\u001b[39m, axis: AxisInt, new_labels: Index) \u001b[38;5;241m-\u001b[39m\u001b[38;5;241m>\u001b[39m \u001b[38;5;28;01mNone\u001b[39;00m:\n\u001b[0;32m    237\u001b[0m     \u001b[38;5;66;03m# Caller is responsible for ensuring we have an Index object.\u001b[39;00m\n\u001b[1;32m--> 238\u001b[0m     \u001b[38;5;28;43mself\u001b[39;49m\u001b[38;5;241;43m.\u001b[39;49m\u001b[43m_validate_set_axis\u001b[49m\u001b[43m(\u001b[49m\u001b[43maxis\u001b[49m\u001b[43m,\u001b[49m\u001b[43m \u001b[49m\u001b[43mnew_labels\u001b[49m\u001b[43m)\u001b[49m\n\u001b[0;32m    239\u001b[0m     \u001b[38;5;28mself\u001b[39m\u001b[38;5;241m.\u001b[39maxes[axis] \u001b[38;5;241m=\u001b[39m new_labels\n",
      "File \u001b[1;32mc:\\Users\\Dell\\Documents\\Stroke\\strokevenv\\lib\\site-packages\\pandas\\core\\internals\\base.py:98\u001b[0m, in \u001b[0;36mDataManager._validate_set_axis\u001b[1;34m(self, axis, new_labels)\u001b[0m\n\u001b[0;32m     95\u001b[0m     \u001b[38;5;28;01mpass\u001b[39;00m\n\u001b[0;32m     97\u001b[0m \u001b[38;5;28;01melif\u001b[39;00m new_len \u001b[38;5;241m!=\u001b[39m old_len:\n\u001b[1;32m---> 98\u001b[0m     \u001b[38;5;28;01mraise\u001b[39;00m \u001b[38;5;167;01mValueError\u001b[39;00m(\n\u001b[0;32m     99\u001b[0m         \u001b[38;5;124mf\u001b[39m\u001b[38;5;124m\"\u001b[39m\u001b[38;5;124mLength mismatch: Expected axis has \u001b[39m\u001b[38;5;132;01m{\u001b[39;00mold_len\u001b[38;5;132;01m}\u001b[39;00m\u001b[38;5;124m elements, new \u001b[39m\u001b[38;5;124m\"\u001b[39m\n\u001b[0;32m    100\u001b[0m         \u001b[38;5;124mf\u001b[39m\u001b[38;5;124m\"\u001b[39m\u001b[38;5;124mvalues have \u001b[39m\u001b[38;5;132;01m{\u001b[39;00mnew_len\u001b[38;5;132;01m}\u001b[39;00m\u001b[38;5;124m elements\u001b[39m\u001b[38;5;124m\"\u001b[39m\n\u001b[0;32m    101\u001b[0m     )\n",
      "\u001b[1;31mValueError\u001b[0m: Length mismatch: Expected axis has 12 elements, new values have 2 elements"
     ]
    }
   ],
   "source": [
    "wi_stroke_gender = create_distributions(data, feature, target, value = 0)"
   ]
  },
  {
   "cell_type": "code",
   "execution_count": 108,
   "id": "22e9b797",
   "metadata": {},
   "outputs": [],
   "source": [
    "no_stroke_gender = create_distributions(data, feature, target, value = 'Female')"
   ]
  },
  {
   "cell_type": "code",
   "execution_count": 110,
   "id": "5874333c",
   "metadata": {},
   "outputs": [
    {
     "data": {
      "text/html": [
       "<div>\n",
       "<style scoped>\n",
       "    .dataframe tbody tr th:only-of-type {\n",
       "        vertical-align: middle;\n",
       "    }\n",
       "\n",
       "    .dataframe tbody tr th {\n",
       "        vertical-align: top;\n",
       "    }\n",
       "\n",
       "    .dataframe thead th {\n",
       "        text-align: right;\n",
       "    }\n",
       "</style>\n",
       "<table border=\"1\" class=\"dataframe\">\n",
       "  <thead>\n",
       "    <tr style=\"text-align: right;\">\n",
       "      <th></th>\n",
       "      <th>Gender</th>\n",
       "      <th>Count</th>\n",
       "    </tr>\n",
       "  </thead>\n",
       "  <tbody>\n",
       "  </tbody>\n",
       "</table>\n",
       "</div>"
      ],
      "text/plain": [
       "Empty DataFrame\n",
       "Columns: [Gender, Count]\n",
       "Index: []"
      ]
     },
     "execution_count": 110,
     "metadata": {},
     "output_type": "execute_result"
    }
   ],
   "source": [
    "wi_stroke_gender "
   ]
  },
  {
   "cell_type": "code",
   "execution_count": 103,
   "id": "dc835610",
   "metadata": {},
   "outputs": [
    {
     "data": {
      "image/png": "[encoded data removed]",
      "text/plain": [
       "<Figure size 1800x800 with 2 Axes>"
      ]
     },
     "metadata": {},
     "output_type": "display_data"
    }
   ],
   "source": [
    "labels = ['Male', 'Female']\n",
    "feature = 'Gender'\n",
    "y = 'Count'\n",
    "\n",
    "plt.rcParams.update(params)\n",
    "\n",
    "fig, (ax1, ax2) = plt.subplots(1, 2, figsize=(18, 8))\n",
    "\n",
    "palette1 = [color_1, color_2] \n",
    "palette2 = [color_1, color_2]\n",
    "\n",
    "sns.barplot(data=wi_stroke_gender, x=feature, y=y, ax=ax1, palette=palette1)\n",
    "sns.barplot(data=no_stroke_gender, x=feature, y=y, ax=ax2, palette=palette2)\n",
    "\n",
    "ax1.set_xlabel(feature)\n",
    "ax1.set_ylabel(y)\n",
    "for container in ax1.containers:\n",
    "    ax1.bar_label(container, size=size)\n",
    "\n",
    "ax2.set_xlabel(feature)\n",
    "ax2.set_ylabel(y)\n",
    "for container in ax2.containers:\n",
    "    ax2.bar_label(container, size=size)\n",
    "\n",
    "ax1.set_title('Gender Among Stroke Patients')\n",
    "ax2.set_title('Gender Among Non-Stroke Patients')\n",
    "\n",
    "sns.despine()"
   ]
  },
  {
   "cell_type": "markdown",
   "id": "9a4eb2c8",
   "metadata": {},
   "source": [
    "## **Hypertension**"
   ]
  },
  {
   "cell_type": "code",
   "execution_count": 70,
   "id": "dd7a738f",
   "metadata": {},
   "outputs": [],
   "source": [
    "feature = 'Hypertension'\n",
    "target = 'Stroke'\n",
    "data = data"
   ]
  },
  {
   "cell_type": "code",
   "execution_count": 84,
   "id": "54f217f2",
   "metadata": {},
   "outputs": [],
   "source": [
    "wi_stroke_hypertension = create_distributions(data, feature, target, value = 1)"
   ]
  },
  {
   "cell_type": "code",
   "execution_count": 85,
   "id": "5abe230a",
   "metadata": {},
   "outputs": [],
   "source": [
    "no_stroke_hypertension = create_distributions(data, feature, target, value = 0)"
   ]
  },
  {
   "cell_type": "code",
   "execution_count": 88,
   "id": "b18a5dbd",
   "metadata": {},
   "outputs": [
    {
     "data": {
      "text/plain": [
       "[0, 1]"
      ]
     },
     "execution_count": 88,
     "metadata": {},
     "output_type": "execute_result"
    }
   ],
   "source": [
    "labels"
   ]
  },
  {
   "cell_type": "code",
   "execution_count": 86,
   "id": "2289f356",
   "metadata": {},
   "outputs": [
    {
     "data": {
      "image/png": "[encoded data removed]",
      "text/plain": [
       "<Figure size 2000x800 with 2 Axes>"
      ]
     },
     "metadata": {},
     "output_type": "display_data"
    }
   ],
   "source": [
    "labels = [0, 1]\n",
    "feature = 'Hypertension'\n",
    "y = 'Count'\n",
    "\n",
    "plt.rcParams.update(params)\n",
    "\n",
    "fig, (ax1, ax2) = plt.subplots(1, 2, figsize=(20, 8))\n",
    "\n",
    "palette1 = [color_3, color_4] \n",
    "palette2 = [color_3, color_4]\n",
    "\n",
    "sns.barplot(data=wi_stroke_hypertension, x=feature, y=y, ax=ax1, palette=palette1)\n",
    "sns.barplot(data=no_stroke_hypertension, x=feature, y=y, ax=ax2, palette=palette2)\n",
    "\n",
    "ax1.set_xlabel(feature)\n",
    "ax1.set_ylabel(y)\n",
    "for container in ax1.containers:\n",
    "    ax1.bar_label(container, size=size)\n",
    "\n",
    "\n",
    "ax2.set_xlabel(feature)\n",
    "ax2.set_ylabel(y)\n",
    "for container in ax2.containers:\n",
    "    ax2.bar_label(container, size=size)\n",
    "\n",
    "ax1.set_title('Hypertension Among Stroke Patients')\n",
    "ax2.set_title('Hypertension Among Non-Stroke Patients')\n",
    "\n",
    "sns.despine()"
   ]
  },
  {
   "cell_type": "code",
   "execution_count": null,
   "id": "2e0ce3b8",
   "metadata": {},
   "outputs": [],
   "source": [
    "labels = [0, 1]\n",
    "y = 'Count'\n",
    "df = hypertension_distribution  \n",
    "\n",
    "x = feature\n",
    "y = y\n",
    "df = df\n",
    "xlabel = feature\n",
    "ylabel = y  \n",
    "lables = labels\n",
    "title = 'Hypertension Among Stroke Patients'\n",
    "\n",
    "\n",
    "create_barplot(df, x, y, xlabel, ylabel, labels, title)"
   ]
  },
  {
   "cell_type": "markdown",
   "id": "72ad8632",
   "metadata": {},
   "source": [
    "## **Heart Disease**"
   ]
  },
  {
   "cell_type": "code",
   "execution_count": null,
   "id": "44fa43b5",
   "metadata": {},
   "outputs": [],
   "source": [
    "feature = 'Heart Disease'\n",
    "df = data[data[target] == 1].copy()\n",
    "\n",
    "heartdisease_distribution = create_distributions(df, feature, target)"
   ]
  },
  {
   "cell_type": "code",
   "execution_count": null,
   "id": "3eecf00c",
   "metadata": {},
   "outputs": [],
   "source": [
    "labels = [0, 1]\n",
    "y = 'Count' \n",
    "df = heartdisease_distribution\n",
    "\n",
    "x = feature\n",
    "y = y\n",
    "df = df\n",
    "xlabel = feature\n",
    "ylabel = y\n",
    "lables = labels\n",
    "title = 'Heart Disease Among Stroke Patients'\n",
    "\n",
    "\n",
    "create_barplot(df, x, y, xlabel, ylabel, labels, title)"
   ]
  },
  {
   "cell_type": "markdown",
   "id": "f9002a90",
   "metadata": {},
   "source": [
    "## **Marital Status**"
   ]
  },
  {
   "cell_type": "code",
   "execution_count": null,
   "id": "2df9ab55",
   "metadata": {},
   "outputs": [],
   "source": [
    "feature = 'Ever Married'\n",
    "df = data[data[target] == 1].copy()\n",
    "\n",
    "married_distribution = create_distributions(df, feature, target)"
   ]
  },
  {
   "cell_type": "code",
   "execution_count": null,
   "id": "72eee635",
   "metadata": {},
   "outputs": [],
   "source": [
    "labels = ['No', 'Yes']\n",
    "y = 'Count'\n",
    "df = married_distribution\n",
    "\n",
    "x = feature\n",
    "y = y\n",
    "df = df\n",
    "xlabel = feature\n",
    "ylabel = y\n",
    "lables = labels\n",
    "title = 'Marital Status of Stroke Patients'\n",
    "\n",
    "\n",
    "create_barplot(df, x, y, xlabel, ylabel, labels, title)"
   ]
  },
  {
   "cell_type": "markdown",
   "id": "b45cca49",
   "metadata": {},
   "source": [
    "## **Work Status**"
   ]
  },
  {
   "cell_type": "code",
   "execution_count": null,
   "id": "48590d9b",
   "metadata": {},
   "outputs": [],
   "source": [
    "feature = 'Work'\n",
    "df = data[data[target] == 1].copy()\n",
    "\n",
    "work_distribution = create_distributions(df, feature, target)"
   ]
  },
  {
   "cell_type": "code",
   "execution_count": null,
   "id": "98c56056",
   "metadata": {},
   "outputs": [],
   "source": [
    "labels = ['Private', 'Self-employed', 'Govt_job', 'children', 'Never_worked']\n",
    "y = 'Count'\n",
    "df = work_distribution\n",
    "\n",
    "x = feature\n",
    "y = y\n",
    "df = df\n",
    "xlabel = feature\n",
    "ylabel = y\n",
    "lables = labels\n",
    "title = 'Work Status of Stroke Patients'\n",
    "\n",
    "\n",
    "create_barplot(df, x, y, xlabel, ylabel, labels, title)"
   ]
  },
  {
   "cell_type": "markdown",
   "id": "84335b93",
   "metadata": {},
   "source": [
    "## **Residence Type**"
   ]
  },
  {
   "cell_type": "code",
   "execution_count": null,
   "id": "aa9f4016",
   "metadata": {},
   "outputs": [],
   "source": [
    "feature = 'Residence'\n",
    "df = data[data[target] == 1].copy()\n",
    "\n",
    "residence_distribution = create_distributions(df, feature, target)"
   ]
  },
  {
   "cell_type": "code",
   "execution_count": null,
   "id": "05e97a2e",
   "metadata": {},
   "outputs": [],
   "source": [
    "labels = ['Urban', 'Rural']\n",
    "y = 'Count'\n",
    "df = residence_distribution\n",
    "\n",
    "\n",
    "x = feature\n",
    "y = y\n",
    "df = df\n",
    "xlabel = feature\n",
    "ylabel = y\n",
    "lables = labels\n",
    "title = 'Residence Type of Stroke Patients'\n",
    "\n",
    "\n",
    "create_barplot(df, x, y, xlabel, ylabel, labels, title)"
   ]
  },
  {
   "cell_type": "markdown",
   "id": "c067f7f0",
   "metadata": {},
   "source": [
    "## **Average Glucose Levels**"
   ]
  },
  {
   "cell_type": "code",
   "execution_count": null,
   "id": "736c04db",
   "metadata": {},
   "outputs": [],
   "source": [
    "feature = 'AVG Glucose'\n",
    "new_feature = 'Glucose Level'\n",
    "bins = [50, 100, 150, 200, 250, 300]\n",
    "labels = ['50-100', '101-150', '151-200', '201-250', '251-300']"
   ]
  },
  {
   "cell_type": "code",
   "execution_count": null,
   "id": "0c8262bc",
   "metadata": {},
   "outputs": [],
   "source": [
    "df = data.copy()\n",
    "data = create_bins(df, feature, new_feature, bins, labels)\n",
    "data[new_feature] = data[new_feature].astype('object')"
   ]
  },
  {
   "cell_type": "code",
   "execution_count": null,
   "id": "f639a7a7",
   "metadata": {},
   "outputs": [],
   "source": [
    "data.head()"
   ]
  },
  {
   "cell_type": "code",
   "execution_count": null,
   "id": "a1b085f2",
   "metadata": {},
   "outputs": [],
   "source": [
    "df = data[data[target] == 1].copy()\n",
    "glucose_group_counts = count_bins(df, new_feature)"
   ]
  },
  {
   "cell_type": "code",
   "execution_count": null,
   "id": "171668a2",
   "metadata": {},
   "outputs": [],
   "source": [
    "data.shape"
   ]
  },
  {
   "cell_type": "code",
   "execution_count": null,
   "id": "9badb56c",
   "metadata": {},
   "outputs": [],
   "source": [
    "df = glucose_group_counts\n",
    "x = new_feature\n",
    "y = 'Count'\n",
    "\n",
    "df = df\n",
    "xlabel = new_feature\n",
    "ylabel = y\n",
    "labels = labels\n",
    "title = 'Average Glucose Levels of Stroke Patients'\n",
    "\n",
    "create_barplot(df, x, y, xlabel, ylabel, labels, title)"
   ]
  },
  {
   "cell_type": "code",
   "execution_count": null,
   "id": "bb4ee98c",
   "metadata": {},
   "outputs": [],
   "source": [
    "df = data[data[target] == 0].copy()\n",
    "glucose_group_counts = count_bins(df, new_feature)"
   ]
  },
  {
   "cell_type": "code",
   "execution_count": null,
   "id": "0433397a",
   "metadata": {},
   "outputs": [],
   "source": [
    "data.shape"
   ]
  },
  {
   "cell_type": "code",
   "execution_count": null,
   "id": "ad71bb08",
   "metadata": {},
   "outputs": [],
   "source": [
    "df = glucose_group_counts\n",
    "x = new_feature\n",
    "y = 'Count'\n",
    "\n",
    "df = df\n",
    "xlabel = new_feature\n",
    "ylabel = y\n",
    "labels = labels\n",
    "title = 'Average Glucose Levels of Non-Stroke Patients'\n",
    "\n",
    "create_barplot(df, x, y, xlabel, ylabel, labels, title)"
   ]
  },
  {
   "cell_type": "markdown",
   "id": "fee017bb",
   "metadata": {},
   "source": [
    "# **BMI Levels**"
   ]
  },
  {
   "cell_type": "code",
   "execution_count": null,
   "id": "80ca2712",
   "metadata": {},
   "outputs": [],
   "source": [
    "feature = 'BMI'\n",
    "new_feature = 'BMI Level'\n",
    "bins = [0, 10, 20, 30, 40, 50, 60, 70, 80, 90, 100]\n",
    "labels = ['0-10', '11-20', '21-30', '31-40', '41-50', '51-60', '61-70', '71-80', '81-90', '91-100']"
   ]
  },
  {
   "cell_type": "code",
   "execution_count": null,
   "id": "550106e1",
   "metadata": {},
   "outputs": [],
   "source": [
    "df = data.copy( )\n",
    "data = create_bins(df, feature, new_feature, bins, labels)\n",
    "data[new_feature] = data[new_feature].astype('object')"
   ]
  },
  {
   "cell_type": "code",
   "execution_count": null,
   "id": "3785807c",
   "metadata": {},
   "outputs": [],
   "source": [
    "data.head()"
   ]
  },
  {
   "cell_type": "code",
   "execution_count": null,
   "id": "3a636d58",
   "metadata": {},
   "outputs": [],
   "source": [
    "data.head()"
   ]
  },
  {
   "cell_type": "code",
   "execution_count": null,
   "id": "05fb7f5c",
   "metadata": {},
   "outputs": [],
   "source": [
    "df = data[data[target] == 1]\n",
    "BMI_group_counts = count_bins(df, new_feature)"
   ]
  },
  {
   "cell_type": "code",
   "execution_count": null,
   "id": "5f74128e",
   "metadata": {},
   "outputs": [],
   "source": [
    "y = 'Count'\n",
    "df = BMI_group_counts\n",
    "\n",
    "x = new_feature\n",
    "y = y\n",
    "df = df\n",
    "xlabel = new_feature\n",
    "ylabel = y\n",
    "labels = labels\n",
    "title = 'BMI Levels of Stroke Patients'\n",
    "\n",
    "create_barplot(df, x, y, xlabel, ylabel, labels, title)"
   ]
  },
  {
   "cell_type": "code",
   "execution_count": null,
   "id": "ec052684",
   "metadata": {},
   "outputs": [],
   "source": [
    "df = data[data[target] == 0].copy()\n",
    "BMI_group_counts = count_bins(df, new_feature)"
   ]
  },
  {
   "cell_type": "code",
   "execution_count": null,
   "id": "b112ac04",
   "metadata": {},
   "outputs": [],
   "source": [
    "data.shape"
   ]
  },
  {
   "cell_type": "code",
   "execution_count": null,
   "id": "96c99adc",
   "metadata": {},
   "outputs": [],
   "source": [
    "y = 'Count'\n",
    "df = BMI_group_counts\n",
    "\n",
    "x = new_feature\n",
    "y = y\n",
    "df = df\n",
    "xlabel = new_feature\n",
    "ylabel = y\n",
    "labels = labels\n",
    "title = 'BMI Levels of Non-Stroke Patients'\n",
    "\n",
    "create_barplot(df, x, y, xlabel, ylabel, labels, title)"
   ]
  },
  {
   "cell_type": "markdown",
   "id": "89f1ab1d",
   "metadata": {},
   "source": [
    "## **Smoking Habits**"
   ]
  },
  {
   "cell_type": "code",
   "execution_count": null,
   "id": "c5e2000f",
   "metadata": {},
   "outputs": [],
   "source": [
    "feature = 'Smoking'\n",
    "df = data[data[target] == 1].copy()\n",
    "\n",
    "smoking_distribution = create_distributions(df, feature, target)"
   ]
  },
  {
   "cell_type": "code",
   "execution_count": null,
   "id": "144dcd29",
   "metadata": {},
   "outputs": [],
   "source": [
    "data.shape"
   ]
  },
  {
   "cell_type": "code",
   "execution_count": null,
   "id": "93d98d95",
   "metadata": {},
   "outputs": [],
   "source": [
    "labels = ['Unknown', 'formerly smoked', 'never smoked', 'smokes']\n",
    "y = 'Count'\n",
    "df = smoking_distribution\n",
    "\n",
    "x = feature\n",
    "y = y\n",
    "df = df\n",
    "xlabel = feature\n",
    "ylabel = y\n",
    "lables = labels\n",
    "title = 'Smoking Habits of Stroke Patients'\n",
    "\n",
    "\n",
    "create_barplot(df, x, y, xlabel, ylabel, labels, title)"
   ]
  },
  {
   "cell_type": "markdown",
   "id": "e95cb8a2",
   "metadata": {},
   "source": [
    "## **Age Range Stroke Patients**"
   ]
  },
  {
   "cell_type": "code",
   "execution_count": null,
   "id": "271477e9",
   "metadata": {},
   "outputs": [],
   "source": [
    "feature = 'Age'\n",
    "new_feature = 'Age Group'\n",
    "bins = [0, 10, 20, 30, 40, 50, 60, 70, 80, 90, 100]\n",
    "labels = ['0-10', '10-20', '20-30', '30-40', '40-50', '50-60', '60-70', '70-80', '80-90', '90-100']"
   ]
  },
  {
   "cell_type": "code",
   "execution_count": null,
   "id": "b67c5a3b",
   "metadata": {},
   "outputs": [],
   "source": [
    "df = data.copy()\n",
    "data = create_bins(df, feature, new_feature, bins, labels)\n",
    "data[new_feature] = data[new_feature].astype('object')"
   ]
  },
  {
   "cell_type": "code",
   "execution_count": null,
   "id": "488598a6",
   "metadata": {},
   "outputs": [],
   "source": [
    "df = data[data[target] == 1].copy()\n",
    "age_group_counts = count_bins(df, new_feature)"
   ]
  },
  {
   "cell_type": "code",
   "execution_count": null,
   "id": "9762566e",
   "metadata": {},
   "outputs": [],
   "source": [
    "y = 'Count'\n",
    "df = age_group_counts\n",
    "\n",
    "x = new_feature\n",
    "y = y\n",
    "df = df\n",
    "xlabel = new_feature\n",
    "ylabel = y\n",
    "labels = labels\n",
    "title = 'Ages of Stroke Patients'\n",
    "\n",
    "\n",
    "create_barplot(df, x, y, xlabel, ylabel, labels, title)"
   ]
  },
  {
   "cell_type": "code",
   "execution_count": null,
   "id": "51fc445f",
   "metadata": {},
   "outputs": [],
   "source": [
    "df = data[data[target] == 0].copy( )\n",
    "age_group_counts = count_bins(df, new_feature)"
   ]
  },
  {
   "cell_type": "code",
   "execution_count": null,
   "id": "e324eaea",
   "metadata": {},
   "outputs": [],
   "source": [
    "data.shape"
   ]
  },
  {
   "cell_type": "code",
   "execution_count": null,
   "id": "0195089a",
   "metadata": {},
   "outputs": [],
   "source": [
    "age_group_counts"
   ]
  },
  {
   "cell_type": "code",
   "execution_count": null,
   "id": "de2470c7",
   "metadata": {},
   "outputs": [],
   "source": [
    "y = 'Count'\n",
    "df = age_group_counts\n",
    "\n",
    "x = new_feature\n",
    "y = y\n",
    "df = df\n",
    "xlabel = new_feature\n",
    "ylabel = y\n",
    "labels = labels\n",
    "title = 'Ages of Non-Stroke Patients'\n",
    "\n",
    "\n",
    "create_barplot(df, x, y, xlabel, ylabel, labels, title)"
   ]
  },
  {
   "cell_type": "markdown",
   "id": "f6dee804",
   "metadata": {},
   "source": [
    "## **Ages of Non-Stroke Patients**"
   ]
  },
  {
   "cell_type": "markdown",
   "id": "2c5be447",
   "metadata": {},
   "source": [
    "### Section Summary\n",
    "> * The age range is 25 to 35.\n",
    "> * About 25% of the customers are 28, the youngest group.\n",
    "> * Only 3% of the customers are 35, the oldest group."
   ]
  },
  {
   "cell_type": "markdown",
   "id": "d9f69d3d",
   "metadata": {},
   "source": [
    "# **Encoding**"
   ]
  },
  {
   "cell_type": "code",
   "execution_count": null,
   "id": "8dc25a24",
   "metadata": {},
   "outputs": [],
   "source": [
    "label_encoder = LabelEncoder()\n",
    "\n",
    "obj = data.dtypes == \"object\"\n",
    "\n",
    "for col in list(obj[obj].index):\n",
    "    data[col] = label_encoder.fit_transform(data[col])"
   ]
  },
  {
   "cell_type": "code",
   "execution_count": null,
   "id": "2c1cc423",
   "metadata": {},
   "outputs": [],
   "source": [
    "data.head()"
   ]
  },
  {
   "cell_type": "markdown",
   "id": "de768ebb",
   "metadata": {},
   "source": [
    "## **Correlation between each Feature and the Target Feature**"
   ]
  },
  {
   "cell_type": "code",
   "execution_count": null,
   "id": "4132428b",
   "metadata": {},
   "outputs": [],
   "source": [
    "corr_matrix = data.corr(numeric_only=True)\n",
    "corr_matrix['Stroke'].sort_values(ascending=False)"
   ]
  },
  {
   "cell_type": "code",
   "execution_count": null,
   "id": "8c49c5fb",
   "metadata": {},
   "outputs": [],
   "source": [
    "title = \"Correlation of Features\"\n",
    "create_heatmap(data, title)"
   ]
  },
  {
   "cell_type": "code",
   "execution_count": null,
   "id": "0078f770",
   "metadata": {},
   "outputs": [],
   "source": [
    "random_seed = 101\n",
    "\n",
    "features = data.drop('Stroke', axis=1)\n",
    "target = data['Stroke']\n",
    "\n",
    "mi_scores = mutual_info_classif(features, target, random_state=random_seed)\n",
    "create_plot_mi_scores(features, mi_scores)"
   ]
  },
  {
   "cell_type": "markdown",
   "id": "fcd963f3",
   "metadata": {},
   "source": [
    "### Section Summary\n",
    "> * For this project a strong correlation would be a Pearson correlation coefficient of 0.8 or higher. \n",
    "> * There are very weak correlations between any one numeric feature and the other numeric features.\n",
    "> * Furthermore, the correlations between each numeric feature and the target feature are also very weak."
   ]
  },
  {
   "cell_type": "markdown",
   "id": "c82826dd",
   "metadata": {},
   "source": [
    "# **Hypothesis Tests**"
   ]
  },
  {
   "cell_type": "markdown",
   "id": "46462920",
   "metadata": {},
   "source": [
    "## **Hypothesis Test: Smoking Habits and Stroke** "
   ]
  },
  {
   "cell_type": "markdown",
   "id": "632dd266",
   "metadata": {},
   "source": [
    "**Null**: There is no significant difference between the proporation of smokers who suffered a stroke and non-smokers.<BR>\n",
    "**Alternative**: A higher proportion of smokers suffered a stroke compared to non-smokers. "
   ]
  },
  {
   "cell_type": "code",
   "execution_count": null,
   "id": "d6b29250",
   "metadata": {},
   "outputs": [],
   "source": [
    "df = data.copy()\n",
    "feature = 'Smoking'"
   ]
  },
  {
   "cell_type": "code",
   "execution_count": null,
   "id": "2451c068",
   "metadata": {},
   "outputs": [],
   "source": [
    "smokers = df.loc[df[feature] == 'smokes']\n",
    "count_smokers = smokers.shape[0]\n",
    "count_smoker_stroke = (smokers[target] == 1).sum()\n",
    "prop_smoker_stroke = count_smoker_stroke / count_smokers\n",
    "print(\n",
    "    f\"Proportion of smokers who are suffered a stroke {prop_smoker_stroke:.3f}\"\n",
    ")"
   ]
  },
  {
   "cell_type": "code",
   "execution_count": null,
   "id": "6993eb6f",
   "metadata": {},
   "outputs": [],
   "source": [
    "nonsmokers = df.loc[df[feature] == 'never smoked']\n",
    "count_nonsmokers = nonsmokers.shape[0]\n",
    "count_nonsmoker_stroke = (nonsmokers[target] == 1).sum()\n",
    "prop_nonsmoker_stroke = count_nonsmoker_stroke / count_nonsmokers\n",
    "print(\n",
    "    f\"Proportion of nonsmokers who are suffered a stroke {prop_nonsmoker_stroke:.3f}\"\n",
    ")"
   ]
  },
  {
   "cell_type": "code",
   "execution_count": null,
   "id": "abfebded",
   "metadata": {},
   "outputs": [],
   "source": [
    "numerator = np.array([count_smoker_stroke, count_nonsmoker_stroke])\n",
    "denominator = np.array([count_smokers, count_nonsmokers])\n",
    "\n",
    "stat, pval = proportions_ztest(numerator, denominator, alternative=\"two-sided\")\n",
    "\n",
    "print(f\"P-value: {pval:.2f}\")"
   ]
  },
  {
   "cell_type": "markdown",
   "id": "09381528",
   "metadata": {},
   "source": [
    "### Section Summary\n",
    "> * A large majority of customers (over 85%) are college graduates.\n",
    "> * Only about 15% of customers are non-graduates.  \n",
    "> * I conducted a proportions z-test to test the hypothesis that there is no significant difference between the proportion of college graduates who bought travel insurance and non-graduates.\n",
    "> * Using this test, the p-value is much greater than the significance level of 0.05. \n",
    "> * Based on this evidence, I fail to reject the null hypothesis. \n",
    "> * I can conclude that there is not enough evidence to support that there is a significant difference smokers who are stroke patients and nonsmokers who are stroke patients."
   ]
  },
  {
   "cell_type": "markdown",
   "id": "65e0b428",
   "metadata": {},
   "source": [
    "## **Hypothesis Test: Mean Glucose Level and Stroke**"
   ]
  },
  {
   "cell_type": "markdown",
   "id": "ba192c68",
   "metadata": {},
   "source": [
    "**Null**: There is no significant difference between the mean AVG Glucose of patients who suffered a stroke and patients who did not.<BR>\n",
    "**Alternative**: The mean AVG Glucose of patients who suffered a stroke is significantly different than the mean AVG Glucose of patients who did not. "
   ]
  },
  {
   "cell_type": "markdown",
   "id": "28bae506",
   "metadata": {},
   "source": [
    "## **Two-Sample T-Test**"
   ]
  },
  {
   "cell_type": "code",
   "execution_count": null,
   "id": "0b05a0f9",
   "metadata": {},
   "outputs": [],
   "source": [
    "def two_sample_t_test(sample1, sample2, variance):\n",
    "    \"\"\"\n",
    "    Determines if the means of two samples are significanlty different.\n",
    "    \"\"\"\n",
    "    if variance is False:\n",
    "        print(\"The variance of the samples are different.\")\n",
    "    else:\n",
    "        print(\"The variance of the samples are the same.\")\n",
    "\n",
    "    result = stats.ttest_ind(sample1, sample2, equal_var=variance)\n",
    "    \n",
    "    print(\"The p-value is: \", result.pvalue)\n",
    "    \n",
    "    if result.pvalue < 0.05:\n",
    "        print(\"Null hypothesis is rejected.\")\n",
    "    else:\n",
    "        print(\"Failed to reject the null hypothesis.\")"
   ]
  },
  {
   "cell_type": "code",
   "execution_count": null,
   "id": "7df929c4",
   "metadata": {},
   "outputs": [],
   "source": [
    "no_stroke_glucose = no_stroke['AVG Glucose']\n",
    "stroke_glucose = stroke['AVG Glucose']"
   ]
  },
  {
   "cell_type": "markdown",
   "id": "002f58fb",
   "metadata": {},
   "source": [
    "## **Numpy Variance Test**"
   ]
  },
  {
   "cell_type": "code",
   "execution_count": null,
   "id": "c2db92cb",
   "metadata": {},
   "outputs": [],
   "source": [
    "var_non_stroke_glucose = np.var(no_stroke_glucose)\n",
    "var_stroke_glucose = np.var(stroke_glucose)\n",
    "\n",
    "if var_non_stroke_glucose == var_stroke_glucose:\n",
    "    variance = True\n",
    "else:\n",
    "    variance = False"
   ]
  },
  {
   "cell_type": "markdown",
   "id": "3871a94b",
   "metadata": {},
   "source": [
    "## **Two-Sample T-Test**"
   ]
  },
  {
   "cell_type": "code",
   "execution_count": null,
   "id": "781f4089",
   "metadata": {},
   "outputs": [],
   "source": [
    "pvalue = two_sample_t_test(no_stroke_glucose,stroke_glucose, variance)"
   ]
  },
  {
   "cell_type": "markdown",
   "id": "345378ff",
   "metadata": {},
   "source": [
    "### **Section Summary**\n",
    "> * I conducted a two-sample t-test to test this hypothesis, which required a check for variance differences between the samples. The Numpy variance test indicated that the variances of the sample are different. \n",
    "> * The p-value obtained is almost zero, so it is much smaller than the significance level of 0.05. \n",
    "> * The NULL HYPOTHESIS was REJECTED, indicating that there is a statistically significant difference between the mean number of goals made at home games and the mean number of goals made at away games. "
   ]
  },
  {
   "cell_type": "markdown",
   "id": "13c7b30d",
   "metadata": {},
   "source": [
    "# **Machine Learning**"
   ]
  },
  {
   "cell_type": "markdown",
   "id": "467aa810",
   "metadata": {},
   "source": [
    "## **Functions Used in This Section**"
   ]
  },
  {
   "cell_type": "markdown",
   "id": "6ec41311",
   "metadata": {},
   "source": [
    "### **Classification Report**"
   ]
  },
  {
   "cell_type": "code",
   "execution_count": null,
   "id": "96d3c03d",
   "metadata": {},
   "outputs": [],
   "source": [
    "def print_classification_report(y_test, y_predict):\n",
    "    \"\"\"\n",
    "    Displays the classification report.\n",
    "    \"\"\"\n",
    "\n",
    "    print(classification_report(y_test, y_predict))"
   ]
  },
  {
   "cell_type": "markdown",
   "id": "e8a72a86",
   "metadata": {},
   "source": [
    "### **ROC Curve**"
   ]
  },
  {
   "cell_type": "code",
   "execution_count": null,
   "id": "ee97dfc8",
   "metadata": {},
   "outputs": [],
   "source": [
    "def display_roc_curve(log_model, X_test, y_test, y_predict):\n",
    "    \"\"\"\n",
    "    Displays the Receiver Operating Characteristic (ROC) Curve.\n",
    "    \"\"\"\n",
    "\n",
    "    plt.rcParams.update(params)\n",
    "    sns.despine(left=True, bottom=True)\n",
    "\n",
    "    logit_roc_auc = roc_auc_score(y_test, y_predict)\n",
    "    fpr, tpr, thresholds = roc_curve(y_test, log_model.predict_proba(X_test)[:, 1])\n",
    "\n",
    "    plt.figure(figsize=(8, 8))\n",
    "    plt.plot(fpr, tpr, label=\"Logistic Regression (area = %0.2f)\" % logit_roc_auc)\n",
    "    plt.plot([0, 1], [0, 1], \"r--\")\n",
    "    plt.xlim([0.0, 1.0])\n",
    "    plt.ylim([0.0, 1.05])\n",
    "    plt.xlabel(\"False Positive Rate\")\n",
    "    plt.ylabel(\"True Positive Rate\")\n",
    "    plt.title(\"Receiver Operating Characteristic Curve\")\n",
    "    plt.legend(loc=\"lower right\")\n",
    "\n",
    "    plt.show()"
   ]
  },
  {
   "cell_type": "markdown",
   "id": "571f61d8",
   "metadata": {},
   "source": [
    "# **Feature Engineering**"
   ]
  },
  {
   "cell_type": "code",
   "execution_count": null,
   "id": "c4c835d8",
   "metadata": {},
   "outputs": [],
   "source": [
    "df = engineered_data_encoded.copy()"
   ]
  },
  {
   "cell_type": "markdown",
   "id": "4de494a2",
   "metadata": {},
   "source": [
    "## **Drop Correlated Feature**"
   ]
  },
  {
   "cell_type": "code",
   "execution_count": null,
   "id": "84a8f132",
   "metadata": {},
   "outputs": [],
   "source": [
    "df = df.drop(columns=['Ever Married'])"
   ]
  },
  {
   "cell_type": "markdown",
   "id": "63696a6d",
   "metadata": {},
   "source": [
    "## **Age Squared**"
   ]
  },
  {
   "cell_type": "code",
   "execution_count": null,
   "id": "7e9a83d9",
   "metadata": {},
   "outputs": [],
   "source": [
    "df['Age Squared'] = df['Age'] ** 2"
   ]
  },
  {
   "cell_type": "markdown",
   "id": "ed36bf79",
   "metadata": {},
   "source": [
    "## **AVG Glucose Squared**"
   ]
  },
  {
   "cell_type": "code",
   "execution_count": null,
   "id": "d04058ea",
   "metadata": {},
   "outputs": [],
   "source": [
    "df['AVG Glucose Squared'] = df['AVG Glucose'] ** 2"
   ]
  },
  {
   "cell_type": "markdown",
   "id": "91e6552f",
   "metadata": {},
   "source": [
    "## **Glucose Level Bins**"
   ]
  },
  {
   "cell_type": "code",
   "execution_count": null,
   "id": "2696a063",
   "metadata": {},
   "outputs": [],
   "source": [
    "df['Glucose Level'] = pd.cut(df['AVG Glucose'], bins=[50, 100, 150, 200, 250, 300], labels=['Very Low', 'Low', 'Normal', 'High', 'Very High'])\n",
    "df['Glucose Level'] = df['Glucose Level'].astype('object')"
   ]
  },
  {
   "cell_type": "markdown",
   "id": "3987bd19",
   "metadata": {},
   "source": [
    "## **BMI Level Bins**"
   ]
  },
  {
   "cell_type": "code",
   "execution_count": null,
   "id": "a50493f4",
   "metadata": {},
   "outputs": [],
   "source": [
    "df['BMI Level'] = pd.cut(df['BMI'], bins=[10, 30, 50, 70, 90, 100], labels=['Very Low', 'Low', 'Normal', 'High', 'Very High'])\n",
    "df['BMI Level'] = df['BMI Level'].astype('object')"
   ]
  },
  {
   "cell_type": "markdown",
   "id": "16bda92b",
   "metadata": {},
   "source": [
    "## **Hypertension and Heart Disease Interaction**"
   ]
  },
  {
   "cell_type": "code",
   "execution_count": null,
   "id": "beb22636",
   "metadata": {},
   "outputs": [],
   "source": [
    "df['Hypertension/Heart Disease'] = df['Hypertension'].astype(str) + '_' + df['Heart Disease'].astype(str)\n",
    "df['Hypertension/Heart Disease'] = df['Hypertension/Heart Disease'] .astype('object')"
   ]
  },
  {
   "cell_type": "markdown",
   "id": "d818a433",
   "metadata": {},
   "source": [
    "# **Train Test Split**"
   ]
  },
  {
   "cell_type": "code",
   "execution_count": null,
   "id": "69d5e1ad",
   "metadata": {},
   "outputs": [],
   "source": [
    "random_state = 101\n",
    "\n",
    "X = df.drop(target, axis=1)\n",
    "y = df[target]\n",
    "\n",
    "X, y = shuffle(X, y, random_state=random_state)\n",
    "\n",
    "X_train, X_test, y_train, y_test = train_test_split(\n",
    "    X, y, test_size=0.2, random_state=random_state)"
   ]
  },
  {
   "cell_type": "markdown",
   "id": "a534554d",
   "metadata": {},
   "source": [
    "## **Encoding**"
   ]
  },
  {
   "cell_type": "code",
   "execution_count": null,
   "id": "6d1c496a",
   "metadata": {},
   "outputs": [],
   "source": [
    "ohe = OneHotEncoder()\n",
    "X_train_coded = ohe.fit_transform(X_train)\n",
    "X_test_coded = ohe.transform(X_test)"
   ]
  },
  {
   "cell_type": "markdown",
   "id": "4020b869",
   "metadata": {},
   "source": [
    "## **Scaling**"
   ]
  },
  {
   "cell_type": "code",
   "execution_count": null,
   "id": "84855c33",
   "metadata": {},
   "outputs": [],
   "source": [
    "columns = ['Age', 'AVG Glucose', 'BMI', 'Age Squared', 'AVG Glucose Squared']\n",
    "scaler = RobustScaler()"
   ]
  },
  {
   "cell_type": "code",
   "execution_count": null,
   "id": "166e2f93",
   "metadata": {},
   "outputs": [],
   "source": [
    "X_train_scaled = X_train_coded.copy()\n",
    "X_train_scaled[columns] = scaler.fit_transform(X_train_scaled[columns])\n",
    "\n",
    "X_test_scaled = X_test_coded.copy()\n",
    "X_test_scaled[columns] = scaler.transform(X_test_scaled[columns])"
   ]
  },
  {
   "cell_type": "markdown",
   "id": "e8c1de9d",
   "metadata": {},
   "source": [
    "## **Class Weights**"
   ]
  },
  {
   "cell_type": "code",
   "execution_count": null,
   "id": "52704a74",
   "metadata": {},
   "outputs": [],
   "source": [
    "weights = {0: 1, 1: 10}\n",
    "\n",
    "# LogisticRegression(class_weight=weights)\n",
    "# model.fit(X_train, y_train)"
   ]
  },
  {
   "cell_type": "markdown",
   "id": "feebbdb1",
   "metadata": {},
   "source": [
    "# K-Fold Cross Validation"
   ]
  },
  {
   "cell_type": "code",
   "execution_count": null,
   "id": "3bac5b49",
   "metadata": {
    "scrolled": true
   },
   "outputs": [],
   "source": [
    "logisticregression_pipeline = Pipeline([(\"lr\", LogisticRegression())])\n",
    "\n",
    "svm_pipeline = Pipeline([SVC()]) \n",
    "\n",
    "knn_pipeline = Pipeline([(\"knn\", KNeighborsClassifier())])\n",
    "\n",
    "\n",
    "pipelines = {\n",
    "    \"Logistic Regression\": logisticregression_pipeline,\n",
    "    \"SVM\": svm_pipeline,\n",
    "    \"KNN\": knn_pipeline,\n",
    "}\n",
    "\n",
    "\n",
    "for name, pipeline in pipelines.items():\n",
    "    scores = cross_val_score(pipeline, X, y, cv=10)\n",
    "    print(f\"{name}: {scores.mean():.2f}\")"
   ]
  },
  {
   "cell_type": "markdown",
   "id": "1fddc1d2",
   "metadata": {},
   "source": [
    "### Section Summary\n",
    "> * Since this is a rather simple dataset, I decided to create baselines with default hyperparameters and 10-Fold Cross-validation using three of the simpler machine learning models: Logistic Regression, Decision Tree, and K Nearest Neighbors.\n",
    "> * Both Decision Tree and KNN surpassed the 75% accuracy standard with only default hyperparameters.   "
   ]
  },
  {
   "cell_type": "markdown",
   "id": "c58a0def",
   "metadata": {},
   "source": [
    "# Feature Selection"
   ]
  },
  {
   "cell_type": "markdown",
   "id": "de2cc338",
   "metadata": {},
   "source": [
    "## Feature Selection Based on SHAP"
   ]
  },
  {
   "cell_type": "code",
   "execution_count": null,
   "id": "d3e8bbf9",
   "metadata": {
    "scrolled": false
   },
   "outputs": [],
   "source": [
    "dtc = DecisionTreeClassifier()\n",
    "dtc.fit(X_train, y_train)\n",
    "\n",
    "sampled_X = shap.sample(X, 100)\n",
    "\n",
    "explainer = shap.KernelExplainer(dtc.predict_proba, sampled_X)\n",
    "\n",
    "shap_values = explainer.shap_values(X_test)\n",
    "shap.summary_plot(shap_values[0], X_test, plot_type=\"bar\", color=color_11)"
   ]
  },
  {
   "cell_type": "code",
   "execution_count": null,
   "id": "971ff6a7",
   "metadata": {},
   "outputs": [],
   "source": [
    "X_reduced_SHAP = insurance[[\"AnnualIncome\", \"Age\", \"FamilyMembers\"]]\n",
    "y = insurance[\"TravelInsurance\"]\n",
    "X_reduced_SHAP, y = shuffle(X_reduced_SHAP, y, random_state=None)"
   ]
  },
  {
   "cell_type": "code",
   "execution_count": null,
   "id": "6431459d",
   "metadata": {},
   "outputs": [],
   "source": [
    "logisticregression_pipeline = Pipeline([(\"lr\", LogisticRegression())])\n",
    "\n",
    "decisiontree_pipeline = Pipeline([(\"dt\", DecisionTreeClassifier())])\n",
    "\n",
    "knn_pipeline = Pipeline([(\"knn\", KNeighborsClassifier())])\n",
    "\n",
    "\n",
    "pipelines = {\n",
    "    \"Logistic Regression\": logisticregression_pipeline,\n",
    "    \"Decision Tree\": decisiontree_pipeline,\n",
    "    \"KNN\": knn_pipeline,\n",
    "}\n",
    "\n",
    "\n",
    "for name, pipeline in pipelines.items():\n",
    "    scores = cross_val_score(pipeline, X_reduced_SHAP, y, cv=10)\n",
    "    print(f\"{name}: {scores.mean():.2f}\")"
   ]
  },
  {
   "cell_type": "markdown",
   "id": "2c47b3cf",
   "metadata": {},
   "source": [
    "### Section Summary\n",
    "> * For this section, I used SHAP to identify the top 3 features with the most impact on the target. \n",
    "> * The features that SHAP identified are AnnualIncome, Age, FamilyMembers.\n",
    "> * These features are different than the three features identified by the Pearson correlation coefficient described in the previous section.\n",
    "> * Using SHAP, both Decision Tree and KNN surpassed the 75% accuracy standard."
   ]
  },
  {
   "cell_type": "markdown",
   "id": "0d4c9fde",
   "metadata": {},
   "source": [
    "## Feature Selection with Backward Elimination"
   ]
  },
  {
   "cell_type": "code",
   "execution_count": null,
   "id": "f61ebaed",
   "metadata": {
    "scrolled": true
   },
   "outputs": [],
   "source": [
    "selector = SelectKBest(score_func=f_classif, k=3)\n",
    "X_train_reduced = selector.fit_transform(X_train, y_train)\n",
    "X_test_reduced = selector.transform(X_test)\n",
    "\n",
    "logisticregression_pipeline = Pipeline([(\"lr\", LogisticRegression())])\n",
    "logisticregression_pipeline.fit(X_train_reduced, y_train)\n",
    "\n",
    "\n",
    "decisiontree_pipeline = Pipeline([(\"dt\", DecisionTreeClassifier())])\n",
    "decisiontree_pipeline.fit(X_train_reduced, y_train)\n",
    "\n",
    "\n",
    "knn_pipeline = Pipeline([(\"knn\", KNeighborsClassifier())])\n",
    "knn_pipeline.fit(X_train_reduced, y_train)\n",
    "\n",
    "\n",
    "pipelines = {\n",
    "    \"Logistic Regression\": logisticregression_pipeline,\n",
    "    \"Decision Tree\": decisiontree_pipeline,\n",
    "    \"KNN\": knn_pipeline,\n",
    "}\n",
    "\n",
    "\n",
    "for name, pipeline in pipelines.items():\n",
    "    score = pipeline.score(X_test_reduced, y_test)\n",
    "    print(f\"Test accuracy {name}: {score:.2f}\")\n",
    "    selected_indices = selector.get_support(indices=True)\n",
    "    print(f\"Selected feature indices: {selected_indices}\", end=\"\\n\\n\")"
   ]
  },
  {
   "cell_type": "markdown",
   "id": "36470294",
   "metadata": {},
   "source": [
    "### Section Summary\n",
    "> * For this section, I used Backward Elimination to pick the top 3 features with the most impact on the target. \n",
    "> * The features identified by this algorithm are AnnualIncome, TravelledAbroad, FrequentFlyer. \n",
    "> * With this algorithm, only Decision Tree surpassed the 75% accuracy standard. "
   ]
  },
  {
   "cell_type": "markdown",
   "id": "206f8e2f",
   "metadata": {},
   "source": [
    "# Optuna"
   ]
  },
  {
   "cell_type": "markdown",
   "id": "3eb3c764",
   "metadata": {},
   "source": [
    "## Logistic Regression with Optuna"
   ]
  },
  {
   "cell_type": "code",
   "execution_count": null,
   "id": "0197626a",
   "metadata": {},
   "outputs": [],
   "source": [
    "def logisticregression_optuna_objective(trial):\n",
    "\n",
    "    penalty = trial.suggest_categorical(\"penalty\", [\"none\", \"l2\"])\n",
    "    C = trial.suggest_loguniform(\"C\", 1e-5, 10)\n",
    "    solver = trial.suggest_categorical(\"solver\", [\"newton-cg\", \"lbfgs\", \"sag\", \"saga\"])\n",
    "\n",
    "    model = LogisticRegression(penalty=penalty, C=C, solver=solver)\n",
    "\n",
    "    model.fit(X_train, y_train)\n",
    "\n",
    "    y_predict = model.predict(X_test)\n",
    "    accuracy = accuracy_score(y_test, y_predict)\n",
    "\n",
    "    return accuracy"
   ]
  },
  {
   "cell_type": "code",
   "execution_count": null,
   "id": "8fad64ec",
   "metadata": {
    "scrolled": false
   },
   "outputs": [],
   "source": [
    "logisticregression_study = optuna.create_study(direction=\"maximize\")\n",
    "logisticregression_study.optimize(logisticregression_optuna_objective, n_trials=1000)"
   ]
  },
  {
   "cell_type": "code",
   "execution_count": null,
   "id": "7468ec16",
   "metadata": {},
   "outputs": [],
   "source": [
    "best_params = logisticregression_study.best_params\n",
    "print(f\"Best Accuracy Score: {logisticregression_study.best_value:.5f}\")\n",
    "print(\"Best hyperparameters:\", best_params)"
   ]
  },
  {
   "cell_type": "code",
   "execution_count": null,
   "id": "acb42bdd",
   "metadata": {},
   "outputs": [],
   "source": [
    "logisticregression_optuna = LogisticRegression(**best_params)\n",
    "logisticregression_optuna.fit(X_train, y_train)"
   ]
  },
  {
   "cell_type": "code",
   "execution_count": null,
   "id": "7bfad1a3",
   "metadata": {},
   "outputs": [],
   "source": [
    "y_predict = logisticregression_optuna.predict(X_test)"
   ]
  },
  {
   "cell_type": "code",
   "execution_count": null,
   "id": "6b86165e",
   "metadata": {},
   "outputs": [],
   "source": [
    "print(classification_report(y_test, y_predict))"
   ]
  },
  {
   "cell_type": "code",
   "execution_count": null,
   "id": "477ad182",
   "metadata": {
    "scrolled": false
   },
   "outputs": [],
   "source": [
    "plot_confusion_matrix(logisticregression_optuna, X_test, y_test, cmap=plt.cm.Reds)\n",
    "plt.xticks([0, 1], [\"No\", \"Yes\"])\n",
    "plt.yticks([0, 1], [\"No\", \"Yes\"])"
   ]
  },
  {
   "cell_type": "markdown",
   "id": "85e2b5a3",
   "metadata": {},
   "source": [
    "## Decision Tree with Optuna"
   ]
  },
  {
   "cell_type": "code",
   "execution_count": null,
   "id": "c3bc1c83",
   "metadata": {},
   "outputs": [],
   "source": [
    "def decisiontree_optuna_objective(trial):\n",
    "\n",
    "    criterion = trial.suggest_categorical(\"criterion\", [\"gini\", \"entropy\"])\n",
    "    splitter = trial.suggest_categorical(\"splitter\", [\"best\", \"random\"])\n",
    "    max_depth = trial.suggest_int(\"max_depth\", 1, 32)\n",
    "    min_samples_split = trial.suggest_int(\"min_samples_split\", 2, 10)\n",
    "    min_samples_leaf = trial.suggest_int(\"min_samples_leaf\", 1, 10)\n",
    "\n",
    "    model = DecisionTreeClassifier(\n",
    "        criterion=criterion,\n",
    "        splitter=splitter,\n",
    "        max_depth=max_depth,\n",
    "        min_samples_split=min_samples_split,\n",
    "        min_samples_leaf=min_samples_leaf,\n",
    "        random_state=0,\n",
    "    )\n",
    "    model.fit(X_train, y_train)\n",
    "\n",
    "    y_predict = model.predict(X_test)\n",
    "    accuracy = accuracy_score(y_test, y_predict)\n",
    "\n",
    "    return accuracy"
   ]
  },
  {
   "cell_type": "code",
   "execution_count": null,
   "id": "74cd745b",
   "metadata": {},
   "outputs": [],
   "source": [
    "decisiontree_study = optuna.create_study(direction=\"maximize\")\n",
    "decisiontree_study.optimize(decisiontree_optuna_objective, n_trials=100)"
   ]
  },
  {
   "cell_type": "code",
   "execution_count": null,
   "id": "549802fc",
   "metadata": {
    "scrolled": true
   },
   "outputs": [],
   "source": [
    "print(f\"Best Accuracy Score: {decisiontree_study.best_value:.5f}\")\n",
    "print(\"Best hyperparameters:\")\n",
    "for key, value in decisiontree_study.best_params.items():\n",
    "    print(f\"\\t{key}: {value}\")"
   ]
  },
  {
   "cell_type": "code",
   "execution_count": null,
   "id": "832be822",
   "metadata": {},
   "outputs": [],
   "source": [
    "decisiontree_best_params = decisiontree_study.best_params\n",
    "\n",
    "decisiontree_optuna = DecisionTreeClassifier(\n",
    "    criterion=decisiontree_best_params[\"criterion\"],\n",
    "    splitter=decisiontree_best_params[\"splitter\"],\n",
    "    max_depth=decisiontree_best_params[\"max_depth\"],\n",
    "    min_samples_split=decisiontree_best_params[\"min_samples_split\"],\n",
    "    min_samples_leaf=decisiontree_best_params[\"min_samples_leaf\"],\n",
    "    random_state=0,\n",
    ")\n",
    "decisiontree_optuna.fit(X_train, y_train)"
   ]
  },
  {
   "cell_type": "code",
   "execution_count": null,
   "id": "20b0eb1f",
   "metadata": {},
   "outputs": [],
   "source": [
    "y_predict = decisiontree_optuna.predict(X_test)"
   ]
  },
  {
   "cell_type": "code",
   "execution_count": null,
   "id": "92e563e3",
   "metadata": {},
   "outputs": [],
   "source": [
    "print(classification_report(y_test, y_predict))"
   ]
  },
  {
   "cell_type": "code",
   "execution_count": null,
   "id": "6906eb88",
   "metadata": {
    "scrolled": false
   },
   "outputs": [],
   "source": [
    "plot_confusion_matrix(decisiontree_optuna, X_test, y_test, cmap=plt.cm.Reds)\n",
    "plt.xticks([0, 1], [\"No\", \"Yes\"])\n",
    "plt.yticks([0, 1], [\"No\", \"Yes\"])"
   ]
  },
  {
   "cell_type": "markdown",
   "id": "31764eb4",
   "metadata": {},
   "source": [
    "## KNN with Optuna"
   ]
  },
  {
   "cell_type": "code",
   "execution_count": null,
   "id": "50d22862",
   "metadata": {},
   "outputs": [],
   "source": [
    "def knn_optuna_objective(trial):\n",
    "    n_neighbors = trial.suggest_int(\"n_neighbors\", 3, 20)\n",
    "    p = trial.suggest_int(\"p\", 1, 2)\n",
    "\n",
    "    model = KNeighborsClassifier(n_neighbors=n_neighbors, p=p)\n",
    "    model.fit(X_train, y_train)\n",
    "\n",
    "    y_predict = model.predict(X_test)\n",
    "    accuracy = accuracy_score(y_test, y_predict)\n",
    "\n",
    "    return accuracy"
   ]
  },
  {
   "cell_type": "code",
   "execution_count": null,
   "id": "d19b22e0",
   "metadata": {},
   "outputs": [],
   "source": [
    "knn_study = optuna.create_study(direction=\"maximize\")\n",
    "knn_study.optimize(knn_optuna_objective, n_trials=100)"
   ]
  },
  {
   "cell_type": "code",
   "execution_count": null,
   "id": "4562b6de",
   "metadata": {},
   "outputs": [],
   "source": [
    "print(f\"Best accuracy score: {knn_study.best_value:.5f}\")\n",
    "print(\"Best hyperparameters:\")\n",
    "for key, value in knn_study.best_params.items():\n",
    "    print(f\"\\t{key}: {value}\")"
   ]
  },
  {
   "cell_type": "code",
   "execution_count": null,
   "id": "259b9f7f",
   "metadata": {},
   "outputs": [],
   "source": [
    "knn_best_params = knn_study.best_params\n",
    "knn_optuna = KNeighborsClassifier(\n",
    "    n_neighbors=knn_best_params[\"n_neighbors\"], p=knn_best_params[\"p\"]\n",
    ")\n",
    "knn_optuna.fit(X_train, y_train)"
   ]
  },
  {
   "cell_type": "code",
   "execution_count": null,
   "id": "ce9be69e",
   "metadata": {},
   "outputs": [],
   "source": [
    "y_predict = knn_optuna.predict(X_test)"
   ]
  },
  {
   "cell_type": "code",
   "execution_count": null,
   "id": "de05a958",
   "metadata": {},
   "outputs": [],
   "source": [
    "print(classification_report(y_test, y_predict))"
   ]
  },
  {
   "cell_type": "code",
   "execution_count": null,
   "id": "ef1c3294",
   "metadata": {
    "scrolled": false
   },
   "outputs": [],
   "source": [
    "plot_confusion_matrix(knn_optuna, X_test, y_test, cmap=plt.cm.Reds)\n",
    "plt.xticks([0, 1], [\"No\", \"Yes\"])\n",
    "plt.yticks([0, 1], [\"No\", \"Yes\"])"
   ]
  },
  {
   "cell_type": "markdown",
   "id": "4ff17537",
   "metadata": {},
   "source": [
    "### Section Summary\n",
    "> * For this section, I used OPTUNA to choose the most optimal hyperparameters for each of the three models.  \n",
    "> * The results I obtained were considerably better than the previous results of this project.\n",
    "> * All three models surpassed accuracy scores above 80%."
   ]
  },
  {
   "cell_type": "markdown",
   "id": "622d7b8d",
   "metadata": {},
   "source": [
    "# Three-Model Stacking Classifier"
   ]
  },
  {
   "cell_type": "code",
   "execution_count": null,
   "id": "9b0b751b",
   "metadata": {},
   "outputs": [],
   "source": [
    "model1 = LogisticRegression()\n",
    "model2 = KNeighborsClassifier()\n",
    "model3 = DecisionTreeClassifier()\n",
    "\n",
    "estimators = [(\"lr\", model1), (\"knn\", model2), (\"dt\", model3)]\n",
    "stacking_clf = StackingClassifier(\n",
    "    estimators=estimators, final_estimator=LogisticRegression()\n",
    ")"
   ]
  },
  {
   "cell_type": "code",
   "execution_count": null,
   "id": "454fd63c",
   "metadata": {},
   "outputs": [],
   "source": [
    "stacking_clf = StackingClassifier(\n",
    "    estimators=estimators, final_estimator=LogisticRegression()\n",
    ")\n",
    "stacking_clf.fit(X_train, y_train)"
   ]
  },
  {
   "cell_type": "code",
   "execution_count": null,
   "id": "88669c46",
   "metadata": {},
   "outputs": [],
   "source": [
    "y_predict = stacking_clf.predict(X_test)"
   ]
  },
  {
   "cell_type": "code",
   "execution_count": null,
   "id": "036056f9",
   "metadata": {},
   "outputs": [],
   "source": [
    "print(classification_report(y_test, y_predict))"
   ]
  },
  {
   "cell_type": "code",
   "execution_count": null,
   "id": "58144933",
   "metadata": {
    "scrolled": false
   },
   "outputs": [],
   "source": [
    "plot_confusion_matrix(stacking_clf, X_test, y_test, cmap=plt.cm.Reds)\n",
    "plt.xticks([0, 1], [\"No\", \"Yes\"])\n",
    "plt.yticks([0, 1], [\"No\", \"Yes\"])"
   ]
  },
  {
   "cell_type": "markdown",
   "id": "b25d21d6",
   "metadata": {},
   "source": [
    "### Section Summary\n",
    "> * A stacking classifier trains several different classifiers and makes the final prediction based on the outputs of the individual classifiers.\n",
    "> * For this section, I used Stacking Classifier with the same three models as in previous sections: Logistic Regression, Decision Tree and K Nearest Neighbor.  \n",
    "> * Stacking Classifier also surpassed 80% accuracy score."
   ]
  },
  {
   "cell_type": "markdown",
   "id": "3cae1cdc",
   "metadata": {},
   "source": [
    "# Three-Model Soft Voting Classifier"
   ]
  },
  {
   "cell_type": "code",
   "execution_count": null,
   "id": "f6eb72bf",
   "metadata": {},
   "outputs": [],
   "source": [
    "model1 = LogisticRegression()\n",
    "model2 = KNeighborsClassifier()\n",
    "model3 = DecisionTreeClassifier()\n",
    "\n",
    "soft_voting_clf = VotingClassifier(\n",
    "    estimators=[(\"lr\", model1), (\"rf\", model2), (\"svc\", model3)], voting=\"soft\"\n",
    ")\n",
    "soft_voting_clf.fit(X_train, y_train)"
   ]
  },
  {
   "cell_type": "code",
   "execution_count": null,
   "id": "386a4049",
   "metadata": {},
   "outputs": [],
   "source": [
    "y_predict = soft_voting_clf.predict(X_test)"
   ]
  },
  {
   "cell_type": "code",
   "execution_count": null,
   "id": "3c8501e4",
   "metadata": {},
   "outputs": [],
   "source": [
    "print(classification_report(y_test, y_predict))"
   ]
  },
  {
   "cell_type": "code",
   "execution_count": null,
   "id": "e781a7ac",
   "metadata": {
    "scrolled": false
   },
   "outputs": [],
   "source": [
    "plot_confusion_matrix(soft_voting_clf, X_test, y_test, cmap=plt.cm.Reds)\n",
    "plt.xticks([0, 1], [\"No\", \"Yes\"])\n",
    "plt.yticks([0, 1], [\"No\", \"Yes\"])"
   ]
  },
  {
   "cell_type": "markdown",
   "id": "663565b3",
   "metadata": {},
   "source": [
    "### Section Summary\n",
    "> * The Soft Voting classifier averages the probabilities across all base classifiers for each class label. The class label with the highest average probability or score is selected as the final prediction.\n",
    "> * For this part of the project, I used Soft Voting Classifier with the same three models as in the previous sections. \n",
    "> * Soft Voting Classifier surpassed the 75% accuracy standard by a very slight margin."
   ]
  },
  {
   "cell_type": "markdown",
   "id": "52ab4f49",
   "metadata": {},
   "source": [
    "# Three-Model Hard Voting Classifier"
   ]
  },
  {
   "cell_type": "code",
   "execution_count": null,
   "id": "26519be7",
   "metadata": {},
   "outputs": [],
   "source": [
    "model1 = LogisticRegression()\n",
    "model2 = KNeighborsClassifier()\n",
    "model3 = DecisionTreeClassifier()\n",
    "\n",
    "hard_voting_clf = VotingClassifier(\n",
    "    estimators=[(\"lr\", model1), (\"rf\", model2), (\"svc\", model3)], voting=\"hard\"\n",
    ")\n",
    "hard_voting_clf.fit(X_train, y_train)"
   ]
  },
  {
   "cell_type": "code",
   "execution_count": null,
   "id": "7f455d6d",
   "metadata": {},
   "outputs": [],
   "source": [
    "y_predict = hard_voting_clf.predict(X_test)"
   ]
  },
  {
   "cell_type": "code",
   "execution_count": null,
   "id": "73f91dbe",
   "metadata": {},
   "outputs": [],
   "source": [
    "print(classification_report(y_test, y_predict))"
   ]
  },
  {
   "cell_type": "code",
   "execution_count": null,
   "id": "4b030303",
   "metadata": {
    "scrolled": false
   },
   "outputs": [],
   "source": [
    "plot_confusion_matrix(hard_voting_clf, X_test, y_test, cmap=plt.cm.Reds)\n",
    "plt.xticks([0, 1], [\"No\", \"Yes\"])\n",
    "plt.yticks([0, 1], [\"No\", \"Yes\"])"
   ]
  },
  {
   "cell_type": "markdown",
   "id": "aabf0e38",
   "metadata": {},
   "source": [
    "### Section Summary\n",
    "> * In a hard voting classifier, each classifier independently predicts the class labels for a given input, and the final prediction is determined by a majority vote. \n",
    "> * For this section, I used Hard Voting Classifier with the same three models as in the other sections above.\n",
    "> * Hard Voting Classifier obtained nearly 80% accuracy."
   ]
  },
  {
   "cell_type": "markdown",
   "id": "d29a69d7",
   "metadata": {},
   "source": [
    "# Conclusions"
   ]
  },
  {
   "cell_type": "markdown",
   "id": "1c9ac04d",
   "metadata": {},
   "source": [
    "Here is a summary of the conclusions that may be drawn from this report. "
   ]
  },
  {
   "cell_type": "markdown",
   "id": "325cc872",
   "metadata": {},
   "source": [
    ">* **The Analysis of the Data:** I reviewed nearly 2000 data points related to customers of a travel insurance business. <br> \n",
    ">* **The Goal of the Project:** The goal of this project was to find a model that could predict if a new customer would buy travel insurance with a high level of accuracy (75% or higher).<br>\n",
    ">* **Models:** I utilized several models with varying results. Many of the models exceeded the 75% accuracy standard. <br>\n",
    ">* **Feature Engineering and Hyperparameter Testing:** I tried feature engineering and hyperparameter testing with techniques such as Backward Elimination, SHAP and OPTUNA. OPTUNA showed the best results. In some cases, the model surpassed 80% accuracy.<br> \n",
    ">* **Multiple Model Classifiers:** I used Stacking, Soft-Voting and Hard-Voting classifiers, all with results that reached or even surpassed 80% accuracy. \n",
    ">* **Stochastic System:** Human behavior is hard to classify and cannot be easily capsulized and predicted. For this reason, obtaining a very high accuracy score (over 80%) may be very difficult to do.<br> \n",
    ">* **K Nearest Neighbor:** For a simple model and using only default hyperparameters, K Nearest was able to get better or similar results than any other model, including the more complex ones.<br>  \n",
    ">* **Business Recommendation:** With accuracy scores of over 80%, I recommend utilizing a simple KNN machine learning model to predict if a future customer will purchase travel insurance.<br> "
   ]
  },
  {
   "cell_type": "markdown",
   "id": "f4c7f3d5",
   "metadata": {},
   "source": [
    "# Suggestions for Improvement"
   ]
  },
  {
   "cell_type": "markdown",
   "id": "1885cf09",
   "metadata": {},
   "source": [
    "This report has certain weaknesses. In this section, I outlined those weaknesses and indicated some avenues for improvement. "
   ]
  },
  {
   "cell_type": "markdown",
   "id": "612c766e",
   "metadata": {},
   "source": [
    ">* **Domain Knowledge:** It is best if the data scientist has adequate domain knowledge on the topic of the analysis. I do not have any expertise in the insurance or travel industry. There may be parts of the data that I have overlooked that may have been important and I may have given importance to parts that may have had little significance. <br>\n",
    ">* **More Detailed Data on Customers:** The data provide only general employment information, namely if the person is a government worker or works in the private sector. These categories are too broad. More detailed information could have helped make better predictions. <br>  \n",
    ">* **Feature Engineering:** Some of the data could have been combined in a way to create additional features. For example, I could have created a new feature by combining AnnualIncome with FamilyMembers to obtain income per family member. This could have added more information to the models and created better performance.  <br>  \n",
    ">* **Classifier Models:** For the Classifier models, I could have used the based models with hyperparameters identified as most effecitive by Optuna. I may have gotten even better results.  <br> \n",
    ">* **Pipeline:** It would have been more efficient and cleaner to put the pre-processing steps into a pipeline.\n",
    ">* **Statistics:** Continue to improve my statistical knowledge to create better analyses.<br>\n",
    ">* **Pandas:** Continue to learn to utilize more optimized Pandas techniques and algorithms.<br>\n",
    ">* **Seaborn and Matplotlib:** Continue to improve my knowledge of Seaborn and Matplotlib for creating visualizations. <br>\n",
    ">* **Python Code:** Continue to write better and more efficient Python code. <br>\n",
    ">* **Clean Code:** Continue to adhere to the principles of writing clean code. <br>\n",
    ">* **Readability and Efficiency:** Continue to improve my skills to find the delicate balance between readability and efficiency in coding.<br>"
   ]
  },
  {
   "cell_type": "markdown",
   "id": "86374399",
   "metadata": {},
   "source": [
    "# Image Credit"
   ]
  },
  {
   "cell_type": "markdown",
   "id": "214d62a7",
   "metadata": {},
   "source": [
    "Image by <a href=\"https://pixabay.com/users/mytz-4882715/?utm_source=link-attribution&amp;utm_medium=referral&amp;utm_campaign=image&amp;utm_content=2640661\">MYTZ</a> from <a href=\"https://pixabay.com//?utm_source=link-attribution&amp;utm_medium=referral&amp;utm_campaign=image&amp;utm_content=2640661\">Pixabay</a>"
   ]
  }
 ],
 "metadata": {
  "kernelspec": {
   "display_name": "Python 3 (ipykernel)",
   "language": "python",
   "name": "python3"
  },
  "language_info": {
   "codemirror_mode": {
    "name": "ipython",
    "version": 3
   },
   "file_extension": ".py",
   "mimetype": "text/x-python",
   "name": "python",
   "nbconvert_exporter": "python",
   "pygments_lexer": "ipython3",
   "version": "3.10.1"
  },
  "toc": {
   "base_numbering": 1,
   "nav_menu": {},
   "number_sections": true,
   "sideBar": true,
   "skip_h1_title": false,
   "title_cell": "Table of Contents",
   "title_sidebar": "Contents",
   "toc_cell": false,
   "toc_position": {},
   "toc_section_display": true,
   "toc_window_display": true
  }
 },
 "nbformat": 4,
 "nbformat_minor": 5
}
