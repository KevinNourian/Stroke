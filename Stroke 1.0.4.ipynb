{
 "cells": [
  {
   "cell_type": "markdown",
   "id": "431c49c2",
   "metadata": {},
   "source": [
    "# **Imports**"
   ]
  },
  {
   "cell_type": "code",
   "execution_count": 1,
   "id": "c26cb7fc",
   "metadata": {},
   "outputs": [],
   "source": [
    "import pandas as pd\n",
    "import numpy as np\n",
    "import seaborn as sns\n",
    "import matplotlib as mpl\n",
    "import matplotlib.pyplot as plt\n",
    "\n",
    "from sklearn.preprocessing import LabelEncoder\n",
    "from sklearn.feature_selection import mutual_info_classif\n",
    "from sklearn.linear_model import LogisticRegression\n",
    "from sklearn.model_selection import train_test_split\n",
    "from sklearn.preprocessing import RobustScaler\n",
    "from sklearn.model_selection import GridSearchCV\n",
    "\n",
    "from sklearn.metrics import confusion_matrix, accuracy_score, classification_report\n",
    "\n",
    "from sklearn.neighbors import KNeighborsClassifier\n",
    "from sklearn.tree import DecisionTreeClassifier\n",
    "from sklearn.ensemble import AdaBoostClassifier\n",
    "import lightgbm as lgb\n",
    "import xgboost\n",
    "\n",
    "from imblearn.ensemble import EasyEnsembleClassifier\n",
    "from imblearn.ensemble import BalancedRandomForestClassifier\n",
    "from imblearn.over_sampling import SMOTE\n",
    "from imblearn.under_sampling import RandomUnderSampler\n",
    "\n",
    "from sklearn.ensemble import VotingClassifier\n",
    "from sklearn.svm import SVC\n",
    "from sklearn.ensemble import StackingClassifier\n",
    "\n",
    "from sklearn.metrics import classification_report, roc_auc_score, roc_curve, precision_recall_curve, auc\n"
   ]
  },
  {
   "cell_type": "markdown",
   "id": "c932c355",
   "metadata": {},
   "source": [
    "# **Functions**"
   ]
  },
  {
   "cell_type": "code",
   "execution_count": 2,
   "id": "c81aaa0f",
   "metadata": {},
   "outputs": [],
   "source": [
    "def read_file(file_path):\n",
    "    data = pd.read_csv(file_path, index_col=0)\n",
    "\n",
    "    return data"
   ]
  },
  {
   "cell_type": "code",
   "execution_count": 3,
   "id": "8b388b4e",
   "metadata": {},
   "outputs": [],
   "source": [
    "def label_encoding(data, column, mapping):\n",
    "    \n",
    "    data[column] = data[column].map(mapping)\n",
    "\n",
    "    return data[column]"
   ]
  },
  {
   "cell_type": "markdown",
   "id": "8118418b",
   "metadata": {},
   "source": [
    "# **Loading Data**"
   ]
  },
  {
   "cell_type": "code",
   "execution_count": 4,
   "id": "45012ede",
   "metadata": {},
   "outputs": [],
   "source": [
    "file_path = r\"C:\\Users\\Space\\Documents\\py\\Projects\\TuringCollege\\Stroke\\Stroke_New\\Data\\stroke.csv\"\n",
    "data = read_file(file_path)\n",
    "data = data.drop(columns=['ID'])"
   ]
  },
  {
   "cell_type": "markdown",
   "id": "f131b606",
   "metadata": {},
   "source": [
    "# **BMI Missing Values**"
   ]
  },
  {
   "cell_type": "code",
   "execution_count": 5,
   "id": "9dd5d6c7",
   "metadata": {},
   "outputs": [],
   "source": [
    "data['BMI'] = data['BMI'].fillna(0)\n",
    "data['BMI Available'] = 0  \n",
    "data.loc[data['BMI'] != 0, 'BMI Available'] = 1 "
   ]
  },
  {
   "cell_type": "markdown",
   "id": "d200a28c",
   "metadata": {},
   "source": [
    "# **Encoding**"
   ]
  },
  {
   "cell_type": "code",
   "execution_count": 6,
   "id": "deeb97aa",
   "metadata": {},
   "outputs": [],
   "source": [
    "gender_mapping = {'Male': 1, 'Female': 2}\n",
    "data ['Gender'] = label_encoding(data, 'Gender', gender_mapping)"
   ]
  },
  {
   "cell_type": "code",
   "execution_count": 7,
   "id": "10add192",
   "metadata": {},
   "outputs": [],
   "source": [
    "marriage_mapping = {'Yes': 1, 'No': 2}\n",
    "data ['Ever Married']= label_encoding(data, 'Ever Married', marriage_mapping)"
   ]
  },
  {
   "cell_type": "code",
   "execution_count": 8,
   "id": "ac449e20",
   "metadata": {},
   "outputs": [],
   "source": [
    "work_mapping = {'Private': 1, 'Self-employed': 2, 'Govt_job': 3, 'Never_worked': 4, 'children': 5}\n",
    "data['Work'] = label_encoding(data, 'Work', work_mapping)"
   ]
  },
  {
   "cell_type": "code",
   "execution_count": 9,
   "id": "ce9a60ff",
   "metadata": {},
   "outputs": [],
   "source": [
    "residence_mapping = {'Urban': 1, 'Rural': 2}\n",
    "data['Residence'] = label_encoding(data, 'Residence', residence_mapping)"
   ]
  },
  {
   "cell_type": "code",
   "execution_count": 10,
   "id": "c14eed55",
   "metadata": {},
   "outputs": [],
   "source": [
    "smoking_mapping = {'never smoked': 1, 'smokes': 2, 'formerly smoked': 3, 'Unknown': 4}\n",
    "data['Smoking'] = label_encoding(data, 'Smoking', smoking_mapping)"
   ]
  },
  {
   "cell_type": "markdown",
   "id": "a37e483e",
   "metadata": {},
   "source": [
    "# **Grouping by Age**"
   ]
  },
  {
   "cell_type": "code",
   "execution_count": 11,
   "id": "1666164c",
   "metadata": {},
   "outputs": [],
   "source": [
    "gender_stroke = data.groupby('Age')['Stroke'].sum()"
   ]
  },
  {
   "cell_type": "code",
   "execution_count": 12,
   "id": "cb3a073c",
   "metadata": {},
   "outputs": [],
   "source": [
    "data = data[data['Age'] > 57]"
   ]
  },
  {
   "cell_type": "code",
   "execution_count": 13,
   "id": "42ad5e8b",
   "metadata": {},
   "outputs": [
    {
     "data": {
      "text/plain": [
       "(1524, 12)"
      ]
     },
     "execution_count": 13,
     "metadata": {},
     "output_type": "execute_result"
    }
   ],
   "source": [
    "data.shape"
   ]
  },
  {
   "cell_type": "code",
   "execution_count": 14,
   "id": "fab024b9",
   "metadata": {},
   "outputs": [
    {
     "data": {
      "text/html": [
       "<div>\n",
       "<style scoped>\n",
       "    .dataframe tbody tr th:only-of-type {\n",
       "        vertical-align: middle;\n",
       "    }\n",
       "\n",
       "    .dataframe tbody tr th {\n",
       "        vertical-align: top;\n",
       "    }\n",
       "\n",
       "    .dataframe thead th {\n",
       "        text-align: right;\n",
       "    }\n",
       "</style>\n",
       "<table border=\"1\" class=\"dataframe\">\n",
       "  <thead>\n",
       "    <tr style=\"text-align: right;\">\n",
       "      <th></th>\n",
       "      <th>Gender</th>\n",
       "      <th>Age</th>\n",
       "      <th>Hypertension</th>\n",
       "      <th>Heart Disease</th>\n",
       "      <th>Ever Married</th>\n",
       "      <th>Work</th>\n",
       "      <th>Residence</th>\n",
       "      <th>AVG Glucose</th>\n",
       "      <th>BMI</th>\n",
       "      <th>Smoking</th>\n",
       "      <th>Stroke</th>\n",
       "      <th>BMI Available</th>\n",
       "    </tr>\n",
       "  </thead>\n",
       "  <tbody>\n",
       "    <tr>\n",
       "      <th>0</th>\n",
       "      <td>1</td>\n",
       "      <td>67.0</td>\n",
       "      <td>0</td>\n",
       "      <td>1</td>\n",
       "      <td>1</td>\n",
       "      <td>1</td>\n",
       "      <td>1</td>\n",
       "      <td>228.69</td>\n",
       "      <td>36.6</td>\n",
       "      <td>3</td>\n",
       "      <td>1</td>\n",
       "      <td>1</td>\n",
       "    </tr>\n",
       "    <tr>\n",
       "      <th>1</th>\n",
       "      <td>2</td>\n",
       "      <td>61.0</td>\n",
       "      <td>0</td>\n",
       "      <td>0</td>\n",
       "      <td>1</td>\n",
       "      <td>2</td>\n",
       "      <td>2</td>\n",
       "      <td>202.21</td>\n",
       "      <td>0.0</td>\n",
       "      <td>1</td>\n",
       "      <td>1</td>\n",
       "      <td>0</td>\n",
       "    </tr>\n",
       "    <tr>\n",
       "      <th>2</th>\n",
       "      <td>1</td>\n",
       "      <td>80.0</td>\n",
       "      <td>0</td>\n",
       "      <td>1</td>\n",
       "      <td>1</td>\n",
       "      <td>1</td>\n",
       "      <td>2</td>\n",
       "      <td>105.92</td>\n",
       "      <td>32.5</td>\n",
       "      <td>1</td>\n",
       "      <td>1</td>\n",
       "      <td>1</td>\n",
       "    </tr>\n",
       "    <tr>\n",
       "      <th>4</th>\n",
       "      <td>2</td>\n",
       "      <td>79.0</td>\n",
       "      <td>1</td>\n",
       "      <td>0</td>\n",
       "      <td>1</td>\n",
       "      <td>2</td>\n",
       "      <td>2</td>\n",
       "      <td>174.12</td>\n",
       "      <td>24.0</td>\n",
       "      <td>1</td>\n",
       "      <td>1</td>\n",
       "      <td>1</td>\n",
       "    </tr>\n",
       "    <tr>\n",
       "      <th>5</th>\n",
       "      <td>1</td>\n",
       "      <td>81.0</td>\n",
       "      <td>0</td>\n",
       "      <td>0</td>\n",
       "      <td>1</td>\n",
       "      <td>1</td>\n",
       "      <td>1</td>\n",
       "      <td>186.21</td>\n",
       "      <td>29.0</td>\n",
       "      <td>3</td>\n",
       "      <td>1</td>\n",
       "      <td>1</td>\n",
       "    </tr>\n",
       "  </tbody>\n",
       "</table>\n",
       "</div>"
      ],
      "text/plain": [
       "   Gender   Age  Hypertension  Heart Disease  Ever Married  Work  Residence  \\\n",
       "0       1  67.0             0              1             1     1          1   \n",
       "1       2  61.0             0              0             1     2          2   \n",
       "2       1  80.0             0              1             1     1          2   \n",
       "4       2  79.0             1              0             1     2          2   \n",
       "5       1  81.0             0              0             1     1          1   \n",
       "\n",
       "   AVG Glucose   BMI  Smoking  Stroke  BMI Available  \n",
       "0       228.69  36.6        3       1              1  \n",
       "1       202.21   0.0        1       1              0  \n",
       "2       105.92  32.5        1       1              1  \n",
       "4       174.12  24.0        1       1              1  \n",
       "5       186.21  29.0        3       1              1  "
      ]
     },
     "execution_count": 14,
     "metadata": {},
     "output_type": "execute_result"
    }
   ],
   "source": [
    "data.head()"
   ]
  },
  {
   "cell_type": "markdown",
   "id": "6aee833a",
   "metadata": {},
   "source": [
    "# **Machine Learning**"
   ]
  },
  {
   "cell_type": "code",
   "execution_count": 15,
   "id": "f43fc932",
   "metadata": {},
   "outputs": [],
   "source": [
    "target_column = 'Stroke'\n",
    "random_seed = 42"
   ]
  },
  {
   "cell_type": "code",
   "execution_count": 16,
   "id": "31b6fa40",
   "metadata": {},
   "outputs": [],
   "source": [
    "X = data.drop(columns=[target_column])  \n",
    "y = data[target_column]"
   ]
  },
  {
   "cell_type": "markdown",
   "id": "283ef08b",
   "metadata": {},
   "source": [
    "# **TPOT**"
   ]
  },
  {
   "cell_type": "code",
   "execution_count": 17,
   "id": "8af48378",
   "metadata": {},
   "outputs": [
    {
     "name": "stderr",
     "output_type": "stream",
     "text": [
      "c:\\Users\\Space\\Documents\\py\\Projects\\TuringCollege\\Stroke\\venv\\Lib\\site-packages\\tpot\\builtins\\__init__.py:36: UserWarning: Warning: optional dependency `torch` is not available. - skipping import of NN models.\n",
      "  warnings.warn(\"Warning: optional dependency `torch` is not available. - skipping import of NN models.\")\n"
     ]
    },
    {
     "name": "stdout",
     "output_type": "stream",
     "text": [
      "                                                                            \n",
      "Generation 1 - Current best internal CV score: 0.824735968607342\n",
      "                                                                            \n",
      "Generation 2 - Current best internal CV score: 0.824735968607342\n",
      "                                                                            \n",
      "Best pipeline: BernoulliNB(input_matrix, alpha=1.0, fit_prior=True)\n",
      "Best Pipeline: Pipeline(steps=[('bernoullinb', BernoulliNB())])\n",
      "Precision: 0.8467199949445214\n",
      "Recall: 0.8655737704918033\n",
      "AUC: 0.6737108547209794\n"
     ]
    }
   ],
   "source": [
    "import warnings\n",
    "from tpot import TPOTClassifier\n",
    "from sklearn.datasets import load_digits\n",
    "from sklearn.model_selection import train_test_split\n",
    "from sklearn.metrics import precision_score, recall_score, roc_auc_score\n",
    "\n",
    "# Suppress user warnings\n",
    "warnings.filterwarnings('ignore', category=UserWarning)\n",
    "\n",
    "# Load a dataset\n",
    "\n",
    "X_train, X_test, y_train, y_test = train_test_split(X, y, test_size=0.2, random_state=42)\n",
    "\n",
    "# Initialize and fit TPOT with F1 scoring\n",
    "tpot = TPOTClassifier(generations=2, population_size=20, verbosity=2, scoring='f1_weighted')\n",
    "tpot.fit(X_train, y_train)\n",
    "\n",
    "# Extract the best pipeline\n",
    "best_pipeline = tpot.fitted_pipeline_\n",
    "\n",
    "# Make predictions\n",
    "y_pred = best_pipeline.predict(X_test)\n",
    "y_pred_proba = best_pipeline.predict_proba(X_test)[:, 1]\n",
    "\n",
    "# Calculate metrics\n",
    "precision = precision_score(y_test, y_pred, average='weighted')\n",
    "recall = recall_score(y_test, y_pred, average='weighted')\n",
    "auc = roc_auc_score(y_test, y_pred_proba, average='weighted')\n",
    "\n",
    "# Display the results\n",
    "print(\"Best Pipeline:\", best_pipeline)\n",
    "print(\"Precision:\", precision)\n",
    "print(\"Recall:\", recall)\n",
    "print(\"AUC:\", auc)\n",
    "\n",
    "# Export the best pipeline as a Python script\n",
    "tpot.export('tpot_best_pipeline.py')\n"
   ]
  }
 ],
 "metadata": {
  "kernelspec": {
   "display_name": "Python 3 (ipykernel)",
   "language": "python",
   "name": "python3"
  },
  "language_info": {
   "codemirror_mode": {
    "name": "ipython",
    "version": 3
   },
   "file_extension": ".py",
   "mimetype": "text/x-python",
   "name": "python",
   "nbconvert_exporter": "python",
   "pygments_lexer": "ipython3",
   "version": "3.12.3"
  },
  "toc": {
   "base_numbering": 1,
   "nav_menu": {},
   "number_sections": true,
   "sideBar": true,
   "skip_h1_title": false,
   "title_cell": "Table of Contents",
   "title_sidebar": "Contents",
   "toc_cell": false,
   "toc_position": {},
   "toc_section_display": true,
   "toc_window_display": false
  }
 },
 "nbformat": 4,
 "nbformat_minor": 5
}
