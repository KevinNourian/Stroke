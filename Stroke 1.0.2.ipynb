{
 "cells": [
  {
   "cell_type": "markdown",
   "id": "431c49c2",
   "metadata": {},
   "source": [
    "# **Imports**"
   ]
  },
  {
   "cell_type": "code",
   "execution_count": 1,
   "id": "c26cb7fc",
   "metadata": {},
   "outputs": [],
   "source": [
    "import pandas as pd\n",
    "import numpy as np\n",
    "import seaborn as sns\n",
    "import matplotlib as mpl\n",
    "import matplotlib.pyplot as plt\n",
    "\n",
    "from sklearn.preprocessing import LabelEncoder\n",
    "from sklearn.feature_selection import mutual_info_classif\n",
    "from sklearn.linear_model import LogisticRegression\n",
    "from sklearn.model_selection import train_test_split\n",
    "from sklearn.preprocessing import RobustScaler\n",
    "from sklearn.model_selection import GridSearchCV\n",
    "\n",
    "from sklearn.metrics import confusion_matrix, accuracy_score, classification_report\n",
    "\n",
    "from sklearn.neighbors import KNeighborsClassifier\n",
    "from sklearn.tree import DecisionTreeClassifier\n",
    "from sklearn.ensemble import AdaBoostClassifier\n",
    "import lightgbm as lgb\n",
    "import xgboost\n",
    "\n",
    "from imblearn.ensemble import EasyEnsembleClassifier\n",
    "from imblearn.ensemble import BalancedRandomForestClassifier\n",
    "from imblearn.over_sampling import SMOTE\n",
    "from imblearn.under_sampling import RandomUnderSampler\n",
    "\n",
    "from sklearn.ensemble import VotingClassifier\n",
    "from sklearn.svm import SVC\n",
    "from sklearn.ensemble import StackingClassifier\n",
    "\n",
    "from sklearn.metrics import classification_report, roc_auc_score, roc_curve, precision_recall_curve, auc\n"
   ]
  },
  {
   "cell_type": "markdown",
   "id": "c932c355",
   "metadata": {},
   "source": [
    "# **Functions**"
   ]
  },
  {
   "cell_type": "code",
   "execution_count": 2,
   "id": "c81aaa0f",
   "metadata": {},
   "outputs": [],
   "source": [
    "def read_file(file_path):\n",
    "    data = pd.read_csv(file_path, index_col=0)\n",
    "\n",
    "    return data"
   ]
  },
  {
   "cell_type": "code",
   "execution_count": 3,
   "id": "8b388b4e",
   "metadata": {},
   "outputs": [],
   "source": [
    "def label_encoding(data, column, mapping):\n",
    "    \n",
    "    data[column] = data[column].map(mapping)\n",
    "\n",
    "    return data[column]"
   ]
  },
  {
   "cell_type": "markdown",
   "id": "8118418b",
   "metadata": {},
   "source": [
    "# **Loading Data**"
   ]
  },
  {
   "cell_type": "code",
   "execution_count": 4,
   "id": "45012ede",
   "metadata": {},
   "outputs": [],
   "source": [
    "file_path = r\"C:\\Users\\Space\\Documents\\py\\Projects\\TuringCollege\\Stroke\\Stroke_New\\Data\\stroke.csv\"\n",
    "data = read_file(file_path)\n",
    "data = data.drop(columns=['ID'])"
   ]
  },
  {
   "cell_type": "markdown",
   "id": "f131b606",
   "metadata": {},
   "source": [
    "# **BMI Missing Values**"
   ]
  },
  {
   "cell_type": "code",
   "execution_count": 5,
   "id": "9dd5d6c7",
   "metadata": {},
   "outputs": [],
   "source": [
    "data['BMI'] = data['BMI'].fillna(0)\n",
    "data['BMI Available'] = 0  \n",
    "data.loc[data['BMI'] != 0, 'BMI Available'] = 1 "
   ]
  },
  {
   "cell_type": "markdown",
   "id": "d200a28c",
   "metadata": {},
   "source": [
    "# **Encoding**"
   ]
  },
  {
   "cell_type": "code",
   "execution_count": 6,
   "id": "deeb97aa",
   "metadata": {},
   "outputs": [],
   "source": [
    "gender_mapping = {'Male': 1, 'Female': 2}\n",
    "data ['Gender'] = label_encoding(data, 'Gender', gender_mapping)"
   ]
  },
  {
   "cell_type": "code",
   "execution_count": 7,
   "id": "10add192",
   "metadata": {},
   "outputs": [],
   "source": [
    "marriage_mapping = {'Yes': 1, 'No': 2}\n",
    "data ['Ever Married']= label_encoding(data, 'Ever Married', marriage_mapping)"
   ]
  },
  {
   "cell_type": "code",
   "execution_count": 8,
   "id": "ac449e20",
   "metadata": {},
   "outputs": [],
   "source": [
    "work_mapping = {'Private': 1, 'Self-employed': 2, 'Govt_job': 3, 'Never_worked': 4, 'children': 5}\n",
    "data['Work'] = label_encoding(data, 'Work', work_mapping)"
   ]
  },
  {
   "cell_type": "code",
   "execution_count": 9,
   "id": "ce9a60ff",
   "metadata": {},
   "outputs": [],
   "source": [
    "residence_mapping = {'Urban': 1, 'Rural': 2}\n",
    "data['Residence'] = label_encoding(data, 'Residence', residence_mapping)"
   ]
  },
  {
   "cell_type": "code",
   "execution_count": 10,
   "id": "c14eed55",
   "metadata": {},
   "outputs": [],
   "source": [
    "smoking_mapping = {'never smoked': 1, 'smokes': 2, 'formerly smoked': 3, 'Unknown': 4}\n",
    "data['Smoking'] = label_encoding(data, 'Smoking', smoking_mapping)"
   ]
  },
  {
   "cell_type": "markdown",
   "id": "a37e483e",
   "metadata": {},
   "source": [
    "# **Grouping by Age**"
   ]
  },
  {
   "cell_type": "code",
   "execution_count": 11,
   "id": "1666164c",
   "metadata": {},
   "outputs": [],
   "source": [
    "gender_stroke = data.groupby('Age')['Stroke'].sum()"
   ]
  },
  {
   "cell_type": "code",
   "execution_count": 12,
   "id": "cb3a073c",
   "metadata": {},
   "outputs": [],
   "source": [
    "data = data[data['Age'] > 57]"
   ]
  },
  {
   "cell_type": "code",
   "execution_count": 13,
   "id": "42ad5e8b",
   "metadata": {},
   "outputs": [
    {
     "data": {
      "text/plain": [
       "(1524, 12)"
      ]
     },
     "execution_count": 13,
     "metadata": {},
     "output_type": "execute_result"
    }
   ],
   "source": [
    "data.shape"
   ]
  },
  {
   "cell_type": "markdown",
   "id": "6aee833a",
   "metadata": {},
   "source": [
    "# **Machine Learning**"
   ]
  },
  {
   "cell_type": "markdown",
   "id": "611b23d4",
   "metadata": {},
   "source": [
    "## **Scaling**"
   ]
  },
  {
   "cell_type": "code",
   "execution_count": 14,
   "id": "f43fc932",
   "metadata": {},
   "outputs": [],
   "source": [
    "target_column = 'Stroke'\n",
    "random_seed = 42"
   ]
  },
  {
   "cell_type": "code",
   "execution_count": 15,
   "id": "31b6fa40",
   "metadata": {},
   "outputs": [],
   "source": [
    "X = data.drop(columns=[target_column])  \n",
    "y = data[target_column]"
   ]
  },
  {
   "cell_type": "code",
   "execution_count": 16,
   "id": "dcedaf65",
   "metadata": {},
   "outputs": [],
   "source": [
    "X_train, X_test, y_train, y_test = train_test_split(X, y, test_size=0.2, random_state=random_seed, stratify=y)"
   ]
  },
  {
   "cell_type": "code",
   "execution_count": 17,
   "id": "7ee5d8bb",
   "metadata": {},
   "outputs": [],
   "source": [
    "columns_to_scale = ['Age', 'AVG Glucose', 'BMI']\n",
    "\n",
    "scaler = RobustScaler()\n",
    "\n",
    "X_train_scaled = X_train.copy()\n",
    "X_test_scaled = X_test.copy()\n",
    "\n",
    "X_train_scaled[columns_to_scale] = scaler.fit_transform(X_train[columns_to_scale])\n",
    "X_test_scaled[columns_to_scale] = scaler.transform(X_test[columns_to_scale])"
   ]
  },
  {
   "cell_type": "markdown",
   "id": "cea483b6",
   "metadata": {},
   "source": [
    "## **Balanced Models**    "
   ]
  },
  {
   "cell_type": "code",
   "execution_count": 18,
   "id": "23de2146",
   "metadata": {},
   "outputs": [],
   "source": [
    "# log = LogisticRegression(class_weight='balanced', random_state=random_seed)\n",
    "# log.fit(X_train_scaled, y_train)\n",
    "\n",
    "# y_predict = log.predict(X_test_scaled)\n",
    "\n",
    "# y_predict_proba = log.predict_proba(X_test_scaled)[:, 1]  # Probability estimates for the positive class\n",
    "# auc_score = roc_auc_score(y_test, y_predict_proba)\n",
    "# precision, recall, _ = precision_recall_curve(y_test, y_predict_proba)\n",
    "# auc_pr_score = auc(recall, precision)\n",
    "\n",
    "# print(classification_report(y_test, y_predict, zero_division=0))\n",
    "# print(f\"AUC Score: {auc_score:.2f}\")\n",
    "# print(f\"AUC-PR Score: {auc_pr_score:.2f}\")"
   ]
  },
  {
   "cell_type": "markdown",
   "id": "0b4d80f1",
   "metadata": {},
   "source": [
    "# **Logistic Regression with Elasticnet Regularization**"
   ]
  },
  {
   "cell_type": "code",
   "execution_count": 19,
   "id": "4af00c39",
   "metadata": {},
   "outputs": [],
   "source": [
    "en = LogisticRegression(\n",
    "    penalty=\"elasticnet\",\n",
    "    solver=\"saga\",\n",
    "    multi_class=\"ovr\",\n",
    "    max_iter=5000,\n",
    "    l1_ratio=0.5,\n",
    "    C=1,\n",
    ")"
   ]
  },
  {
   "cell_type": "code",
   "execution_count": 20,
   "id": "ba53c0b0",
   "metadata": {},
   "outputs": [
    {
     "name": "stdout",
     "output_type": "stream",
     "text": [
      "              precision    recall  f1-score   support\n",
      "\n",
      "           0       0.88      1.00      0.93       266\n",
      "           1       0.67      0.05      0.10        39\n",
      "\n",
      "    accuracy                           0.88       305\n",
      "   macro avg       0.77      0.52      0.51       305\n",
      "weighted avg       0.85      0.88      0.83       305\n",
      "\n",
      "AUC Score: 0.77\n",
      "AUC-PR Score: 0.32\n"
     ]
    }
   ],
   "source": [
    "en.fit(X_train_scaled, y_train)\n",
    "\n",
    "y_predict = en.predict(X_test_scaled)\n",
    "\n",
    "y_predict_proba = en.predict_proba(X_test_scaled)[:, 1]  # Probability estimates for the positive class\n",
    "auc_score = roc_auc_score(y_test, y_predict_proba)\n",
    "precision, recall, _ = precision_recall_curve(y_test, y_predict_proba)\n",
    "auc_pr_score = auc(recall, precision)\n",
    "\n",
    "print(classification_report(y_test, y_predict, zero_division=0))\n",
    "print(f\"AUC Score: {auc_score:.2f}\")\n",
    "print(f\"AUC-PR Score: {auc_pr_score:.2f}\")"
   ]
  },
  {
   "cell_type": "code",
   "execution_count": null,
   "id": "ddf01edd",
   "metadata": {},
   "outputs": [],
   "source": []
  }
 ],
 "metadata": {
  "kernelspec": {
   "display_name": "Python 3 (ipykernel)",
   "language": "python",
   "name": "python3"
  },
  "language_info": {
   "codemirror_mode": {
    "name": "ipython",
    "version": 3
   },
   "file_extension": ".py",
   "mimetype": "text/x-python",
   "name": "python",
   "nbconvert_exporter": "python",
   "pygments_lexer": "ipython3",
   "version": "3.12.3"
  },
  "toc": {
   "base_numbering": 1,
   "nav_menu": {},
   "number_sections": true,
   "sideBar": true,
   "skip_h1_title": false,
   "title_cell": "Table of Contents",
   "title_sidebar": "Contents",
   "toc_cell": false,
   "toc_position": {},
   "toc_section_display": true,
   "toc_window_display": false
  }
 },
 "nbformat": 4,
 "nbformat_minor": 5
}
